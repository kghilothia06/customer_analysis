{
 "cells": [
  {
   "cell_type": "markdown",
   "metadata": {},
   "source": [
    "# Importing python libraries"
   ]
  },
  {
   "cell_type": "code",
   "execution_count": 1,
   "metadata": {},
   "outputs": [],
   "source": [
    "import numpy as np #for numerical computations\n",
    "import pandas as pd #for reading the dataset\n",
    "import matplotlib.pyplot as plt #for data visualization\n",
    "import seaborn as sns #for interactive visualizations"
   ]
  },
  {
   "cell_type": "markdown",
   "metadata": {},
   "source": [
    "Importing the dataset"
   ]
  },
  {
   "cell_type": "code",
   "execution_count": 2,
   "metadata": {},
   "outputs": [],
   "source": [
    "dataset = pd.read_excel('Customers2.xlsx')"
   ]
  },
  {
   "cell_type": "markdown",
   "metadata": {},
   "source": [
    "# exploring the dataset"
   ]
  },
  {
   "cell_type": "code",
   "execution_count": 3,
   "metadata": {},
   "outputs": [
    {
     "data": {
      "text/plain": [
       "<bound method DataFrame.info of      CustomerID  NumCalls  NumEmails  NumDownloads  NumEvents  NumForms  \\\n",
       "0             1        33         19             1          0         1   \n",
       "1             2         0          1             0          1         0   \n",
       "2             3         4          6             2          0         0   \n",
       "3             4         0         10             0          0         1   \n",
       "4             5         7          0             0          0         0   \n",
       "5             6        10          1             0          1         0   \n",
       "6             7         5          0             0          0         0   \n",
       "7             8         1          0             0          0         0   \n",
       "8             9        26          0             0          0         0   \n",
       "9            10        11          0             0          0         0   \n",
       "10           11        30          0             0          0         0   \n",
       "11           12        10          0             0          0         0   \n",
       "12           13         4          0             0          0         0   \n",
       "13           14        15          0             0          0         1   \n",
       "14           15        15          0             0          0         0   \n",
       "15           16         0          1             1          1         0   \n",
       "16           17        10          0             0          0         0   \n",
       "17           18         0          0             1          1         0   \n",
       "18           19         5          0             0          0         0   \n",
       "19           20         0          0             0          2         0   \n",
       "20           21         6          0             0          0         0   \n",
       "21           22         1          0             1          2         0   \n",
       "22           23         0          4             0          0         0   \n",
       "23           24         1          6            11          1         1   \n",
       "24           25        15          2             0          0         0   \n",
       "25           26         9          2             1          1         1   \n",
       "26           27         0          2             0          0         0   \n",
       "27           28         5          0             0          0         0   \n",
       "28           29         2          0             0          0         0   \n",
       "29           30         0          0             0          0         0   \n",
       "..          ...       ...        ...           ...        ...       ...   \n",
       "723         724         9          0             0          0         0   \n",
       "724         725         1          0             0          0         0   \n",
       "725         726         1          0             0          0         0   \n",
       "726         727         1          0             0          0         0   \n",
       "727         728         0          0             0          0         0   \n",
       "728         729         1          0             0          0         0   \n",
       "729         730         1          0             0          0         0   \n",
       "730         731         1          0             0          0         0   \n",
       "731         732         0          1             1          0         0   \n",
       "732         733         0          0             1          0         0   \n",
       "733         734         0          0             0          0         1   \n",
       "734         735         0          0             1          0         0   \n",
       "735         736        10          0             0          0         0   \n",
       "736         737         0          3             0          0         0   \n",
       "737         738         0          0             1          0         0   \n",
       "738         739         0          0             1          1         0   \n",
       "739         740         0          0             1          2         0   \n",
       "740         741         9          0             0          0         0   \n",
       "741         742         0          0             0          0         0   \n",
       "742         743         0          0             1          2         0   \n",
       "743         744         0          0             1          2         0   \n",
       "744         745        10          0             0          0         0   \n",
       "745         746         0          1             0          0         0   \n",
       "746         747         9          1             0          0         0   \n",
       "747         748        27          0             0          0         0   \n",
       "748         749         3          0             0          0         0   \n",
       "749         750         0          4             0          0         0   \n",
       "750         751        15          0             0          0         0   \n",
       "751         752         0          1             0          0         0   \n",
       "752         753        20          0             0          0         0   \n",
       "\n",
       "     Language      Country  WebVisits  PageVisits PriorClient MadeAPurchase  \n",
       "0      German      Germany       10.0         0.0         Yes            No  \n",
       "1     English          USA       61.0         0.0          No            No  \n",
       "2     Spanish       Mexico        1.0         0.0          No            No  \n",
       "3     English        India       26.0         0.0          No            No  \n",
       "4     English          USA       11.0         0.0          No           Yes  \n",
       "5     English          USA       30.0         0.0         Yes            No  \n",
       "6     English          USA       10.0         0.0          No            No  \n",
       "7     English          USA        4.0         0.0          No            No  \n",
       "8     English        India       15.0         0.0          No           Yes  \n",
       "9     Spanish        Spain       15.0         0.0         Yes           Yes  \n",
       "10    English        China        0.0         1.0         Yes            No  \n",
       "11    English        China       10.0         0.0          No           Yes  \n",
       "12    Chinese        China        0.0         0.0         Yes           Yes  \n",
       "13    English      Denmark        5.0         0.0         Yes            No  \n",
       "14     French       France        0.0         0.0          No           Yes  \n",
       "15   Japanese        Japan        6.0         0.0         Yes            No  \n",
       "16     Korean          USA        1.0         0.0          No           Yes  \n",
       "17   Japanese        Japan        0.0         4.0         Yes            No  \n",
       "18    English  Switzerland        1.0         6.0          No           Yes  \n",
       "19    English          USA        1.0         1.0         Yes            No  \n",
       "20    English       Uganda        0.0         0.0         Yes           Yes  \n",
       "21    English          USA        0.0         1.0         Yes           Yes  \n",
       "22     German      Germany        0.0         0.0          No           Yes  \n",
       "23    English          USA        0.0         0.0         Yes           Yes  \n",
       "24    English          USA        0.0         0.0         Yes           Yes  \n",
       "25    Spanish    Argentina        0.0         1.0         Yes           Yes  \n",
       "26     German      Austria        4.0         0.0         Yes           Yes  \n",
       "27    English       Mexico        6.0        11.0          No           Yes  \n",
       "28    English       Mexico        2.0         0.0         Yes           Yes  \n",
       "29    English       Mexico        2.0         1.0          No            No  \n",
       "..        ...          ...        ...         ...         ...           ...  \n",
       "723   Spanish        Chile        0.0         1.0          No           Yes  \n",
       "724   English       France        0.0         0.0          No           Yes  \n",
       "725   Spanish       Mexico        0.0         0.0         Yes           Yes  \n",
       "726   Italian        Italy        2.0         0.0         Yes           Yes  \n",
       "727    German       Canada        2.0         0.0          No           Yes  \n",
       "728   English       France        0.0         1.0         Yes           Yes  \n",
       "729   English          USA        0.0         0.0         Yes           Yes  \n",
       "730   English          USA        1.0         0.0         Yes           Yes  \n",
       "731   English       France        0.0         0.0          No           Yes  \n",
       "732  Japanese        Japan        0.0         0.0         Yes            No  \n",
       "733   English          USA        0.0         0.0         Yes           Yes  \n",
       "734   Chinese        China        0.0         0.0         Yes            No  \n",
       "735   Russian       France        0.0         1.0          No           Yes  \n",
       "736   English       France        0.0         0.0         Yes           Yes  \n",
       "737   English    Singapore        0.0         0.0          No            No  \n",
       "738  Japanese        Japan       10.0         0.0         Yes            No  \n",
       "739   English       Mexico        0.0         1.0         Yes            No  \n",
       "740   Spanish        Spain        0.0         0.0          No           Yes  \n",
       "741   English       Mexico        0.0         2.0         Yes            No  \n",
       "742  Japanese        Japan        0.0         0.0         Yes            No  \n",
       "743  Japanese        Japan        0.0         0.0         Yes            No  \n",
       "744   English          USA        0.0         0.0          No           Yes  \n",
       "745   English       France        0.0         0.0         Yes           Yes  \n",
       "746   English          USA        0.0         1.0          No           Yes  \n",
       "747   English          USA        0.0         0.0          No           Yes  \n",
       "748    German       Canada        0.0         0.0          No           Yes  \n",
       "749    German       Canada        0.0         0.0          No           Yes  \n",
       "750   English        India        0.0         0.0          No           Yes  \n",
       "751   Spanish     Colombia        0.0         0.0         Yes           Yes  \n",
       "752    German  Switzerland        0.0         0.0         Yes           Yes  \n",
       "\n",
       "[753 rows x 12 columns]>"
      ]
     },
     "execution_count": 3,
     "metadata": {},
     "output_type": "execute_result"
    }
   ],
   "source": [
    "dataset.info"
   ]
  },
  {
   "cell_type": "code",
   "execution_count": 4,
   "metadata": {},
   "outputs": [
    {
     "data": {
      "text/plain": [
       "(753, 12)"
      ]
     },
     "execution_count": 4,
     "metadata": {},
     "output_type": "execute_result"
    }
   ],
   "source": [
    "dataset.shape"
   ]
  },
  {
   "cell_type": "code",
   "execution_count": 5,
   "metadata": {},
   "outputs": [
    {
     "data": {
      "text/html": [
       "<div>\n",
       "<style scoped>\n",
       "    .dataframe tbody tr th:only-of-type {\n",
       "        vertical-align: middle;\n",
       "    }\n",
       "\n",
       "    .dataframe tbody tr th {\n",
       "        vertical-align: top;\n",
       "    }\n",
       "\n",
       "    .dataframe thead th {\n",
       "        text-align: right;\n",
       "    }\n",
       "</style>\n",
       "<table border=\"1\" class=\"dataframe\">\n",
       "  <thead>\n",
       "    <tr style=\"text-align: right;\">\n",
       "      <th></th>\n",
       "      <th>CustomerID</th>\n",
       "      <th>NumCalls</th>\n",
       "      <th>NumEmails</th>\n",
       "      <th>NumDownloads</th>\n",
       "      <th>NumEvents</th>\n",
       "      <th>NumForms</th>\n",
       "      <th>Language</th>\n",
       "      <th>Country</th>\n",
       "      <th>WebVisits</th>\n",
       "      <th>PageVisits</th>\n",
       "      <th>PriorClient</th>\n",
       "      <th>MadeAPurchase</th>\n",
       "    </tr>\n",
       "  </thead>\n",
       "  <tbody>\n",
       "    <tr>\n",
       "      <th>0</th>\n",
       "      <td>1</td>\n",
       "      <td>33</td>\n",
       "      <td>19</td>\n",
       "      <td>1</td>\n",
       "      <td>0</td>\n",
       "      <td>1</td>\n",
       "      <td>German</td>\n",
       "      <td>Germany</td>\n",
       "      <td>10.0</td>\n",
       "      <td>0.0</td>\n",
       "      <td>Yes</td>\n",
       "      <td>No</td>\n",
       "    </tr>\n",
       "    <tr>\n",
       "      <th>1</th>\n",
       "      <td>2</td>\n",
       "      <td>0</td>\n",
       "      <td>1</td>\n",
       "      <td>0</td>\n",
       "      <td>1</td>\n",
       "      <td>0</td>\n",
       "      <td>English</td>\n",
       "      <td>USA</td>\n",
       "      <td>61.0</td>\n",
       "      <td>0.0</td>\n",
       "      <td>No</td>\n",
       "      <td>No</td>\n",
       "    </tr>\n",
       "    <tr>\n",
       "      <th>2</th>\n",
       "      <td>3</td>\n",
       "      <td>4</td>\n",
       "      <td>6</td>\n",
       "      <td>2</td>\n",
       "      <td>0</td>\n",
       "      <td>0</td>\n",
       "      <td>Spanish</td>\n",
       "      <td>Mexico</td>\n",
       "      <td>1.0</td>\n",
       "      <td>0.0</td>\n",
       "      <td>No</td>\n",
       "      <td>No</td>\n",
       "    </tr>\n",
       "    <tr>\n",
       "      <th>3</th>\n",
       "      <td>4</td>\n",
       "      <td>0</td>\n",
       "      <td>10</td>\n",
       "      <td>0</td>\n",
       "      <td>0</td>\n",
       "      <td>1</td>\n",
       "      <td>English</td>\n",
       "      <td>India</td>\n",
       "      <td>26.0</td>\n",
       "      <td>0.0</td>\n",
       "      <td>No</td>\n",
       "      <td>No</td>\n",
       "    </tr>\n",
       "    <tr>\n",
       "      <th>4</th>\n",
       "      <td>5</td>\n",
       "      <td>7</td>\n",
       "      <td>0</td>\n",
       "      <td>0</td>\n",
       "      <td>0</td>\n",
       "      <td>0</td>\n",
       "      <td>English</td>\n",
       "      <td>USA</td>\n",
       "      <td>11.0</td>\n",
       "      <td>0.0</td>\n",
       "      <td>No</td>\n",
       "      <td>Yes</td>\n",
       "    </tr>\n",
       "    <tr>\n",
       "      <th>5</th>\n",
       "      <td>6</td>\n",
       "      <td>10</td>\n",
       "      <td>1</td>\n",
       "      <td>0</td>\n",
       "      <td>1</td>\n",
       "      <td>0</td>\n",
       "      <td>English</td>\n",
       "      <td>USA</td>\n",
       "      <td>30.0</td>\n",
       "      <td>0.0</td>\n",
       "      <td>Yes</td>\n",
       "      <td>No</td>\n",
       "    </tr>\n",
       "    <tr>\n",
       "      <th>6</th>\n",
       "      <td>7</td>\n",
       "      <td>5</td>\n",
       "      <td>0</td>\n",
       "      <td>0</td>\n",
       "      <td>0</td>\n",
       "      <td>0</td>\n",
       "      <td>English</td>\n",
       "      <td>USA</td>\n",
       "      <td>10.0</td>\n",
       "      <td>0.0</td>\n",
       "      <td>No</td>\n",
       "      <td>No</td>\n",
       "    </tr>\n",
       "    <tr>\n",
       "      <th>7</th>\n",
       "      <td>8</td>\n",
       "      <td>1</td>\n",
       "      <td>0</td>\n",
       "      <td>0</td>\n",
       "      <td>0</td>\n",
       "      <td>0</td>\n",
       "      <td>English</td>\n",
       "      <td>USA</td>\n",
       "      <td>4.0</td>\n",
       "      <td>0.0</td>\n",
       "      <td>No</td>\n",
       "      <td>No</td>\n",
       "    </tr>\n",
       "    <tr>\n",
       "      <th>8</th>\n",
       "      <td>9</td>\n",
       "      <td>26</td>\n",
       "      <td>0</td>\n",
       "      <td>0</td>\n",
       "      <td>0</td>\n",
       "      <td>0</td>\n",
       "      <td>English</td>\n",
       "      <td>India</td>\n",
       "      <td>15.0</td>\n",
       "      <td>0.0</td>\n",
       "      <td>No</td>\n",
       "      <td>Yes</td>\n",
       "    </tr>\n",
       "    <tr>\n",
       "      <th>9</th>\n",
       "      <td>10</td>\n",
       "      <td>11</td>\n",
       "      <td>0</td>\n",
       "      <td>0</td>\n",
       "      <td>0</td>\n",
       "      <td>0</td>\n",
       "      <td>Spanish</td>\n",
       "      <td>Spain</td>\n",
       "      <td>15.0</td>\n",
       "      <td>0.0</td>\n",
       "      <td>Yes</td>\n",
       "      <td>Yes</td>\n",
       "    </tr>\n",
       "  </tbody>\n",
       "</table>\n",
       "</div>"
      ],
      "text/plain": [
       "   CustomerID  NumCalls  NumEmails  NumDownloads  NumEvents  NumForms  \\\n",
       "0           1        33         19             1          0         1   \n",
       "1           2         0          1             0          1         0   \n",
       "2           3         4          6             2          0         0   \n",
       "3           4         0         10             0          0         1   \n",
       "4           5         7          0             0          0         0   \n",
       "5           6        10          1             0          1         0   \n",
       "6           7         5          0             0          0         0   \n",
       "7           8         1          0             0          0         0   \n",
       "8           9        26          0             0          0         0   \n",
       "9          10        11          0             0          0         0   \n",
       "\n",
       "  Language  Country  WebVisits  PageVisits PriorClient MadeAPurchase  \n",
       "0   German  Germany       10.0         0.0         Yes            No  \n",
       "1  English      USA       61.0         0.0          No            No  \n",
       "2  Spanish   Mexico        1.0         0.0          No            No  \n",
       "3  English    India       26.0         0.0          No            No  \n",
       "4  English      USA       11.0         0.0          No           Yes  \n",
       "5  English      USA       30.0         0.0         Yes            No  \n",
       "6  English      USA       10.0         0.0          No            No  \n",
       "7  English      USA        4.0         0.0          No            No  \n",
       "8  English    India       15.0         0.0          No           Yes  \n",
       "9  Spanish    Spain       15.0         0.0         Yes           Yes  "
      ]
     },
     "execution_count": 5,
     "metadata": {},
     "output_type": "execute_result"
    }
   ],
   "source": [
    "#getting top 10 entries in dataset\n",
    "dataset.head(10)"
   ]
  },
  {
   "cell_type": "code",
   "execution_count": 6,
   "metadata": {},
   "outputs": [
    {
     "data": {
      "text/html": [
       "<div>\n",
       "<style scoped>\n",
       "    .dataframe tbody tr th:only-of-type {\n",
       "        vertical-align: middle;\n",
       "    }\n",
       "\n",
       "    .dataframe tbody tr th {\n",
       "        vertical-align: top;\n",
       "    }\n",
       "\n",
       "    .dataframe thead th {\n",
       "        text-align: right;\n",
       "    }\n",
       "</style>\n",
       "<table border=\"1\" class=\"dataframe\">\n",
       "  <thead>\n",
       "    <tr style=\"text-align: right;\">\n",
       "      <th></th>\n",
       "      <th>CustomerID</th>\n",
       "      <th>NumCalls</th>\n",
       "      <th>NumEmails</th>\n",
       "      <th>NumDownloads</th>\n",
       "      <th>NumEvents</th>\n",
       "      <th>NumForms</th>\n",
       "      <th>Language</th>\n",
       "      <th>Country</th>\n",
       "      <th>WebVisits</th>\n",
       "      <th>PageVisits</th>\n",
       "      <th>PriorClient</th>\n",
       "      <th>MadeAPurchase</th>\n",
       "    </tr>\n",
       "  </thead>\n",
       "  <tbody>\n",
       "    <tr>\n",
       "      <th>743</th>\n",
       "      <td>744</td>\n",
       "      <td>0</td>\n",
       "      <td>0</td>\n",
       "      <td>1</td>\n",
       "      <td>2</td>\n",
       "      <td>0</td>\n",
       "      <td>Japanese</td>\n",
       "      <td>Japan</td>\n",
       "      <td>0.0</td>\n",
       "      <td>0.0</td>\n",
       "      <td>Yes</td>\n",
       "      <td>No</td>\n",
       "    </tr>\n",
       "    <tr>\n",
       "      <th>744</th>\n",
       "      <td>745</td>\n",
       "      <td>10</td>\n",
       "      <td>0</td>\n",
       "      <td>0</td>\n",
       "      <td>0</td>\n",
       "      <td>0</td>\n",
       "      <td>English</td>\n",
       "      <td>USA</td>\n",
       "      <td>0.0</td>\n",
       "      <td>0.0</td>\n",
       "      <td>No</td>\n",
       "      <td>Yes</td>\n",
       "    </tr>\n",
       "    <tr>\n",
       "      <th>745</th>\n",
       "      <td>746</td>\n",
       "      <td>0</td>\n",
       "      <td>1</td>\n",
       "      <td>0</td>\n",
       "      <td>0</td>\n",
       "      <td>0</td>\n",
       "      <td>English</td>\n",
       "      <td>France</td>\n",
       "      <td>0.0</td>\n",
       "      <td>0.0</td>\n",
       "      <td>Yes</td>\n",
       "      <td>Yes</td>\n",
       "    </tr>\n",
       "    <tr>\n",
       "      <th>746</th>\n",
       "      <td>747</td>\n",
       "      <td>9</td>\n",
       "      <td>1</td>\n",
       "      <td>0</td>\n",
       "      <td>0</td>\n",
       "      <td>0</td>\n",
       "      <td>English</td>\n",
       "      <td>USA</td>\n",
       "      <td>0.0</td>\n",
       "      <td>1.0</td>\n",
       "      <td>No</td>\n",
       "      <td>Yes</td>\n",
       "    </tr>\n",
       "    <tr>\n",
       "      <th>747</th>\n",
       "      <td>748</td>\n",
       "      <td>27</td>\n",
       "      <td>0</td>\n",
       "      <td>0</td>\n",
       "      <td>0</td>\n",
       "      <td>0</td>\n",
       "      <td>English</td>\n",
       "      <td>USA</td>\n",
       "      <td>0.0</td>\n",
       "      <td>0.0</td>\n",
       "      <td>No</td>\n",
       "      <td>Yes</td>\n",
       "    </tr>\n",
       "    <tr>\n",
       "      <th>748</th>\n",
       "      <td>749</td>\n",
       "      <td>3</td>\n",
       "      <td>0</td>\n",
       "      <td>0</td>\n",
       "      <td>0</td>\n",
       "      <td>0</td>\n",
       "      <td>German</td>\n",
       "      <td>Canada</td>\n",
       "      <td>0.0</td>\n",
       "      <td>0.0</td>\n",
       "      <td>No</td>\n",
       "      <td>Yes</td>\n",
       "    </tr>\n",
       "    <tr>\n",
       "      <th>749</th>\n",
       "      <td>750</td>\n",
       "      <td>0</td>\n",
       "      <td>4</td>\n",
       "      <td>0</td>\n",
       "      <td>0</td>\n",
       "      <td>0</td>\n",
       "      <td>German</td>\n",
       "      <td>Canada</td>\n",
       "      <td>0.0</td>\n",
       "      <td>0.0</td>\n",
       "      <td>No</td>\n",
       "      <td>Yes</td>\n",
       "    </tr>\n",
       "    <tr>\n",
       "      <th>750</th>\n",
       "      <td>751</td>\n",
       "      <td>15</td>\n",
       "      <td>0</td>\n",
       "      <td>0</td>\n",
       "      <td>0</td>\n",
       "      <td>0</td>\n",
       "      <td>English</td>\n",
       "      <td>India</td>\n",
       "      <td>0.0</td>\n",
       "      <td>0.0</td>\n",
       "      <td>No</td>\n",
       "      <td>Yes</td>\n",
       "    </tr>\n",
       "    <tr>\n",
       "      <th>751</th>\n",
       "      <td>752</td>\n",
       "      <td>0</td>\n",
       "      <td>1</td>\n",
       "      <td>0</td>\n",
       "      <td>0</td>\n",
       "      <td>0</td>\n",
       "      <td>Spanish</td>\n",
       "      <td>Colombia</td>\n",
       "      <td>0.0</td>\n",
       "      <td>0.0</td>\n",
       "      <td>Yes</td>\n",
       "      <td>Yes</td>\n",
       "    </tr>\n",
       "    <tr>\n",
       "      <th>752</th>\n",
       "      <td>753</td>\n",
       "      <td>20</td>\n",
       "      <td>0</td>\n",
       "      <td>0</td>\n",
       "      <td>0</td>\n",
       "      <td>0</td>\n",
       "      <td>German</td>\n",
       "      <td>Switzerland</td>\n",
       "      <td>0.0</td>\n",
       "      <td>0.0</td>\n",
       "      <td>Yes</td>\n",
       "      <td>Yes</td>\n",
       "    </tr>\n",
       "  </tbody>\n",
       "</table>\n",
       "</div>"
      ],
      "text/plain": [
       "     CustomerID  NumCalls  NumEmails  NumDownloads  NumEvents  NumForms  \\\n",
       "743         744         0          0             1          2         0   \n",
       "744         745        10          0             0          0         0   \n",
       "745         746         0          1             0          0         0   \n",
       "746         747         9          1             0          0         0   \n",
       "747         748        27          0             0          0         0   \n",
       "748         749         3          0             0          0         0   \n",
       "749         750         0          4             0          0         0   \n",
       "750         751        15          0             0          0         0   \n",
       "751         752         0          1             0          0         0   \n",
       "752         753        20          0             0          0         0   \n",
       "\n",
       "     Language      Country  WebVisits  PageVisits PriorClient MadeAPurchase  \n",
       "743  Japanese        Japan        0.0         0.0         Yes            No  \n",
       "744   English          USA        0.0         0.0          No           Yes  \n",
       "745   English       France        0.0         0.0         Yes           Yes  \n",
       "746   English          USA        0.0         1.0          No           Yes  \n",
       "747   English          USA        0.0         0.0          No           Yes  \n",
       "748    German       Canada        0.0         0.0          No           Yes  \n",
       "749    German       Canada        0.0         0.0          No           Yes  \n",
       "750   English        India        0.0         0.0          No           Yes  \n",
       "751   Spanish     Colombia        0.0         0.0         Yes           Yes  \n",
       "752    German  Switzerland        0.0         0.0         Yes           Yes  "
      ]
     },
     "execution_count": 6,
     "metadata": {},
     "output_type": "execute_result"
    }
   ],
   "source": [
    "#getting last 10 entries in dataset\n",
    "dataset.tail(10)"
   ]
  },
  {
   "cell_type": "code",
   "execution_count": 7,
   "metadata": {},
   "outputs": [
    {
     "data": {
      "text/plain": [
       "<bound method NDFrame.describe of      CustomerID  NumCalls  NumEmails  NumDownloads  NumEvents  NumForms  \\\n",
       "0             1        33         19             1          0         1   \n",
       "1             2         0          1             0          1         0   \n",
       "2             3         4          6             2          0         0   \n",
       "3             4         0         10             0          0         1   \n",
       "4             5         7          0             0          0         0   \n",
       "5             6        10          1             0          1         0   \n",
       "6             7         5          0             0          0         0   \n",
       "7             8         1          0             0          0         0   \n",
       "8             9        26          0             0          0         0   \n",
       "9            10        11          0             0          0         0   \n",
       "10           11        30          0             0          0         0   \n",
       "11           12        10          0             0          0         0   \n",
       "12           13         4          0             0          0         0   \n",
       "13           14        15          0             0          0         1   \n",
       "14           15        15          0             0          0         0   \n",
       "15           16         0          1             1          1         0   \n",
       "16           17        10          0             0          0         0   \n",
       "17           18         0          0             1          1         0   \n",
       "18           19         5          0             0          0         0   \n",
       "19           20         0          0             0          2         0   \n",
       "20           21         6          0             0          0         0   \n",
       "21           22         1          0             1          2         0   \n",
       "22           23         0          4             0          0         0   \n",
       "23           24         1          6            11          1         1   \n",
       "24           25        15          2             0          0         0   \n",
       "25           26         9          2             1          1         1   \n",
       "26           27         0          2             0          0         0   \n",
       "27           28         5          0             0          0         0   \n",
       "28           29         2          0             0          0         0   \n",
       "29           30         0          0             0          0         0   \n",
       "..          ...       ...        ...           ...        ...       ...   \n",
       "723         724         9          0             0          0         0   \n",
       "724         725         1          0             0          0         0   \n",
       "725         726         1          0             0          0         0   \n",
       "726         727         1          0             0          0         0   \n",
       "727         728         0          0             0          0         0   \n",
       "728         729         1          0             0          0         0   \n",
       "729         730         1          0             0          0         0   \n",
       "730         731         1          0             0          0         0   \n",
       "731         732         0          1             1          0         0   \n",
       "732         733         0          0             1          0         0   \n",
       "733         734         0          0             0          0         1   \n",
       "734         735         0          0             1          0         0   \n",
       "735         736        10          0             0          0         0   \n",
       "736         737         0          3             0          0         0   \n",
       "737         738         0          0             1          0         0   \n",
       "738         739         0          0             1          1         0   \n",
       "739         740         0          0             1          2         0   \n",
       "740         741         9          0             0          0         0   \n",
       "741         742         0          0             0          0         0   \n",
       "742         743         0          0             1          2         0   \n",
       "743         744         0          0             1          2         0   \n",
       "744         745        10          0             0          0         0   \n",
       "745         746         0          1             0          0         0   \n",
       "746         747         9          1             0          0         0   \n",
       "747         748        27          0             0          0         0   \n",
       "748         749         3          0             0          0         0   \n",
       "749         750         0          4             0          0         0   \n",
       "750         751        15          0             0          0         0   \n",
       "751         752         0          1             0          0         0   \n",
       "752         753        20          0             0          0         0   \n",
       "\n",
       "     Language      Country  WebVisits  PageVisits PriorClient MadeAPurchase  \n",
       "0      German      Germany       10.0         0.0         Yes            No  \n",
       "1     English          USA       61.0         0.0          No            No  \n",
       "2     Spanish       Mexico        1.0         0.0          No            No  \n",
       "3     English        India       26.0         0.0          No            No  \n",
       "4     English          USA       11.0         0.0          No           Yes  \n",
       "5     English          USA       30.0         0.0         Yes            No  \n",
       "6     English          USA       10.0         0.0          No            No  \n",
       "7     English          USA        4.0         0.0          No            No  \n",
       "8     English        India       15.0         0.0          No           Yes  \n",
       "9     Spanish        Spain       15.0         0.0         Yes           Yes  \n",
       "10    English        China        0.0         1.0         Yes            No  \n",
       "11    English        China       10.0         0.0          No           Yes  \n",
       "12    Chinese        China        0.0         0.0         Yes           Yes  \n",
       "13    English      Denmark        5.0         0.0         Yes            No  \n",
       "14     French       France        0.0         0.0          No           Yes  \n",
       "15   Japanese        Japan        6.0         0.0         Yes            No  \n",
       "16     Korean          USA        1.0         0.0          No           Yes  \n",
       "17   Japanese        Japan        0.0         4.0         Yes            No  \n",
       "18    English  Switzerland        1.0         6.0          No           Yes  \n",
       "19    English          USA        1.0         1.0         Yes            No  \n",
       "20    English       Uganda        0.0         0.0         Yes           Yes  \n",
       "21    English          USA        0.0         1.0         Yes           Yes  \n",
       "22     German      Germany        0.0         0.0          No           Yes  \n",
       "23    English          USA        0.0         0.0         Yes           Yes  \n",
       "24    English          USA        0.0         0.0         Yes           Yes  \n",
       "25    Spanish    Argentina        0.0         1.0         Yes           Yes  \n",
       "26     German      Austria        4.0         0.0         Yes           Yes  \n",
       "27    English       Mexico        6.0        11.0          No           Yes  \n",
       "28    English       Mexico        2.0         0.0         Yes           Yes  \n",
       "29    English       Mexico        2.0         1.0          No            No  \n",
       "..        ...          ...        ...         ...         ...           ...  \n",
       "723   Spanish        Chile        0.0         1.0          No           Yes  \n",
       "724   English       France        0.0         0.0          No           Yes  \n",
       "725   Spanish       Mexico        0.0         0.0         Yes           Yes  \n",
       "726   Italian        Italy        2.0         0.0         Yes           Yes  \n",
       "727    German       Canada        2.0         0.0          No           Yes  \n",
       "728   English       France        0.0         1.0         Yes           Yes  \n",
       "729   English          USA        0.0         0.0         Yes           Yes  \n",
       "730   English          USA        1.0         0.0         Yes           Yes  \n",
       "731   English       France        0.0         0.0          No           Yes  \n",
       "732  Japanese        Japan        0.0         0.0         Yes            No  \n",
       "733   English          USA        0.0         0.0         Yes           Yes  \n",
       "734   Chinese        China        0.0         0.0         Yes            No  \n",
       "735   Russian       France        0.0         1.0          No           Yes  \n",
       "736   English       France        0.0         0.0         Yes           Yes  \n",
       "737   English    Singapore        0.0         0.0          No            No  \n",
       "738  Japanese        Japan       10.0         0.0         Yes            No  \n",
       "739   English       Mexico        0.0         1.0         Yes            No  \n",
       "740   Spanish        Spain        0.0         0.0          No           Yes  \n",
       "741   English       Mexico        0.0         2.0         Yes            No  \n",
       "742  Japanese        Japan        0.0         0.0         Yes            No  \n",
       "743  Japanese        Japan        0.0         0.0         Yes            No  \n",
       "744   English          USA        0.0         0.0          No           Yes  \n",
       "745   English       France        0.0         0.0         Yes           Yes  \n",
       "746   English          USA        0.0         1.0          No           Yes  \n",
       "747   English          USA        0.0         0.0          No           Yes  \n",
       "748    German       Canada        0.0         0.0          No           Yes  \n",
       "749    German       Canada        0.0         0.0          No           Yes  \n",
       "750   English        India        0.0         0.0          No           Yes  \n",
       "751   Spanish     Colombia        0.0         0.0         Yes           Yes  \n",
       "752    German  Switzerland        0.0         0.0         Yes           Yes  \n",
       "\n",
       "[753 rows x 12 columns]>"
      ]
     },
     "execution_count": 7,
     "metadata": {},
     "output_type": "execute_result"
    }
   ],
   "source": [
    "dataset.describe"
   ]
  },
  {
   "cell_type": "code",
   "execution_count": 8,
   "metadata": {},
   "outputs": [],
   "source": [
    "#checking for missing/null values\n",
    "null_columns=dataset.columns[dataset.isnull().any()]\n",
    "#taking care of null values\n",
    "dataset.fillna(0,inplace=True)\n"
   ]
  },
  {
   "cell_type": "markdown",
   "metadata": {},
   "source": [
    "# Data Preprocessing & Visualization"
   ]
  },
  {
   "cell_type": "markdown",
   "metadata": {},
   "source": [
    "plotting histogram of frequency of 'NumCalls' column with range (0-19) (20-39) and so on\n",
    "\n"
   ]
  },
  {
   "cell_type": "code",
   "execution_count": 9,
   "metadata": {},
   "outputs": [
    {
     "data": {
      "image/png": "[encoded data removed]",
      "text/plain": [
       "<Figure size 576x396 with 1 Axes>"
      ]
     },
     "metadata": {},
     "output_type": "display_data"
    }
   ],
   "source": [
    "plt.style.use('seaborn')\n",
    "plt.hist(dataset['NumCalls'] , bins=3)\n",
    "plt.xlabel('Number of Calls')\n",
    "plt.ylabel('Frequency')\n",
    "plt.title('Histogram of Number of Calls')\n",
    "plt.show()"
   ]
  },
  {
   "cell_type": "markdown",
   "metadata": {},
   "source": [
    "plotting a bar graph of 'Country' column"
   ]
  },
  {
   "cell_type": "code",
   "execution_count": 10,
   "metadata": {},
   "outputs": [
    {
     "data": {
      "image/png": "[encoded data removed]",
      "text/plain": [
       "<Figure size 576x396 with 1 Axes>"
      ]
     },
     "metadata": {},
     "output_type": "display_data"
    }
   ],
   "source": [
    "dataset['Country'].value_counts().plot(kind='barh')\n",
    "plt.xlabel('Countries')\n",
    "plt.ylabel('Frequency')\n",
    "plt.title('Visualizing countries and their occurrences in the dataset')\n",
    "plt.show()"
   ]
  },
  {
   "cell_type": "markdown",
   "metadata": {},
   "source": [
    "adding a new column 'TotalInteractions' to the dataset that contains sum of the columns NumCalls, NumEmails, NumDownloads, NumEvents, and NumForms"
   ]
  },
  {
   "cell_type": "code",
   "execution_count": 11,
   "metadata": {},
   "outputs": [],
   "source": [
    "dataset['TotalInteractions'] = dataset['NumCalls'] + dataset['NumEmails'] + dataset['NumDownloads'] + dataset['NumEvents'] + dataset['NumForms']"
   ]
  },
  {
   "cell_type": "code",
   "execution_count": 12,
   "metadata": {},
   "outputs": [
    {
     "data": {
      "text/plain": [
       "(753, 13)"
      ]
     },
     "execution_count": 12,
     "metadata": {},
     "output_type": "execute_result"
    }
   ],
   "source": [
    "dataset.shape"
   ]
  },
  {
   "cell_type": "code",
   "execution_count": 13,
   "metadata": {
    "scrolled": true
   },
   "outputs": [],
   "source": [
    "#rearranging the columns\n",
    "mid = dataset['TotalInteractions']\n",
    "dataset.drop(labels=['TotalInteractions'], axis=1, inplace = True)\n",
    "dataset.insert(6, 'TotalInteractions', mid)"
   ]
  },
  {
   "cell_type": "code",
   "execution_count": 14,
   "metadata": {
    "scrolled": false
   },
   "outputs": [
    {
     "data": {
      "text/html": [
       "<div>\n",
       "<style scoped>\n",
       "    .dataframe tbody tr th:only-of-type {\n",
       "        vertical-align: middle;\n",
       "    }\n",
       "\n",
       "    .dataframe tbody tr th {\n",
       "        vertical-align: top;\n",
       "    }\n",
       "\n",
       "    .dataframe thead th {\n",
       "        text-align: right;\n",
       "    }\n",
       "</style>\n",
       "<table border=\"1\" class=\"dataframe\">\n",
       "  <thead>\n",
       "    <tr style=\"text-align: right;\">\n",
       "      <th></th>\n",
       "      <th>CustomerID</th>\n",
       "      <th>NumCalls</th>\n",
       "      <th>NumEmails</th>\n",
       "      <th>NumDownloads</th>\n",
       "      <th>NumEvents</th>\n",
       "      <th>NumForms</th>\n",
       "      <th>TotalInteractions</th>\n",
       "      <th>Language</th>\n",
       "      <th>Country</th>\n",
       "      <th>WebVisits</th>\n",
       "      <th>PageVisits</th>\n",
       "      <th>PriorClient</th>\n",
       "      <th>MadeAPurchase</th>\n",
       "    </tr>\n",
       "  </thead>\n",
       "  <tbody>\n",
       "    <tr>\n",
       "      <th>0</th>\n",
       "      <td>1</td>\n",
       "      <td>33</td>\n",
       "      <td>19</td>\n",
       "      <td>1</td>\n",
       "      <td>0</td>\n",
       "      <td>1</td>\n",
       "      <td>54</td>\n",
       "      <td>German</td>\n",
       "      <td>Germany</td>\n",
       "      <td>10.0</td>\n",
       "      <td>0.0</td>\n",
       "      <td>Yes</td>\n",
       "      <td>No</td>\n",
       "    </tr>\n",
       "    <tr>\n",
       "      <th>1</th>\n",
       "      <td>2</td>\n",
       "      <td>0</td>\n",
       "      <td>1</td>\n",
       "      <td>0</td>\n",
       "      <td>1</td>\n",
       "      <td>0</td>\n",
       "      <td>2</td>\n",
       "      <td>English</td>\n",
       "      <td>USA</td>\n",
       "      <td>61.0</td>\n",
       "      <td>0.0</td>\n",
       "      <td>No</td>\n",
       "      <td>No</td>\n",
       "    </tr>\n",
       "    <tr>\n",
       "      <th>2</th>\n",
       "      <td>3</td>\n",
       "      <td>4</td>\n",
       "      <td>6</td>\n",
       "      <td>2</td>\n",
       "      <td>0</td>\n",
       "      <td>0</td>\n",
       "      <td>12</td>\n",
       "      <td>Spanish</td>\n",
       "      <td>Mexico</td>\n",
       "      <td>1.0</td>\n",
       "      <td>0.0</td>\n",
       "      <td>No</td>\n",
       "      <td>No</td>\n",
       "    </tr>\n",
       "    <tr>\n",
       "      <th>3</th>\n",
       "      <td>4</td>\n",
       "      <td>0</td>\n",
       "      <td>10</td>\n",
       "      <td>0</td>\n",
       "      <td>0</td>\n",
       "      <td>1</td>\n",
       "      <td>11</td>\n",
       "      <td>English</td>\n",
       "      <td>India</td>\n",
       "      <td>26.0</td>\n",
       "      <td>0.0</td>\n",
       "      <td>No</td>\n",
       "      <td>No</td>\n",
       "    </tr>\n",
       "    <tr>\n",
       "      <th>4</th>\n",
       "      <td>5</td>\n",
       "      <td>7</td>\n",
       "      <td>0</td>\n",
       "      <td>0</td>\n",
       "      <td>0</td>\n",
       "      <td>0</td>\n",
       "      <td>7</td>\n",
       "      <td>English</td>\n",
       "      <td>USA</td>\n",
       "      <td>11.0</td>\n",
       "      <td>0.0</td>\n",
       "      <td>No</td>\n",
       "      <td>Yes</td>\n",
       "    </tr>\n",
       "  </tbody>\n",
       "</table>\n",
       "</div>"
      ],
      "text/plain": [
       "   CustomerID  NumCalls  NumEmails  NumDownloads  NumEvents  NumForms  \\\n",
       "0           1        33         19             1          0         1   \n",
       "1           2         0          1             0          1         0   \n",
       "2           3         4          6             2          0         0   \n",
       "3           4         0         10             0          0         1   \n",
       "4           5         7          0             0          0         0   \n",
       "\n",
       "   TotalInteractions Language  Country  WebVisits  PageVisits PriorClient  \\\n",
       "0                 54   German  Germany       10.0         0.0         Yes   \n",
       "1                  2  English      USA       61.0         0.0          No   \n",
       "2                 12  Spanish   Mexico        1.0         0.0          No   \n",
       "3                 11  English    India       26.0         0.0          No   \n",
       "4                  7  English      USA       11.0         0.0          No   \n",
       "\n",
       "  MadeAPurchase  \n",
       "0            No  \n",
       "1            No  \n",
       "2            No  \n",
       "3            No  \n",
       "4           Yes  "
      ]
     },
     "execution_count": 14,
     "metadata": {},
     "output_type": "execute_result"
    }
   ],
   "source": [
    "dataset.head(5)"
   ]
  },
  {
   "cell_type": "markdown",
   "metadata": {},
   "source": [
    "Modifying the 'Country' column"
   ]
  },
  {
   "cell_type": "code",
   "execution_count": 15,
   "metadata": {},
   "outputs": [],
   "source": [
    "#first we create dummy variables\n",
    "top = ['USA', 'China', 'Japan', 'France', 'Canada']\n",
    "dataset['Country'] = dataset['Country'].apply(lambda x : 'Other' if x not in top else x)\n",
    "df1 = pd.get_dummies(dataset['Country'])"
   ]
  },
  {
   "cell_type": "code",
   "execution_count": 16,
   "metadata": {
    "scrolled": true
   },
   "outputs": [
    {
     "data": {
      "text/plain": [
       "Other     268\n",
       "USA       180\n",
       "Canada    151\n",
       "Japan      72\n",
       "France     43\n",
       "China      39\n",
       "Name: Country, dtype: int64"
      ]
     },
     "execution_count": 16,
     "metadata": {},
     "output_type": "execute_result"
    }
   ],
   "source": [
    "dataset['Country'].value_counts()"
   ]
  },
  {
   "cell_type": "code",
   "execution_count": 17,
   "metadata": {},
   "outputs": [],
   "source": [
    "#merging dataset and df1\n",
    "dataset =pd.concat([dataset,df1],axis=1)"
   ]
  },
  {
   "cell_type": "code",
   "execution_count": 18,
   "metadata": {},
   "outputs": [],
   "source": [
    "#we dont need 'Country' column anymore, hence we drop it\n",
    "dataset.drop(['Country'],axis=1,inplace=True)"
   ]
  },
  {
   "cell_type": "code",
   "execution_count": 19,
   "metadata": {},
   "outputs": [
    {
     "data": {
      "text/html": [
       "<div>\n",
       "<style scoped>\n",
       "    .dataframe tbody tr th:only-of-type {\n",
       "        vertical-align: middle;\n",
       "    }\n",
       "\n",
       "    .dataframe tbody tr th {\n",
       "        vertical-align: top;\n",
       "    }\n",
       "\n",
       "    .dataframe thead th {\n",
       "        text-align: right;\n",
       "    }\n",
       "</style>\n",
       "<table border=\"1\" class=\"dataframe\">\n",
       "  <thead>\n",
       "    <tr style=\"text-align: right;\">\n",
       "      <th></th>\n",
       "      <th>CustomerID</th>\n",
       "      <th>NumCalls</th>\n",
       "      <th>NumEmails</th>\n",
       "      <th>NumDownloads</th>\n",
       "      <th>NumEvents</th>\n",
       "      <th>NumForms</th>\n",
       "      <th>TotalInteractions</th>\n",
       "      <th>Language</th>\n",
       "      <th>WebVisits</th>\n",
       "      <th>PageVisits</th>\n",
       "      <th>PriorClient</th>\n",
       "      <th>MadeAPurchase</th>\n",
       "      <th>Canada</th>\n",
       "      <th>China</th>\n",
       "      <th>France</th>\n",
       "      <th>Japan</th>\n",
       "      <th>Other</th>\n",
       "      <th>USA</th>\n",
       "    </tr>\n",
       "  </thead>\n",
       "  <tbody>\n",
       "    <tr>\n",
       "      <th>0</th>\n",
       "      <td>1</td>\n",
       "      <td>33</td>\n",
       "      <td>19</td>\n",
       "      <td>1</td>\n",
       "      <td>0</td>\n",
       "      <td>1</td>\n",
       "      <td>54</td>\n",
       "      <td>German</td>\n",
       "      <td>10.0</td>\n",
       "      <td>0.0</td>\n",
       "      <td>Yes</td>\n",
       "      <td>No</td>\n",
       "      <td>0</td>\n",
       "      <td>0</td>\n",
       "      <td>0</td>\n",
       "      <td>0</td>\n",
       "      <td>1</td>\n",
       "      <td>0</td>\n",
       "    </tr>\n",
       "    <tr>\n",
       "      <th>1</th>\n",
       "      <td>2</td>\n",
       "      <td>0</td>\n",
       "      <td>1</td>\n",
       "      <td>0</td>\n",
       "      <td>1</td>\n",
       "      <td>0</td>\n",
       "      <td>2</td>\n",
       "      <td>English</td>\n",
       "      <td>61.0</td>\n",
       "      <td>0.0</td>\n",
       "      <td>No</td>\n",
       "      <td>No</td>\n",
       "      <td>0</td>\n",
       "      <td>0</td>\n",
       "      <td>0</td>\n",
       "      <td>0</td>\n",
       "      <td>0</td>\n",
       "      <td>1</td>\n",
       "    </tr>\n",
       "    <tr>\n",
       "      <th>2</th>\n",
       "      <td>3</td>\n",
       "      <td>4</td>\n",
       "      <td>6</td>\n",
       "      <td>2</td>\n",
       "      <td>0</td>\n",
       "      <td>0</td>\n",
       "      <td>12</td>\n",
       "      <td>Spanish</td>\n",
       "      <td>1.0</td>\n",
       "      <td>0.0</td>\n",
       "      <td>No</td>\n",
       "      <td>No</td>\n",
       "      <td>0</td>\n",
       "      <td>0</td>\n",
       "      <td>0</td>\n",
       "      <td>0</td>\n",
       "      <td>1</td>\n",
       "      <td>0</td>\n",
       "    </tr>\n",
       "    <tr>\n",
       "      <th>3</th>\n",
       "      <td>4</td>\n",
       "      <td>0</td>\n",
       "      <td>10</td>\n",
       "      <td>0</td>\n",
       "      <td>0</td>\n",
       "      <td>1</td>\n",
       "      <td>11</td>\n",
       "      <td>English</td>\n",
       "      <td>26.0</td>\n",
       "      <td>0.0</td>\n",
       "      <td>No</td>\n",
       "      <td>No</td>\n",
       "      <td>0</td>\n",
       "      <td>0</td>\n",
       "      <td>0</td>\n",
       "      <td>0</td>\n",
       "      <td>1</td>\n",
       "      <td>0</td>\n",
       "    </tr>\n",
       "    <tr>\n",
       "      <th>4</th>\n",
       "      <td>5</td>\n",
       "      <td>7</td>\n",
       "      <td>0</td>\n",
       "      <td>0</td>\n",
       "      <td>0</td>\n",
       "      <td>0</td>\n",
       "      <td>7</td>\n",
       "      <td>English</td>\n",
       "      <td>11.0</td>\n",
       "      <td>0.0</td>\n",
       "      <td>No</td>\n",
       "      <td>Yes</td>\n",
       "      <td>0</td>\n",
       "      <td>0</td>\n",
       "      <td>0</td>\n",
       "      <td>0</td>\n",
       "      <td>0</td>\n",
       "      <td>1</td>\n",
       "    </tr>\n",
       "  </tbody>\n",
       "</table>\n",
       "</div>"
      ],
      "text/plain": [
       "   CustomerID  NumCalls  NumEmails  NumDownloads  NumEvents  NumForms  \\\n",
       "0           1        33         19             1          0         1   \n",
       "1           2         0          1             0          1         0   \n",
       "2           3         4          6             2          0         0   \n",
       "3           4         0         10             0          0         1   \n",
       "4           5         7          0             0          0         0   \n",
       "\n",
       "   TotalInteractions Language  WebVisits  PageVisits PriorClient  \\\n",
       "0                 54   German       10.0         0.0         Yes   \n",
       "1                  2  English       61.0         0.0          No   \n",
       "2                 12  Spanish        1.0         0.0          No   \n",
       "3                 11  English       26.0         0.0          No   \n",
       "4                  7  English       11.0         0.0          No   \n",
       "\n",
       "  MadeAPurchase  Canada  China  France  Japan  Other  USA  \n",
       "0            No       0      0       0      0      1    0  \n",
       "1            No       0      0       0      0      0    1  \n",
       "2            No       0      0       0      0      1    0  \n",
       "3            No       0      0       0      0      1    0  \n",
       "4           Yes       0      0       0      0      0    1  "
      ]
     },
     "execution_count": 19,
     "metadata": {},
     "output_type": "execute_result"
    }
   ],
   "source": [
    "dataset.head(5)"
   ]
  },
  {
   "cell_type": "markdown",
   "metadata": {},
   "source": [
    "Now, we perform label encoding on 'PriorClient' and 'MadeAPurchase' Column"
   ]
  },
  {
   "cell_type": "code",
   "execution_count": 20,
   "metadata": {},
   "outputs": [],
   "source": [
    "from sklearn.preprocessing import LabelEncoder\n",
    "le = LabelEncoder()\n",
    "dataset['PriorClient'] = le.fit_transform(dataset['PriorClient'])\n",
    "dataset['MadeAPurchase'] = le.fit_transform(dataset['MadeAPurchase'])"
   ]
  },
  {
   "cell_type": "code",
   "execution_count": 21,
   "metadata": {},
   "outputs": [
    {
     "data": {
      "text/plain": [
       "(753, 18)"
      ]
     },
     "execution_count": 21,
     "metadata": {},
     "output_type": "execute_result"
    }
   ],
   "source": [
    "dataset.shape"
   ]
  },
  {
   "cell_type": "markdown",
   "metadata": {},
   "source": [
    "# Preparing Training and Validation Sets "
   ]
  },
  {
   "cell_type": "markdown",
   "metadata": {},
   "source": [
    "The columns for our interest for preparing X(input features) are :\n",
    "TotalInteractions\n",
    "WebVisits\n",
    "PageVisits\n",
    "PriorClient\n",
    "dummy variables of 'Country' and 'Language' columns\n",
    "\n",
    "The column for y(output vector) is :\n",
    "MadeAPurchase"
   ]
  },
  {
   "cell_type": "code",
   "execution_count": 22,
   "metadata": {},
   "outputs": [],
   "source": [
    "X = dataset.iloc[:, [6,8,9,10,12,13,14,15,16,17]].values\n",
    "y = dataset.iloc[:, 11].values"
   ]
  },
  {
   "cell_type": "code",
   "execution_count": 23,
   "metadata": {},
   "outputs": [
    {
     "data": {
      "text/plain": [
       "(753, 10)"
      ]
     },
     "execution_count": 23,
     "metadata": {},
     "output_type": "execute_result"
    }
   ],
   "source": [
    "X.shape"
   ]
  },
  {
   "cell_type": "code",
   "execution_count": 24,
   "metadata": {},
   "outputs": [
    {
     "data": {
      "text/plain": [
       "(753,)"
      ]
     },
     "execution_count": 24,
     "metadata": {},
     "output_type": "execute_result"
    }
   ],
   "source": [
    "y.shape"
   ]
  },
  {
   "cell_type": "code",
   "execution_count": 25,
   "metadata": {},
   "outputs": [],
   "source": [
    "# Splitting the dataset into the Training set and validation set\n",
    "from sklearn.model_selection import train_test_split\n",
    "X_train, X_val, y_train, y_val = train_test_split(X, y, test_size = 0.2, random_state = 0)"
   ]
  },
  {
   "cell_type": "code",
   "execution_count": 26,
   "metadata": {},
   "outputs": [
    {
     "data": {
      "text/plain": [
       "(602, 10)"
      ]
     },
     "execution_count": 26,
     "metadata": {},
     "output_type": "execute_result"
    }
   ],
   "source": [
    "X_train.shape"
   ]
  },
  {
   "cell_type": "code",
   "execution_count": 27,
   "metadata": {},
   "outputs": [
    {
     "data": {
      "text/plain": [
       "(602,)"
      ]
     },
     "execution_count": 27,
     "metadata": {},
     "output_type": "execute_result"
    }
   ],
   "source": [
    "y_train.shape"
   ]
  },
  {
   "cell_type": "code",
   "execution_count": 28,
   "metadata": {},
   "outputs": [
    {
     "data": {
      "text/plain": [
       "(151, 10)"
      ]
     },
     "execution_count": 28,
     "metadata": {},
     "output_type": "execute_result"
    }
   ],
   "source": [
    "X_val.shape"
   ]
  },
  {
   "cell_type": "code",
   "execution_count": 29,
   "metadata": {},
   "outputs": [
    {
     "data": {
      "text/plain": [
       "(151,)"
      ]
     },
     "execution_count": 29,
     "metadata": {},
     "output_type": "execute_result"
    }
   ],
   "source": [
    "y_val.shape"
   ]
  },
  {
   "cell_type": "markdown",
   "metadata": {},
   "source": [
    "# Model Training "
   ]
  },
  {
   "cell_type": "markdown",
   "metadata": {},
   "source": [
    "we implement random forest classifier from the sklearn library for our dataset"
   ]
  },
  {
   "cell_type": "code",
   "execution_count": 30,
   "metadata": {},
   "outputs": [
    {
     "name": "stderr",
     "output_type": "stream",
     "text": [
      "C:\\Users\\KUSH\\Anaconda3\\lib\\site-packages\\sklearn\\ensemble\\forest.py:245: FutureWarning: The default value of n_estimators will change from 10 in version 0.20 to 100 in 0.22.\n",
      "  \"10 in version 0.20 to 100 in 0.22.\", FutureWarning)\n"
     ]
    },
    {
     "data": {
      "text/plain": [
       "RandomForestClassifier(bootstrap=True, class_weight=None, criterion='gini',\n",
       "                       max_depth=None, max_features='auto', max_leaf_nodes=None,\n",
       "                       min_impurity_decrease=0.0, min_impurity_split=None,\n",
       "                       min_samples_leaf=1, min_samples_split=2,\n",
       "                       min_weight_fraction_leaf=0.0, n_estimators=10,\n",
       "                       n_jobs=None, oob_score=False, random_state=0, verbose=0,\n",
       "                       warm_start=False)"
      ]
     },
     "execution_count": 30,
     "metadata": {},
     "output_type": "execute_result"
    }
   ],
   "source": [
    "#applying random forest\n",
    "from sklearn.ensemble import RandomForestClassifier\n",
    "rf = RandomForestClassifier(random_state=0)\n",
    "rf.fit(X_train,y_train)"
   ]
  },
  {
   "cell_type": "code",
   "execution_count": 31,
   "metadata": {},
   "outputs": [],
   "source": [
    "# Predicting the Validation set results\n",
    "y_pred = rf.predict(X_val)"
   ]
  },
  {
   "cell_type": "code",
   "execution_count": 32,
   "metadata": {},
   "outputs": [],
   "source": [
    "#plotting confusion matrix\n",
    "from sklearn.metrics import confusion_matrix\n",
    "cm = confusion_matrix(y_val ,y_pred)"
   ]
  },
  {
   "cell_type": "code",
   "execution_count": 33,
   "metadata": {},
   "outputs": [
    {
     "data": {
      "text/plain": [
       "array([[37, 21],\n",
       "       [16, 77]], dtype=int64)"
      ]
     },
     "execution_count": 33,
     "metadata": {},
     "output_type": "execute_result"
    }
   ],
   "source": [
    "cm"
   ]
  },
  {
   "cell_type": "code",
   "execution_count": 34,
   "metadata": {},
   "outputs": [
    {
     "data": {
      "text/plain": [
       "0.7564978993092644"
      ]
     },
     "execution_count": 34,
     "metadata": {},
     "output_type": "execute_result"
    }
   ],
   "source": [
    "from sklearn.metrics import average_precision_score\n",
    "average_precision = average_precision_score(y_val, y_pred)\n",
    "average_precision"
   ]
  },
  {
   "cell_type": "code",
   "execution_count": 51,
   "metadata": {},
   "outputs": [],
   "source": [
    "#plotting roc curve\n",
    "from sklearn.metrics import roc_auc_score, roc_curve\n",
    "rf_roc_auc = roc_auc_score(y_val,y_pred)\n",
    "fpr , tpr , threshold = roc_curve(y_val,rf.predict_proba(X_val)[:,1])"
   ]
  },
  {
   "cell_type": "code",
   "execution_count": 52,
   "metadata": {},
   "outputs": [
    {
     "data": {
      "image/png": "[encoded data removed]",
      "text/plain": [
       "<Figure size 576x396 with 1 Axes>"
      ]
     },
     "metadata": {},
     "output_type": "display_data"
    }
   ],
   "source": [
    "plt.plot(fpr, tpr)\n",
    "plt.title(\"ROC Curve\")\n",
    "plt.xlabel(\"False Positive Rate\")\n",
    "plt.ylabel(\"True Positive Rate\")\n",
    "plt.show()"
   ]
  },
  {
   "cell_type": "markdown",
   "metadata": {},
   "source": [
    "# Model-Tuning (ensemble learning)"
   ]
  },
  {
   "cell_type": "markdown",
   "metadata": {},
   "source": [
    "here, we perform ensemble learning in an attempt to increase model's accuracy. We use our random forest classifier as well as KNN and kernelSVM"
   ]
  },
  {
   "cell_type": "code",
   "execution_count": 35,
   "metadata": {},
   "outputs": [
    {
     "data": {
      "text/plain": [
       "KNeighborsClassifier(algorithm='auto', leaf_size=30, metric='minkowski',\n",
       "                     metric_params=None, n_jobs=None, n_neighbors=5, p=2,\n",
       "                     weights='uniform')"
      ]
     },
     "execution_count": 35,
     "metadata": {},
     "output_type": "execute_result"
    }
   ],
   "source": [
    "# Fitting K-NN to the Training set\n",
    "from sklearn.neighbors import KNeighborsClassifier\n",
    "knn_1 = KNeighborsClassifier(n_neighbors = 5, metric = 'minkowski', p = 2)\n",
    "knn_1.fit(X_train, y_train)"
   ]
  },
  {
   "cell_type": "code",
   "execution_count": 36,
   "metadata": {},
   "outputs": [],
   "source": [
    "# Predicting the Validation set results by knn model\n",
    "y_pred_1 = knn_1.predict(X_val)"
   ]
  },
  {
   "cell_type": "code",
   "execution_count": 37,
   "metadata": {},
   "outputs": [
    {
     "name": "stderr",
     "output_type": "stream",
     "text": [
      "C:\\Users\\KUSH\\Anaconda3\\lib\\site-packages\\sklearn\\svm\\base.py:193: FutureWarning: The default value of gamma will change from 'auto' to 'scale' in version 0.22 to account better for unscaled features. Set gamma explicitly to 'auto' or 'scale' to avoid this warning.\n",
      "  \"avoid this warning.\", FutureWarning)\n"
     ]
    },
    {
     "data": {
      "text/plain": [
       "SVC(C=1.0, cache_size=200, class_weight=None, coef0=0.0,\n",
       "    decision_function_shape='ovr', degree=3, gamma='auto_deprecated',\n",
       "    kernel='rbf', max_iter=-1, probability=False, random_state=0,\n",
       "    shrinking=True, tol=0.001, verbose=False)"
      ]
     },
     "execution_count": 37,
     "metadata": {},
     "output_type": "execute_result"
    }
   ],
   "source": [
    "# Fitting Kernel SVM to the Training set\n",
    "from sklearn.svm import SVC\n",
    "svm_1 = SVC(kernel = 'rbf', random_state = 0)\n",
    "svm_1.fit(X_train, y_train)"
   ]
  },
  {
   "cell_type": "code",
   "execution_count": 40,
   "metadata": {},
   "outputs": [],
   "source": [
    "# Predicting the Test set results by svm model\n",
    "y_pred_2 = svm_1.predict(X_val)"
   ]
  },
  {
   "cell_type": "markdown",
   "metadata": {},
   "source": [
    "Now, we use MaxVoting method of ensemble-learning.\n",
    "Here, we take majority vote among the classification done by different classifiers(built by us above) over each data point. "
   ]
  },
  {
   "cell_type": "code",
   "execution_count": 44,
   "metadata": {},
   "outputs": [],
   "source": [
    "from statistics import mode \n",
    "final_pred = np.array([])\n",
    "for i in range(0,len(X_val)):\n",
    "    final_pred = np.append(final_pred, mode([y_pred[i], y_pred_1[i], y_pred_2[i]]))"
   ]
  },
  {
   "cell_type": "code",
   "execution_count": 45,
   "metadata": {},
   "outputs": [],
   "source": [
    "#plotting confusion matrix\n",
    "from sklearn.metrics import confusion_matrix\n",
    "cm_f = confusion_matrix(y_val ,final_pred)"
   ]
  },
  {
   "cell_type": "code",
   "execution_count": 46,
   "metadata": {},
   "outputs": [
    {
     "data": {
      "text/plain": [
       "array([[21, 37],\n",
       "       [11, 82]], dtype=int64)"
      ]
     },
     "execution_count": 46,
     "metadata": {},
     "output_type": "execute_result"
    }
   ],
   "source": [
    "cm_f"
   ]
  },
  {
   "cell_type": "code",
   "execution_count": 47,
   "metadata": {},
   "outputs": [
    {
     "data": {
      "text/plain": [
       "0.6804197432017028"
      ]
     },
     "execution_count": 47,
     "metadata": {},
     "output_type": "execute_result"
    }
   ],
   "source": [
    "average_precision_f = average_precision_score(y_val, final_pred)\n",
    "average_precision_f"
   ]
  },
  {
   "cell_type": "code",
   "execution_count": null,
   "metadata": {},
   "outputs": [],
   "source": []
  }
 ],
 "metadata": {
  "kernelspec": {
   "display_name": "Python 3",
   "language": "python",
   "name": "python3"
  },
  "language_info": {
   "codemirror_mode": {
    "name": "ipython",
    "version": 3
   },
   "file_extension": ".py",
   "mimetype": "text/x-python",
   "name": "python",
   "nbconvert_exporter": "python",
   "pygments_lexer": "ipython3",
   "version": "3.7.3"
  }
 },
 "nbformat": 4,
 "nbformat_minor": 2
}
