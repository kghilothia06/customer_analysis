{
  "nbformat": 4,
  "nbformat_minor": 0,
  "metadata": {
    "kernelspec": {
      "display_name": "Python 3",
      "language": "python",
      "name": "python3"
    },
    "language_info": {
      "codemirror_mode": {
        "name": "ipython",
        "version": 3
      },
      "file_extension": ".py",
      "mimetype": "text/x-python",
      "name": "python",
      "nbconvert_exporter": "python",
      "pygments_lexer": "ipython3",
      "version": "3.7.1"
    },
    "colab": {
      "name": "model_building_LSTM-CAR.ipynb",
      "provenance": [],
      "collapsed_sections": [],
      "include_colab_link": true
    }
  },
  "cells": [
    {
      "cell_type": "markdown",
      "metadata": {
        "id": "view-in-github",
        "colab_type": "text"
      },
      "source": [
        "<a href=\"https://colab.research.google.com/github/kghilothia06/customer_analysis/blob/master/model_building_LSTM_CAR.ipynb\" target=\"_parent\"><img src=\"https://colab.research.google.com/assets/colab-badge.svg\" alt=\"Open In Colab\"/></a>"
      ]
    },
    {
      "cell_type": "markdown",
      "metadata": {
        "id": "eC-w6V_0xek0",
        "colab_type": "text"
      },
      "source": [
        "# Importing python libraries"
      ]
    },
    {
      "cell_type": "code",
      "metadata": {
        "id": "ZnoXC9Olxek5",
        "colab_type": "code",
        "outputId": "d949d56a-726c-4900-b767-1f2066f2f1c9",
        "colab": {
          "base_uri": "https://localhost:8080/",
          "height": 72
        }
      },
      "source": [
        "import numpy as np #for numerical computations\n",
        "import pandas as pd #for reading the dataset\n",
        "import matplotlib.pyplot as plt #for data visualization\n",
        "import seaborn as sns #for interactive visualizations"
      ],
      "execution_count": 1,
      "outputs": [
        {
          "output_type": "stream",
          "text": [
            "/usr/local/lib/python3.6/dist-packages/statsmodels/tools/_testing.py:19: FutureWarning: pandas.util.testing is deprecated. Use the functions in the public API at pandas.testing instead.\n",
            "  import pandas.util.testing as tm\n"
          ],
          "name": "stderr"
        }
      ]
    },
    {
      "cell_type": "code",
      "metadata": {
        "id": "JqPinB5YxelA",
        "colab_type": "code",
        "colab": {}
      },
      "source": [
        "#Importing the dataset\n",
        "df = pd.read_excel('/content/drive/My Drive/Customers2_TimeSeries.xlsx')"
      ],
      "execution_count": 0,
      "outputs": []
    },
    {
      "cell_type": "markdown",
      "metadata": {
        "id": "p0XugEUaxelH",
        "colab_type": "text"
      },
      "source": [
        "# Exploring the dataset"
      ]
    },
    {
      "cell_type": "code",
      "metadata": {
        "id": "IcIBRVqgxelH",
        "colab_type": "code",
        "outputId": "2c7309bd-fb1f-4fce-c960-5ed320cb0d20",
        "colab": {
          "base_uri": "https://localhost:8080/",
          "height": 260
        }
      },
      "source": [
        "df.info"
      ],
      "execution_count": 3,
      "outputs": [
        {
          "output_type": "execute_result",
          "data": {
            "text/plain": [
              "<bound method DataFrame.info of       CustomerID       Date         Interaction MadeAPurchase\n",
              "0              1 2020-01-05           call_made            No\n",
              "1              1 2020-01-06       call_received            No\n",
              "2              1 2020-01-07          email_sent            No\n",
              "3              1 2020-01-08        email_opened            No\n",
              "4              1 2020-01-09        email_opened            No\n",
              "...          ...        ...                 ...           ...\n",
              "6019         753 2020-01-31       call_received           Yes\n",
              "6020         753 2020-02-01          email_sent           Yes\n",
              "6021         753 2020-02-02        email_opened           Yes\n",
              "6022         753 2020-02-03        email_opened           Yes\n",
              "6023         753 2020-02-04  webinar_registered           Yes\n",
              "\n",
              "[6024 rows x 4 columns]>"
            ]
          },
          "metadata": {
            "tags": []
          },
          "execution_count": 3
        }
      ]
    },
    {
      "cell_type": "code",
      "metadata": {
        "id": "nUf2WkO-xelM",
        "colab_type": "code",
        "outputId": "ea4ec5bc-4553-49bb-afbd-7c9f37a1069b",
        "colab": {
          "base_uri": "https://localhost:8080/",
          "height": 355
        }
      },
      "source": [
        "#first 5 entries\n",
        "df.head(10)"
      ],
      "execution_count": 142,
      "outputs": [
        {
          "output_type": "execute_result",
          "data": {
            "text/html": [
              "<div>\n",
              "<style scoped>\n",
              "    .dataframe tbody tr th:only-of-type {\n",
              "        vertical-align: middle;\n",
              "    }\n",
              "\n",
              "    .dataframe tbody tr th {\n",
              "        vertical-align: top;\n",
              "    }\n",
              "\n",
              "    .dataframe thead th {\n",
              "        text-align: right;\n",
              "    }\n",
              "</style>\n",
              "<table border=\"1\" class=\"dataframe\">\n",
              "  <thead>\n",
              "    <tr style=\"text-align: right;\">\n",
              "      <th></th>\n",
              "      <th>CustomerID</th>\n",
              "      <th>Date</th>\n",
              "      <th>Interaction</th>\n",
              "      <th>MadeAPurchase</th>\n",
              "    </tr>\n",
              "  </thead>\n",
              "  <tbody>\n",
              "    <tr>\n",
              "      <th>0</th>\n",
              "      <td>1</td>\n",
              "      <td>2020-01-05</td>\n",
              "      <td>call_made</td>\n",
              "      <td>No</td>\n",
              "    </tr>\n",
              "    <tr>\n",
              "      <th>1</th>\n",
              "      <td>1</td>\n",
              "      <td>2020-01-06</td>\n",
              "      <td>call_received</td>\n",
              "      <td>No</td>\n",
              "    </tr>\n",
              "    <tr>\n",
              "      <th>2</th>\n",
              "      <td>1</td>\n",
              "      <td>2020-01-07</td>\n",
              "      <td>email_sent</td>\n",
              "      <td>No</td>\n",
              "    </tr>\n",
              "    <tr>\n",
              "      <th>3</th>\n",
              "      <td>1</td>\n",
              "      <td>2020-01-08</td>\n",
              "      <td>email_opened</td>\n",
              "      <td>No</td>\n",
              "    </tr>\n",
              "    <tr>\n",
              "      <th>4</th>\n",
              "      <td>1</td>\n",
              "      <td>2020-01-09</td>\n",
              "      <td>email_opened</td>\n",
              "      <td>No</td>\n",
              "    </tr>\n",
              "    <tr>\n",
              "      <th>5</th>\n",
              "      <td>1</td>\n",
              "      <td>2020-01-10</td>\n",
              "      <td>webinar_registered</td>\n",
              "      <td>No</td>\n",
              "    </tr>\n",
              "    <tr>\n",
              "      <th>6</th>\n",
              "      <td>1</td>\n",
              "      <td>2020-01-11</td>\n",
              "      <td>webinar_attended</td>\n",
              "      <td>No</td>\n",
              "    </tr>\n",
              "    <tr>\n",
              "      <th>7</th>\n",
              "      <td>1</td>\n",
              "      <td>2020-01-12</td>\n",
              "      <td>paper_downloaded</td>\n",
              "      <td>No</td>\n",
              "    </tr>\n",
              "    <tr>\n",
              "      <th>8</th>\n",
              "      <td>2</td>\n",
              "      <td>2020-01-13</td>\n",
              "      <td>call_received</td>\n",
              "      <td>No</td>\n",
              "    </tr>\n",
              "    <tr>\n",
              "      <th>9</th>\n",
              "      <td>2</td>\n",
              "      <td>2020-01-14</td>\n",
              "      <td>call_received</td>\n",
              "      <td>No</td>\n",
              "    </tr>\n",
              "  </tbody>\n",
              "</table>\n",
              "</div>"
            ],
            "text/plain": [
              "   CustomerID       Date         Interaction MadeAPurchase\n",
              "0           1 2020-01-05           call_made            No\n",
              "1           1 2020-01-06       call_received            No\n",
              "2           1 2020-01-07          email_sent            No\n",
              "3           1 2020-01-08        email_opened            No\n",
              "4           1 2020-01-09        email_opened            No\n",
              "5           1 2020-01-10  webinar_registered            No\n",
              "6           1 2020-01-11    webinar_attended            No\n",
              "7           1 2020-01-12    paper_downloaded            No\n",
              "8           2 2020-01-13       call_received            No\n",
              "9           2 2020-01-14       call_received            No"
            ]
          },
          "metadata": {
            "tags": []
          },
          "execution_count": 142
        }
      ]
    },
    {
      "cell_type": "code",
      "metadata": {
        "id": "qex69L9kxelP",
        "colab_type": "code",
        "outputId": "9f939a61-3149-432b-d971-fefa8aed22af",
        "colab": {
          "base_uri": "https://localhost:8080/",
          "height": 35
        }
      },
      "source": [
        "df.shape"
      ],
      "execution_count": 143,
      "outputs": [
        {
          "output_type": "execute_result",
          "data": {
            "text/plain": [
              "(6024, 4)"
            ]
          },
          "metadata": {
            "tags": []
          },
          "execution_count": 143
        }
      ]
    },
    {
      "cell_type": "code",
      "metadata": {
        "id": "TIUAiE03xelT",
        "colab_type": "code",
        "outputId": "671c4d1b-b94a-43c5-eda0-7c67ef64a226",
        "colab": {
          "base_uri": "https://localhost:8080/",
          "height": 260
        }
      },
      "source": [
        "df.describe"
      ],
      "execution_count": 144,
      "outputs": [
        {
          "output_type": "execute_result",
          "data": {
            "text/plain": [
              "<bound method NDFrame.describe of       CustomerID       Date         Interaction MadeAPurchase\n",
              "0              1 2020-01-05           call_made            No\n",
              "1              1 2020-01-06       call_received            No\n",
              "2              1 2020-01-07          email_sent            No\n",
              "3              1 2020-01-08        email_opened            No\n",
              "4              1 2020-01-09        email_opened            No\n",
              "...          ...        ...                 ...           ...\n",
              "6019         753 2020-01-31       call_received           Yes\n",
              "6020         753 2020-02-01          email_sent           Yes\n",
              "6021         753 2020-02-02        email_opened           Yes\n",
              "6022         753 2020-02-03        email_opened           Yes\n",
              "6023         753 2020-02-04  webinar_registered           Yes\n",
              "\n",
              "[6024 rows x 4 columns]>"
            ]
          },
          "metadata": {
            "tags": []
          },
          "execution_count": 144
        }
      ]
    },
    {
      "cell_type": "code",
      "metadata": {
        "id": "Ozknay-wxelY",
        "colab_type": "code",
        "outputId": "d18d3a28-4237-409d-dcfd-f5f534ce2a11",
        "colab": {
          "base_uri": "https://localhost:8080/",
          "height": 104
        }
      },
      "source": [
        "#checking for missing/null values\n",
        "df.isnull().sum()"
      ],
      "execution_count": 145,
      "outputs": [
        {
          "output_type": "execute_result",
          "data": {
            "text/plain": [
              "CustomerID       0\n",
              "Date             0\n",
              "Interaction      0\n",
              "MadeAPurchase    0\n",
              "dtype: int64"
            ]
          },
          "metadata": {
            "tags": []
          },
          "execution_count": 145
        }
      ]
    },
    {
      "cell_type": "code",
      "metadata": {
        "id": "egfMPcVvxelc",
        "colab_type": "code",
        "outputId": "623be27d-419c-4044-df19-33e87c40cd23",
        "colab": {
          "base_uri": "https://localhost:8080/",
          "height": 156
        }
      },
      "source": [
        "#counting no. of different interactions possible from the dataset\n",
        "df.Interaction.value_counts()"
      ],
      "execution_count": 146,
      "outputs": [
        {
          "output_type": "execute_result",
          "data": {
            "text/plain": [
              "email_opened          1447\n",
              "call_received         1348\n",
              "call_made              776\n",
              "email_sent             661\n",
              "paper_downloaded       658\n",
              "webinar_registered     587\n",
              "webinar_attended       547\n",
              "Name: Interaction, dtype: int64"
            ]
          },
          "metadata": {
            "tags": []
          },
          "execution_count": 146
        }
      ]
    },
    {
      "cell_type": "code",
      "metadata": {
        "id": "aKI_dvOR49OP",
        "colab_type": "code",
        "outputId": "9ea81943-9a7b-4ea4-a473-fe9d45f1b4d1",
        "colab": {
          "base_uri": "https://localhost:8080/",
          "height": 225
        }
      },
      "source": [
        "#counting no. of different dates in the dataset\n",
        "df['Date'].value_counts()"
      ],
      "execution_count": 147,
      "outputs": [
        {
          "output_type": "execute_result",
          "data": {
            "text/plain": [
              "2020-02-19    198\n",
              "2020-02-15    198\n",
              "2020-02-21    198\n",
              "2020-02-20    198\n",
              "2020-02-18    198\n",
              "             ... \n",
              "2020-02-11     52\n",
              "2020-02-09     52\n",
              "2020-02-10     52\n",
              "2020-02-12     52\n",
              "2020-02-14     52\n",
              "Name: Date, Length: 65, dtype: int64"
            ]
          },
          "metadata": {
            "tags": []
          },
          "execution_count": 147
        }
      ]
    },
    {
      "cell_type": "markdown",
      "metadata": {
        "id": "rZsqm-6Ixele",
        "colab_type": "text"
      },
      "source": [
        "# Data Preprocessing & Visualization"
      ]
    },
    {
      "cell_type": "code",
      "metadata": {
        "id": "iWgj5vb-xelf",
        "colab_type": "code",
        "outputId": "ffacd77e-a268-4366-cfac-281c90c9bcf8",
        "colab": {
          "base_uri": "https://localhost:8080/",
          "height": 295
        }
      },
      "source": [
        "#plotting a bar graph of 'Interaction' column\n",
        "df['Interaction'].value_counts().plot(kind='barh')\n",
        "plt.xlabel('Interactions')\n",
        "plt.ylabel('Frequency')\n",
        "plt.title('Visualizing different types of interactions and their frequencies in the dataset')\n",
        "plt.show()"
      ],
      "execution_count": 148,
      "outputs": [
        {
          "output_type": "display_data",
          "data": {
            "image/png": "[encoded data removed]",
            "text/plain": [
              "<Figure size 432x288 with 1 Axes>"
            ]
          },
          "metadata": {
            "tags": [],
            "needs_background": "light"
          }
        }
      ]
    },
    {
      "cell_type": "code",
      "metadata": {
        "scrolled": true,
        "id": "X2v2pRB5xelh",
        "colab_type": "code",
        "colab": {}
      },
      "source": [
        "#We label encode 'MadeAPurchase' column\n",
        "from sklearn.preprocessing import LabelEncoder\n",
        "le = LabelEncoder()\n",
        "df['MadeAPurchase'] = le.fit_transform(df['MadeAPurchase'])\n"
      ],
      "execution_count": 0,
      "outputs": []
    },
    {
      "cell_type": "code",
      "metadata": {
        "id": "dgNmK8a2xelu",
        "colab_type": "code",
        "colab": {}
      },
      "source": [
        "#We now label encode 'Interaction' column\n",
        "df['Interaction'] = le.fit_transform(df['Interaction'])"
      ],
      "execution_count": 0,
      "outputs": []
    },
    {
      "cell_type": "markdown",
      "metadata": {
        "id": "y-p6USha8VG0",
        "colab_type": "text"
      },
      "source": [
        "Now, we partition the data as follows:\n",
        "We follow sliding window technique with each window denoting activities of one customer over a period of 8 days"
      ]
    },
    {
      "cell_type": "code",
      "metadata": {
        "id": "kfgqbdOUD7Xa",
        "colab_type": "code",
        "colab": {}
      },
      "source": [
        "# segments is a list where each row contains activities of a single customer\n",
        "# labels is a list containing whether a purchase is made or not for each customer\n",
        "N_time_steps = 8\n",
        "step = 8\n",
        "segments = []\n",
        "labels = []\n",
        "for i in range(0,len(df)-1,step):\n",
        "  xs = df['Interaction'].values[i : i+N_time_steps]\n",
        "  ys = df['MadeAPurchase'].values[i]\n",
        "  segments.append([xs])\n",
        "  labels.append([ys])"
      ],
      "execution_count": 0,
      "outputs": []
    },
    {
      "cell_type": "code",
      "metadata": {
        "id": "ezw5hFotLDyK",
        "colab_type": "code",
        "outputId": "111ae082-0e36-4382-a4e2-6af8072aeb0c",
        "colab": {
          "base_uri": "https://localhost:8080/",
          "height": 35
        }
      },
      "source": [
        "labels = np.array(labels)\n",
        "labels.shape"
      ],
      "execution_count": 8,
      "outputs": [
        {
          "output_type": "execute_result",
          "data": {
            "text/plain": [
              "(753, 1)"
            ]
          },
          "metadata": {
            "tags": []
          },
          "execution_count": 8
        }
      ]
    },
    {
      "cell_type": "code",
      "metadata": {
        "id": "eKg_3SQMD64_",
        "colab_type": "code",
        "colab": {
          "base_uri": "https://localhost:8080/",
          "height": 867
        },
        "outputId": "6895a59b-2136-4158-a2b4-cdc5f508b02f"
      },
      "source": [
        "reshaped_segments = np.array(segments).reshape(753,8,1)\n",
        "reshaped_segments"
      ],
      "execution_count": 9,
      "outputs": [
        {
          "output_type": "execute_result",
          "data": {
            "text/plain": [
              "array([[[0],\n",
              "        [1],\n",
              "        [3],\n",
              "        ...,\n",
              "        [6],\n",
              "        [5],\n",
              "        [4]],\n",
              "\n",
              "       [[1],\n",
              "        [1],\n",
              "        [3],\n",
              "        ...,\n",
              "        [6],\n",
              "        [5],\n",
              "        [4]],\n",
              "\n",
              "       [[1],\n",
              "        [1],\n",
              "        [3],\n",
              "        ...,\n",
              "        [6],\n",
              "        [5],\n",
              "        [4]],\n",
              "\n",
              "       ...,\n",
              "\n",
              "       [[2],\n",
              "        [0],\n",
              "        [5],\n",
              "        ...,\n",
              "        [2],\n",
              "        [2],\n",
              "        [6]],\n",
              "\n",
              "       [[5],\n",
              "        [4],\n",
              "        [1],\n",
              "        ...,\n",
              "        [2],\n",
              "        [2],\n",
              "        [6]],\n",
              "\n",
              "       [[5],\n",
              "        [4],\n",
              "        [1],\n",
              "        ...,\n",
              "        [2],\n",
              "        [2],\n",
              "        [6]]])"
            ]
          },
          "metadata": {
            "tags": []
          },
          "execution_count": 9
        }
      ]
    },
    {
      "cell_type": "markdown",
      "metadata": {
        "id": "8QvhP6n7_7QI",
        "colab_type": "text"
      },
      "source": [
        "##Model Building"
      ]
    },
    {
      "cell_type": "markdown",
      "metadata": {
        "id": "wkpek73lBbis",
        "colab_type": "text"
      },
      "source": [
        "train-test split\n",
        "\n",
        "out of 753 customers , we keep data of around 600 customers as training data and rest as test data\n"
      ]
    },
    {
      "cell_type": "markdown",
      "metadata": {
        "id": "_T-zs15_DOXD",
        "colab_type": "text"
      },
      "source": [
        "Lets start building the LSTM network first"
      ]
    },
    {
      "cell_type": "code",
      "metadata": {
        "id": "5dl8uxZR1HaI",
        "colab_type": "code",
        "outputId": "6af28057-1f82-4e33-9949-2a3e6f3f8ec4",
        "colab": {
          "base_uri": "https://localhost:8080/",
          "height": 35
        }
      },
      "source": [
        "import tensorflow.keras\n",
        "from keras.layers import *\n",
        "from keras.models import Sequential"
      ],
      "execution_count": 10,
      "outputs": [
        {
          "output_type": "stream",
          "text": [
            "Using TensorFlow backend.\n"
          ],
          "name": "stderr"
        }
      ]
    },
    {
      "cell_type": "code",
      "metadata": {
        "id": "x1vQ8rBrxelo",
        "colab_type": "code",
        "colab": {}
      },
      "source": [
        "model = Sequential()\n",
        "model.add(LSTM(64,input_shape=(8,1) , return_sequences=True))\n",
        "model.add(Dropout(0.25))\n",
        "model.add(LSTM(32 , return_sequences=True ))\n",
        "model.add(Dropout(0.25))\n",
        "model.add(LSTM(32))\n",
        "model.add(Dropout(0.25))\n",
        "model.add(Dense(1, activation='sigmoid'))\n",
        "model.compile(loss='mean_squared_error' , optimizer='adam' , metrics=['accuracy'] )"
      ],
      "execution_count": 0,
      "outputs": []
    },
    {
      "cell_type": "code",
      "metadata": {
        "id": "4Qmd99PSEVMl",
        "colab_type": "code",
        "outputId": "2ba058c1-3213-4d16-b77c-ea91b4b73eb6",
        "colab": {
          "base_uri": "https://localhost:8080/",
          "height": 399
        }
      },
      "source": [
        "model.summary()"
      ],
      "execution_count": 45,
      "outputs": [
        {
          "output_type": "stream",
          "text": [
            "Model: \"sequential_11\"\n",
            "_________________________________________________________________\n",
            "Layer (type)                 Output Shape              Param #   \n",
            "=================================================================\n",
            "lstm_18 (LSTM)               (None, 8, 64)             16896     \n",
            "_________________________________________________________________\n",
            "dropout_15 (Dropout)         (None, 8, 64)             0         \n",
            "_________________________________________________________________\n",
            "lstm_19 (LSTM)               (None, 8, 32)             12416     \n",
            "_________________________________________________________________\n",
            "dropout_16 (Dropout)         (None, 8, 32)             0         \n",
            "_________________________________________________________________\n",
            "lstm_20 (LSTM)               (None, 32)                8320      \n",
            "_________________________________________________________________\n",
            "dropout_17 (Dropout)         (None, 32)                0         \n",
            "_________________________________________________________________\n",
            "dense_8 (Dense)              (None, 1)                 33        \n",
            "=================================================================\n",
            "Total params: 37,665\n",
            "Trainable params: 37,665\n",
            "Non-trainable params: 0\n",
            "_________________________________________________________________\n"
          ],
          "name": "stdout"
        }
      ]
    },
    {
      "cell_type": "code",
      "metadata": {
        "id": "3jig19P-EliM",
        "colab_type": "code",
        "outputId": "aabcadc5-5afd-4500-c34f-1f5d5e6a5e35",
        "colab": {
          "base_uri": "https://localhost:8080/",
          "height": 401
        }
      },
      "source": [
        "epochs_hist = model.fit(reshaped_segments , labels  , batch_size=128 , epochs=10 , validation_split=0.2)\n"
      ],
      "execution_count": 46,
      "outputs": [
        {
          "output_type": "stream",
          "text": [
            "Train on 602 samples, validate on 151 samples\n",
            "Epoch 1/10\n",
            "602/602 [==============================] - 1s 2ms/step - loss: 0.2405 - accuracy: 0.6545 - val_loss: 0.2255 - val_accuracy: 0.6887\n",
            "Epoch 2/10\n",
            "602/602 [==============================] - 0s 241us/step - loss: 0.2261 - accuracy: 0.6728 - val_loss: 0.2172 - val_accuracy: 0.6887\n",
            "Epoch 3/10\n",
            "602/602 [==============================] - 0s 237us/step - loss: 0.2230 - accuracy: 0.6728 - val_loss: 0.2169 - val_accuracy: 0.6887\n",
            "Epoch 4/10\n",
            "602/602 [==============================] - 0s 233us/step - loss: 0.2245 - accuracy: 0.6728 - val_loss: 0.2165 - val_accuracy: 0.6887\n",
            "Epoch 5/10\n",
            "602/602 [==============================] - 0s 234us/step - loss: 0.2218 - accuracy: 0.6728 - val_loss: 0.2166 - val_accuracy: 0.6887\n",
            "Epoch 6/10\n",
            "602/602 [==============================] - 0s 230us/step - loss: 0.2224 - accuracy: 0.6728 - val_loss: 0.2173 - val_accuracy: 0.6887\n",
            "Epoch 7/10\n",
            "602/602 [==============================] - 0s 265us/step - loss: 0.2224 - accuracy: 0.6728 - val_loss: 0.2172 - val_accuracy: 0.6887\n",
            "Epoch 8/10\n",
            "602/602 [==============================] - 0s 233us/step - loss: 0.2231 - accuracy: 0.6728 - val_loss: 0.2167 - val_accuracy: 0.6887\n",
            "Epoch 9/10\n",
            "602/602 [==============================] - 0s 233us/step - loss: 0.2232 - accuracy: 0.6728 - val_loss: 0.2161 - val_accuracy: 0.6887\n",
            "Epoch 10/10\n",
            "602/602 [==============================] - 0s 241us/step - loss: 0.2209 - accuracy: 0.6728 - val_loss: 0.2158 - val_accuracy: 0.6887\n"
          ],
          "name": "stdout"
        }
      ]
    },
    {
      "cell_type": "markdown",
      "metadata": {
        "id": "3lsseAWoYghP",
        "colab_type": "text"
      },
      "source": [
        "##Model Evaluation"
      ]
    },
    {
      "cell_type": "code",
      "metadata": {
        "id": "A7oP3AFYGWcp",
        "colab_type": "code",
        "colab": {
          "base_uri": "https://localhost:8080/",
          "height": 295
        },
        "outputId": "a1ddadca-3c89-49e9-e522-e7323831d063"
      },
      "source": [
        "plt.plot(epochs_hist.history['loss'])\n",
        "plt.plot(epochs_hist.history['val_loss'])\n",
        "plt.title('model-loss')\n",
        "plt.ylabel('training and validation loss')\n",
        "plt.xlabel('no. of epochs')\n",
        "plt.legend(['Training loss' , 'validation loss'])\n",
        "plt.show()"
      ],
      "execution_count": 48,
      "outputs": [
        {
          "output_type": "display_data",
          "data": {
            "image/png": "[encoded data removed]",
            "text/plain": [
              "<Figure size 432x288 with 1 Axes>"
            ]
          },
          "metadata": {
            "tags": [],
            "needs_background": "light"
          }
        }
      ]
    },
    {
      "cell_type": "code",
      "metadata": {
        "id": "TIfaGcTq6Wa4",
        "colab_type": "code",
        "colab": {}
      },
      "source": [
        ""
      ],
      "execution_count": 0,
      "outputs": []
    }
  ]
}