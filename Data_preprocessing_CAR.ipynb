{
  "nbformat": 4,
  "nbformat_minor": 0,
  "metadata": {
    "kernelspec": {
      "display_name": "Python 3",
      "language": "python",
      "name": "python3"
    },
    "language_info": {
      "codemirror_mode": {
        "name": "ipython",
        "version": 3
      },
      "file_extension": ".py",
      "mimetype": "text/x-python",
      "name": "python",
      "nbconvert_exporter": "python",
      "pygments_lexer": "ipython3",
      "version": "3.7.1"
    },
    "colab": {
      "name": "Data_preprocessing-CAR.ipynb",
      "provenance": [],
      "collapsed_sections": [],
      "toc_visible": true,
      "include_colab_link": true
    }
  },
  "cells": [
    {
      "cell_type": "markdown",
      "metadata": {
        "id": "view-in-github",
        "colab_type": "text"
      },
      "source": [
        "<a href=\"https://colab.research.google.com/github/kghilothia06/customer_analysis/blob/master/Data_preprocessing_CAR.ipynb\" target=\"_parent\"><img src=\"https://colab.research.google.com/assets/colab-badge.svg\" alt=\"Open In Colab\"/></a>"
      ]
    },
    {
      "cell_type": "markdown",
      "metadata": {
        "id": "eC-w6V_0xek0",
        "colab_type": "text"
      },
      "source": [
        "# Importing python libraries"
      ]
    },
    {
      "cell_type": "code",
      "metadata": {
        "id": "ZnoXC9Olxek5",
        "colab_type": "code",
        "colab": {
          "base_uri": "https://localhost:8080/",
          "height": 72
        },
        "outputId": "b45a055b-a917-4496-a0e8-98ec42c0438c"
      },
      "source": [
        "import numpy as np #for numerical computations\n",
        "import pandas as pd #for reading the dataset\n",
        "import matplotlib.pyplot as plt #for data visualization\n",
        "import seaborn as sns #for interactive visualizations"
      ],
      "execution_count": 1,
      "outputs": [
        {
          "output_type": "stream",
          "text": [
            "/usr/local/lib/python3.6/dist-packages/statsmodels/tools/_testing.py:19: FutureWarning: pandas.util.testing is deprecated. Use the functions in the public API at pandas.testing instead.\n",
            "  import pandas.util.testing as tm\n"
          ],
          "name": "stderr"
        }
      ]
    },
    {
      "cell_type": "code",
      "metadata": {
        "id": "JqPinB5YxelA",
        "colab_type": "code",
        "colab": {}
      },
      "source": [
        "#Importing the dataset\n",
        "df = pd.read_excel('Customers2_TimeSeries.xlsx')"
      ],
      "execution_count": 0,
      "outputs": []
    },
    {
      "cell_type": "markdown",
      "metadata": {
        "id": "p0XugEUaxelH",
        "colab_type": "text"
      },
      "source": [
        "# Exploring the dataset"
      ]
    },
    {
      "cell_type": "code",
      "metadata": {
        "id": "IcIBRVqgxelH",
        "colab_type": "code",
        "colab": {
          "base_uri": "https://localhost:8080/",
          "height": 260
        },
        "outputId": "051ff4f6-29ad-46bf-f710-b93bfeb39041"
      },
      "source": [
        "df.info"
      ],
      "execution_count": 3,
      "outputs": [
        {
          "output_type": "execute_result",
          "data": {
            "text/plain": [
              "<bound method DataFrame.info of       CustomerID       Date         Interaction MadeAPurchase\n",
              "0              1 2020-01-05           call_made            No\n",
              "1              1 2020-01-06       call_received            No\n",
              "2              1 2020-01-07          email_sent            No\n",
              "3              1 2020-01-08        email_opened            No\n",
              "4              1 2020-01-09        email_opened            No\n",
              "...          ...        ...                 ...           ...\n",
              "6019         753 2020-01-31       call_received           Yes\n",
              "6020         753 2020-02-01          email_sent           Yes\n",
              "6021         753 2020-02-02        email_opened           Yes\n",
              "6022         753 2020-02-03        email_opened           Yes\n",
              "6023         753 2020-02-04  webinar_registered           Yes\n",
              "\n",
              "[6024 rows x 4 columns]>"
            ]
          },
          "metadata": {
            "tags": []
          },
          "execution_count": 3
        }
      ]
    },
    {
      "cell_type": "code",
      "metadata": {
        "id": "nUf2WkO-xelM",
        "colab_type": "code",
        "colab": {
          "base_uri": "https://localhost:8080/",
          "height": 355
        },
        "outputId": "6471cceb-aeda-4acc-d5db-bb66ad64c512"
      },
      "source": [
        "#first 5 entries\n",
        "df.head(10)"
      ],
      "execution_count": 4,
      "outputs": [
        {
          "output_type": "execute_result",
          "data": {
            "text/html": [
              "<div>\n",
              "<style scoped>\n",
              "    .dataframe tbody tr th:only-of-type {\n",
              "        vertical-align: middle;\n",
              "    }\n",
              "\n",
              "    .dataframe tbody tr th {\n",
              "        vertical-align: top;\n",
              "    }\n",
              "\n",
              "    .dataframe thead th {\n",
              "        text-align: right;\n",
              "    }\n",
              "</style>\n",
              "<table border=\"1\" class=\"dataframe\">\n",
              "  <thead>\n",
              "    <tr style=\"text-align: right;\">\n",
              "      <th></th>\n",
              "      <th>CustomerID</th>\n",
              "      <th>Date</th>\n",
              "      <th>Interaction</th>\n",
              "      <th>MadeAPurchase</th>\n",
              "    </tr>\n",
              "  </thead>\n",
              "  <tbody>\n",
              "    <tr>\n",
              "      <th>0</th>\n",
              "      <td>1</td>\n",
              "      <td>2020-01-05</td>\n",
              "      <td>call_made</td>\n",
              "      <td>No</td>\n",
              "    </tr>\n",
              "    <tr>\n",
              "      <th>1</th>\n",
              "      <td>1</td>\n",
              "      <td>2020-01-06</td>\n",
              "      <td>call_received</td>\n",
              "      <td>No</td>\n",
              "    </tr>\n",
              "    <tr>\n",
              "      <th>2</th>\n",
              "      <td>1</td>\n",
              "      <td>2020-01-07</td>\n",
              "      <td>email_sent</td>\n",
              "      <td>No</td>\n",
              "    </tr>\n",
              "    <tr>\n",
              "      <th>3</th>\n",
              "      <td>1</td>\n",
              "      <td>2020-01-08</td>\n",
              "      <td>email_opened</td>\n",
              "      <td>No</td>\n",
              "    </tr>\n",
              "    <tr>\n",
              "      <th>4</th>\n",
              "      <td>1</td>\n",
              "      <td>2020-01-09</td>\n",
              "      <td>email_opened</td>\n",
              "      <td>No</td>\n",
              "    </tr>\n",
              "    <tr>\n",
              "      <th>5</th>\n",
              "      <td>1</td>\n",
              "      <td>2020-01-10</td>\n",
              "      <td>webinar_registered</td>\n",
              "      <td>No</td>\n",
              "    </tr>\n",
              "    <tr>\n",
              "      <th>6</th>\n",
              "      <td>1</td>\n",
              "      <td>2020-01-11</td>\n",
              "      <td>webinar_attended</td>\n",
              "      <td>No</td>\n",
              "    </tr>\n",
              "    <tr>\n",
              "      <th>7</th>\n",
              "      <td>1</td>\n",
              "      <td>2020-01-12</td>\n",
              "      <td>paper_downloaded</td>\n",
              "      <td>No</td>\n",
              "    </tr>\n",
              "    <tr>\n",
              "      <th>8</th>\n",
              "      <td>2</td>\n",
              "      <td>2020-01-13</td>\n",
              "      <td>call_received</td>\n",
              "      <td>No</td>\n",
              "    </tr>\n",
              "    <tr>\n",
              "      <th>9</th>\n",
              "      <td>2</td>\n",
              "      <td>2020-01-14</td>\n",
              "      <td>call_received</td>\n",
              "      <td>No</td>\n",
              "    </tr>\n",
              "  </tbody>\n",
              "</table>\n",
              "</div>"
            ],
            "text/plain": [
              "   CustomerID       Date         Interaction MadeAPurchase\n",
              "0           1 2020-01-05           call_made            No\n",
              "1           1 2020-01-06       call_received            No\n",
              "2           1 2020-01-07          email_sent            No\n",
              "3           1 2020-01-08        email_opened            No\n",
              "4           1 2020-01-09        email_opened            No\n",
              "5           1 2020-01-10  webinar_registered            No\n",
              "6           1 2020-01-11    webinar_attended            No\n",
              "7           1 2020-01-12    paper_downloaded            No\n",
              "8           2 2020-01-13       call_received            No\n",
              "9           2 2020-01-14       call_received            No"
            ]
          },
          "metadata": {
            "tags": []
          },
          "execution_count": 4
        }
      ]
    },
    {
      "cell_type": "code",
      "metadata": {
        "id": "qex69L9kxelP",
        "colab_type": "code",
        "colab": {
          "base_uri": "https://localhost:8080/",
          "height": 35
        },
        "outputId": "1fce94b9-3777-45b6-ffcd-8adefc66f02f"
      },
      "source": [
        "df.shape"
      ],
      "execution_count": 5,
      "outputs": [
        {
          "output_type": "execute_result",
          "data": {
            "text/plain": [
              "(6024, 4)"
            ]
          },
          "metadata": {
            "tags": []
          },
          "execution_count": 5
        }
      ]
    },
    {
      "cell_type": "code",
      "metadata": {
        "id": "TIUAiE03xelT",
        "colab_type": "code",
        "colab": {
          "base_uri": "https://localhost:8080/",
          "height": 260
        },
        "outputId": "297c6384-8adc-4a63-b18b-67b42c664dc3"
      },
      "source": [
        "df.describe"
      ],
      "execution_count": 6,
      "outputs": [
        {
          "output_type": "execute_result",
          "data": {
            "text/plain": [
              "<bound method NDFrame.describe of       CustomerID       Date         Interaction MadeAPurchase\n",
              "0              1 2020-01-05           call_made            No\n",
              "1              1 2020-01-06       call_received            No\n",
              "2              1 2020-01-07          email_sent            No\n",
              "3              1 2020-01-08        email_opened            No\n",
              "4              1 2020-01-09        email_opened            No\n",
              "...          ...        ...                 ...           ...\n",
              "6019         753 2020-01-31       call_received           Yes\n",
              "6020         753 2020-02-01          email_sent           Yes\n",
              "6021         753 2020-02-02        email_opened           Yes\n",
              "6022         753 2020-02-03        email_opened           Yes\n",
              "6023         753 2020-02-04  webinar_registered           Yes\n",
              "\n",
              "[6024 rows x 4 columns]>"
            ]
          },
          "metadata": {
            "tags": []
          },
          "execution_count": 6
        }
      ]
    },
    {
      "cell_type": "code",
      "metadata": {
        "id": "Ozknay-wxelY",
        "colab_type": "code",
        "colab": {
          "base_uri": "https://localhost:8080/",
          "height": 104
        },
        "outputId": "b625c1ba-2f03-43a3-b671-37b7e710b00e"
      },
      "source": [
        "#checking for missing/null values\n",
        "df.isnull().sum()"
      ],
      "execution_count": 7,
      "outputs": [
        {
          "output_type": "execute_result",
          "data": {
            "text/plain": [
              "CustomerID       0\n",
              "Date             0\n",
              "Interaction      0\n",
              "MadeAPurchase    0\n",
              "dtype: int64"
            ]
          },
          "metadata": {
            "tags": []
          },
          "execution_count": 7
        }
      ]
    },
    {
      "cell_type": "code",
      "metadata": {
        "id": "egfMPcVvxelc",
        "colab_type": "code",
        "colab": {
          "base_uri": "https://localhost:8080/",
          "height": 156
        },
        "outputId": "f8eabbbf-01de-4b7e-ebf8-ac8148f20ae9"
      },
      "source": [
        "#counting no. of different interactions possible from the dataset\n",
        "df.Interaction.value_counts()"
      ],
      "execution_count": 8,
      "outputs": [
        {
          "output_type": "execute_result",
          "data": {
            "text/plain": [
              "email_opened          1447\n",
              "call_received         1348\n",
              "call_made              776\n",
              "email_sent             661\n",
              "paper_downloaded       658\n",
              "webinar_registered     587\n",
              "webinar_attended       547\n",
              "Name: Interaction, dtype: int64"
            ]
          },
          "metadata": {
            "tags": []
          },
          "execution_count": 8
        }
      ]
    },
    {
      "cell_type": "code",
      "metadata": {
        "id": "aKI_dvOR49OP",
        "colab_type": "code",
        "colab": {
          "base_uri": "https://localhost:8080/",
          "height": 225
        },
        "outputId": "12f812c8-d745-4ae6-80cc-2ed9cc3b2617"
      },
      "source": [
        "#counting no. of different dates in the dataset\n",
        "df['Date'].value_counts()"
      ],
      "execution_count": 9,
      "outputs": [
        {
          "output_type": "execute_result",
          "data": {
            "text/plain": [
              "2020-02-19    198\n",
              "2020-02-15    198\n",
              "2020-02-21    198\n",
              "2020-02-20    198\n",
              "2020-02-18    198\n",
              "             ... \n",
              "2020-02-11     52\n",
              "2020-02-09     52\n",
              "2020-02-10     52\n",
              "2020-02-12     52\n",
              "2020-02-14     52\n",
              "Name: Date, Length: 65, dtype: int64"
            ]
          },
          "metadata": {
            "tags": []
          },
          "execution_count": 9
        }
      ]
    },
    {
      "cell_type": "markdown",
      "metadata": {
        "id": "rZsqm-6Ixele",
        "colab_type": "text"
      },
      "source": [
        "# Data Preprocessing & Visualization"
      ]
    },
    {
      "cell_type": "code",
      "metadata": {
        "id": "iWgj5vb-xelf",
        "colab_type": "code",
        "colab": {
          "base_uri": "https://localhost:8080/",
          "height": 295
        },
        "outputId": "6aa1d9b3-5d1f-4fe1-b598-7b90009566db"
      },
      "source": [
        "#plotting a bar graph of 'Interaction' column\n",
        "df['Interaction'].value_counts().plot(kind='barh')\n",
        "plt.xlabel('Interactions')\n",
        "plt.ylabel('Frequency')\n",
        "plt.title('Visualizing different types of interactions and their frequencies in the dataset')\n",
        "plt.show()"
      ],
      "execution_count": 10,
      "outputs": [
        {
          "output_type": "display_data",
          "data": {
            "image/png": "[encoded data removed]",
            "text/plain": [
              "<Figure size 432x288 with 1 Axes>"
            ]
          },
          "metadata": {
            "tags": [],
            "needs_background": "light"
          }
        }
      ]
    },
    {
      "cell_type": "code",
      "metadata": {
        "scrolled": true,
        "id": "X2v2pRB5xelh",
        "colab_type": "code",
        "colab": {}
      },
      "source": [
        "#We label encode 'MadeAPurchase' column\n",
        "from sklearn.preprocessing import LabelEncoder\n",
        "le = LabelEncoder()\n",
        "df['MadeAPurchase'] = le.fit_transform(df['MadeAPurchase'])\n"
      ],
      "execution_count": 0,
      "outputs": []
    },
    {
      "cell_type": "code",
      "metadata": {
        "id": "dgNmK8a2xelu",
        "colab_type": "code",
        "colab": {}
      },
      "source": [
        "#We now label encode 'Interaction' column\n",
        "df['Interaction'] = le.fit_transform(df['Interaction'])"
      ],
      "execution_count": 0,
      "outputs": []
    },
    {
      "cell_type": "markdown",
      "metadata": {
        "id": "y-p6USha8VG0",
        "colab_type": "text"
      },
      "source": [
        "Now, we partition the data as follows:\n",
        "We follow sliding window technique with each window denoting activities of one customer over a period of 8 days"
      ]
    },
    {
      "cell_type": "code",
      "metadata": {
        "id": "kfgqbdOUD7Xa",
        "colab_type": "code",
        "colab": {}
      },
      "source": [
        "# segments is a list where each row contains activities of a single customer\n",
        "# labels is a list containing whether a purchase is made or not for each customer\n",
        "N_time_steps = 8\n",
        "step = 8\n",
        "segments = []\n",
        "labels = []\n",
        "for i in range(0,len(df)-1,step):\n",
        "  xs = df['Interaction'].values[i : i+N_time_steps]\n",
        "  ys = df['MadeAPurchase'].values[i]\n",
        "  segments.append([xs])\n",
        "  labels.append([ys])"
      ],
      "execution_count": 0,
      "outputs": []
    },
    {
      "cell_type": "code",
      "metadata": {
        "id": "ezw5hFotLDyK",
        "colab_type": "code",
        "colab": {
          "base_uri": "https://localhost:8080/",
          "height": 35
        },
        "outputId": "d5355e05-8c5b-42d5-9262-e0f5207866df"
      },
      "source": [
        "np.array(segments).shape"
      ],
      "execution_count": 42,
      "outputs": [
        {
          "output_type": "execute_result",
          "data": {
            "text/plain": [
              "(753, 1, 8)"
            ]
          },
          "metadata": {
            "tags": []
          },
          "execution_count": 42
        }
      ]
    },
    {
      "cell_type": "code",
      "metadata": {
        "id": "ywYVejMjLDBb",
        "colab_type": "code",
        "colab": {
          "base_uri": "https://localhost:8080/",
          "height": 1000
        },
        "outputId": "a256f791-cc37-4239-ad23-411fe2470876"
      },
      "source": [
        "segments"
      ],
      "execution_count": 43,
      "outputs": [
        {
          "output_type": "execute_result",
          "data": {
            "text/plain": [
              "[[array([0, 1, 3, 2, 2, 6, 5, 4])],\n",
              " [array([1, 1, 3, 2, 2, 6, 5, 4])],\n",
              " [array([1, 1, 3, 2, 2, 6, 5, 4])],\n",
              " [array([0, 1, 0, 1, 0, 1, 1, 3])],\n",
              " [array([2, 2, 6, 5, 4, 2, 1, 2])],\n",
              " [array([3, 2, 3, 4, 6, 2, 0, 5])],\n",
              " [array([4, 2, 6, 0, 0, 1, 3, 2])],\n",
              " [array([2, 6, 5, 4, 1, 1, 3, 2])],\n",
              " [array([2, 6, 5, 4, 1, 1, 3, 2])],\n",
              " [array([2, 6, 5, 4, 0, 1, 0, 1])],\n",
              " [array([0, 1, 1, 3, 2, 2, 6, 5])],\n",
              " [array([4, 2, 1, 2, 3, 2, 3, 4])],\n",
              " [array([6, 2, 0, 5, 0, 1, 3, 2])],\n",
              " [array([2, 1, 2, 3, 2, 3, 4, 6])],\n",
              " [array([2, 0, 5, 0, 1, 3, 2, 2])],\n",
              " [array([1, 2, 3, 2, 3, 4, 6, 2])],\n",
              " [array([0, 5, 0, 1, 3, 2, 2, 1])],\n",
              " [array([2, 3, 2, 3, 4, 6, 2, 0])],\n",
              " [array([5, 0, 2, 2, 2, 6, 5, 4])],\n",
              " [array([1, 1, 3, 2, 2, 6, 5, 4])],\n",
              " [array([1, 1, 3, 2, 2, 6, 5, 4])],\n",
              " [array([0, 1, 0, 1, 0, 1, 1, 3])],\n",
              " [array([2, 2, 6, 5, 4, 2, 1, 2])],\n",
              " [array([3, 2, 3, 4, 6, 2, 0, 5])],\n",
              " [array([4, 2, 6, 0, 0, 1, 3, 2])],\n",
              " [array([2, 6, 5, 4, 1, 1, 3, 2])],\n",
              " [array([2, 6, 5, 4, 1, 1, 3, 2])],\n",
              " [array([2, 6, 5, 4, 0, 1, 0, 1])],\n",
              " [array([0, 1, 1, 3, 2, 2, 6, 5])],\n",
              " [array([4, 2, 1, 2, 3, 2, 3, 4])],\n",
              " [array([6, 2, 0, 5, 0, 1, 3, 2])],\n",
              " [array([2, 1, 2, 3, 2, 3, 4, 6])],\n",
              " [array([2, 0, 5, 0, 1, 3, 2, 2])],\n",
              " [array([1, 2, 3, 2, 3, 4, 6, 2])],\n",
              " [array([0, 5, 0, 1, 3, 2, 2, 1])],\n",
              " [array([2, 3, 2, 3, 4, 6, 2, 0])],\n",
              " [array([5, 0, 2, 2, 2, 6, 5, 4])],\n",
              " [array([1, 1, 3, 2, 2, 6, 5, 4])],\n",
              " [array([1, 1, 3, 2, 2, 6, 5, 4])],\n",
              " [array([0, 1, 0, 1, 0, 1, 1, 3])],\n",
              " [array([2, 2, 6, 5, 4, 2, 1, 2])],\n",
              " [array([3, 2, 3, 4, 6, 2, 0, 5])],\n",
              " [array([4, 2, 6, 0, 0, 1, 3, 2])],\n",
              " [array([2, 6, 5, 4, 1, 1, 3, 2])],\n",
              " [array([2, 6, 5, 4, 1, 1, 3, 2])],\n",
              " [array([2, 6, 5, 4, 0, 1, 0, 1])],\n",
              " [array([0, 1, 1, 3, 2, 2, 6, 5])],\n",
              " [array([4, 2, 1, 2, 3, 2, 3, 4])],\n",
              " [array([6, 2, 0, 5, 0, 1, 3, 2])],\n",
              " [array([2, 1, 2, 3, 2, 3, 4, 6])],\n",
              " [array([2, 0, 5, 0, 1, 3, 2, 2])],\n",
              " [array([1, 2, 3, 2, 3, 4, 6, 2])],\n",
              " [array([0, 5, 0, 1, 3, 2, 2, 1])],\n",
              " [array([2, 3, 2, 3, 4, 6, 2, 0])],\n",
              " [array([5, 0, 2, 2, 2, 6, 5, 4])],\n",
              " [array([1, 1, 3, 2, 2, 6, 5, 4])],\n",
              " [array([1, 1, 3, 2, 2, 6, 5, 4])],\n",
              " [array([0, 1, 0, 1, 0, 1, 1, 3])],\n",
              " [array([2, 2, 6, 5, 4, 2, 1, 2])],\n",
              " [array([3, 2, 3, 4, 6, 2, 0, 5])],\n",
              " [array([4, 2, 6, 0, 0, 1, 3, 2])],\n",
              " [array([2, 6, 5, 4, 1, 1, 3, 2])],\n",
              " [array([2, 6, 5, 4, 1, 1, 3, 2])],\n",
              " [array([2, 6, 5, 4, 0, 1, 0, 1])],\n",
              " [array([0, 1, 1, 3, 2, 2, 6, 5])],\n",
              " [array([4, 2, 1, 2, 3, 2, 3, 4])],\n",
              " [array([6, 2, 0, 5, 0, 1, 3, 2])],\n",
              " [array([2, 1, 2, 3, 2, 3, 4, 6])],\n",
              " [array([2, 0, 5, 0, 1, 3, 2, 2])],\n",
              " [array([1, 2, 3, 2, 3, 4, 6, 2])],\n",
              " [array([0, 5, 0, 1, 3, 2, 2, 1])],\n",
              " [array([2, 3, 2, 3, 4, 6, 2, 0])],\n",
              " [array([5, 0, 2, 2, 2, 6, 5, 4])],\n",
              " [array([1, 1, 3, 2, 2, 6, 5, 4])],\n",
              " [array([1, 1, 3, 2, 2, 6, 5, 4])],\n",
              " [array([0, 1, 0, 1, 0, 1, 1, 3])],\n",
              " [array([2, 2, 6, 5, 4, 2, 1, 2])],\n",
              " [array([3, 2, 0, 1, 3, 2, 2, 6])],\n",
              " [array([5, 4, 1, 1, 3, 2, 2, 6])],\n",
              " [array([5, 4, 1, 1, 3, 2, 2, 6])],\n",
              " [array([5, 4, 0, 1, 0, 1, 0, 1])],\n",
              " [array([1, 3, 2, 2, 6, 5, 4, 2])],\n",
              " [array([1, 2, 3, 2, 3, 4, 6, 2])],\n",
              " [array([0, 5, 4, 2, 6, 0, 0, 1])],\n",
              " [array([3, 2, 2, 6, 5, 4, 1, 1])],\n",
              " [array([3, 2, 2, 6, 5, 4, 1, 1])],\n",
              " [array([3, 2, 2, 6, 5, 4, 0, 1])],\n",
              " [array([0, 1, 0, 1, 1, 1, 3, 2])],\n",
              " [array([2, 6, 5, 4, 1, 1, 3, 2])],\n",
              " [array([2, 6, 5, 4, 0, 1, 0, 1])],\n",
              " [array([0, 1, 4, 1, 1, 3, 2, 2])],\n",
              " [array([6, 5, 4, 0, 1, 0, 1, 0])],\n",
              " [array([1, 4, 1, 1, 3, 2, 2, 6])],\n",
              " [array([5, 4, 0, 1, 0, 1, 0, 1])],\n",
              " [array([4, 1, 1, 3, 2, 2, 6, 5])],\n",
              " [array([4, 0, 1, 0, 2, 2, 2, 6])],\n",
              " [array([5, 4, 1, 1, 3, 2, 2, 6])],\n",
              " [array([5, 4, 1, 1, 3, 2, 2, 6])],\n",
              " [array([5, 4, 0, 1, 0, 1, 0, 1])],\n",
              " [array([1, 3, 2, 2, 6, 5, 4, 2])],\n",
              " [array([1, 2, 3, 2, 3, 4, 6, 2])],\n",
              " [array([0, 5, 4, 2, 6, 0, 0, 1])],\n",
              " [array([3, 2, 2, 6, 5, 4, 1, 1])],\n",
              " [array([3, 2, 2, 6, 5, 4, 1, 1])],\n",
              " [array([3, 2, 2, 6, 5, 4, 0, 1])],\n",
              " [array([0, 1, 0, 1, 1, 1, 3, 2])],\n",
              " [array([2, 6, 5, 4, 1, 1, 3, 2])],\n",
              " [array([2, 6, 5, 4, 0, 1, 0, 1])],\n",
              " [array([0, 1, 4, 1, 1, 3, 2, 2])],\n",
              " [array([6, 5, 4, 0, 1, 0, 1, 0])],\n",
              " [array([1, 4, 1, 1, 3, 2, 2, 6])],\n",
              " [array([5, 4, 0, 1, 0, 1, 0, 1])],\n",
              " [array([4, 1, 1, 3, 2, 2, 6, 5])],\n",
              " [array([4, 0, 1, 0, 2, 2, 2, 6])],\n",
              " [array([5, 4, 1, 1, 3, 2, 2, 6])],\n",
              " [array([5, 4, 1, 1, 3, 2, 2, 6])],\n",
              " [array([5, 4, 0, 1, 0, 1, 0, 1])],\n",
              " [array([1, 3, 2, 2, 6, 5, 4, 2])],\n",
              " [array([1, 2, 3, 2, 3, 4, 6, 2])],\n",
              " [array([0, 5, 4, 2, 6, 0, 0, 1])],\n",
              " [array([3, 2, 2, 6, 5, 4, 1, 1])],\n",
              " [array([3, 2, 2, 6, 5, 4, 1, 1])],\n",
              " [array([3, 2, 2, 6, 5, 4, 0, 1])],\n",
              " [array([0, 1, 0, 1, 1, 1, 3, 2])],\n",
              " [array([2, 6, 5, 4, 1, 1, 3, 2])],\n",
              " [array([2, 6, 5, 4, 0, 1, 0, 1])],\n",
              " [array([0, 1, 4, 1, 1, 3, 2, 2])],\n",
              " [array([6, 5, 4, 0, 1, 0, 1, 0])],\n",
              " [array([1, 4, 1, 1, 3, 2, 2, 6])],\n",
              " [array([5, 4, 0, 1, 0, 1, 0, 1])],\n",
              " [array([4, 1, 1, 3, 2, 2, 6, 5])],\n",
              " [array([4, 0, 1, 0, 2, 2, 2, 6])],\n",
              " [array([5, 4, 1, 1, 3, 2, 2, 6])],\n",
              " [array([5, 4, 1, 1, 3, 2, 2, 6])],\n",
              " [array([5, 4, 0, 1, 0, 1, 0, 1])],\n",
              " [array([1, 3, 2, 2, 6, 5, 4, 2])],\n",
              " [array([1, 2, 3, 2, 3, 4, 6, 2])],\n",
              " [array([0, 5, 4, 2, 6, 0, 0, 1])],\n",
              " [array([3, 2, 2, 6, 5, 4, 1, 1])],\n",
              " [array([3, 2, 2, 6, 5, 4, 1, 1])],\n",
              " [array([3, 2, 2, 6, 5, 4, 0, 1])],\n",
              " [array([0, 1, 0, 1, 1, 1, 3, 2])],\n",
              " [array([2, 6, 5, 4, 1, 1, 3, 2])],\n",
              " [array([2, 6, 5, 4, 0, 1, 0, 1])],\n",
              " [array([0, 1, 4, 1, 1, 3, 2, 2])],\n",
              " [array([6, 5, 4, 0, 1, 0, 1, 0])],\n",
              " [array([1, 4, 1, 1, 3, 2, 2, 6])],\n",
              " [array([5, 4, 0, 1, 0, 1, 0, 1])],\n",
              " [array([4, 1, 1, 3, 2, 2, 6, 5])],\n",
              " [array([4, 0, 1, 0, 2, 2, 2, 6])],\n",
              " [array([5, 4, 1, 1, 3, 2, 2, 6])],\n",
              " [array([5, 4, 1, 1, 3, 2, 2, 6])],\n",
              " [array([5, 4, 0, 1, 0, 1, 0, 1])],\n",
              " [array([1, 3, 2, 2, 6, 5, 4, 2])],\n",
              " [array([1, 2, 3, 2, 3, 4, 6, 2])],\n",
              " [array([0, 5, 4, 2, 6, 0, 0, 1])],\n",
              " [array([3, 2, 2, 6, 5, 4, 1, 1])],\n",
              " [array([3, 2, 2, 6, 5, 4, 1, 1])],\n",
              " [array([3, 2, 2, 6, 5, 4, 0, 1])],\n",
              " [array([0, 1, 0, 1, 1, 1, 3, 2])],\n",
              " [array([2, 6, 5, 4, 1, 1, 3, 2])],\n",
              " [array([2, 6, 5, 4, 0, 1, 0, 1])],\n",
              " [array([0, 1, 4, 1, 1, 3, 2, 2])],\n",
              " [array([6, 5, 4, 0, 1, 0, 1, 0])],\n",
              " [array([1, 4, 1, 1, 3, 2, 2, 6])],\n",
              " [array([5, 4, 0, 1, 0, 1, 0, 1])],\n",
              " [array([4, 1, 1, 3, 2, 2, 6, 5])],\n",
              " [array([4, 0, 1, 0, 2, 2, 2, 6])],\n",
              " [array([5, 4, 1, 1, 3, 2, 2, 6])],\n",
              " [array([5, 4, 1, 1, 3, 2, 2, 6])],\n",
              " [array([5, 4, 0, 1, 0, 1, 0, 1])],\n",
              " [array([1, 3, 2, 2, 6, 5, 4, 2])],\n",
              " [array([1, 2, 3, 2, 3, 4, 6, 2])],\n",
              " [array([0, 5, 4, 2, 6, 0, 0, 1])],\n",
              " [array([3, 2, 2, 6, 5, 4, 1, 1])],\n",
              " [array([3, 2, 2, 6, 5, 4, 1, 1])],\n",
              " [array([3, 2, 2, 6, 5, 4, 0, 1])],\n",
              " [array([0, 1, 0, 1, 1, 1, 3, 2])],\n",
              " [array([2, 6, 5, 4, 1, 1, 3, 2])],\n",
              " [array([2, 6, 5, 4, 0, 1, 0, 1])],\n",
              " [array([0, 1, 4, 1, 1, 3, 2, 2])],\n",
              " [array([6, 5, 4, 0, 1, 0, 1, 0])],\n",
              " [array([1, 4, 1, 1, 3, 2, 2, 6])],\n",
              " [array([5, 4, 0, 1, 0, 1, 0, 1])],\n",
              " [array([4, 1, 1, 3, 2, 2, 6, 5])],\n",
              " [array([4, 0, 1, 0, 2, 2, 2, 6])],\n",
              " [array([5, 4, 1, 1, 3, 2, 2, 6])],\n",
              " [array([5, 4, 1, 1, 3, 2, 2, 6])],\n",
              " [array([5, 4, 0, 1, 0, 1, 0, 1])],\n",
              " [array([1, 3, 2, 2, 6, 5, 4, 2])],\n",
              " [array([1, 2, 3, 2, 1, 2, 3, 2])],\n",
              " [array([3, 4, 6, 2, 0, 5, 0, 2])],\n",
              " [array([2, 2, 6, 5, 4, 1, 1, 3])],\n",
              " [array([2, 2, 6, 5, 4, 1, 1, 3])],\n",
              " [array([2, 2, 6, 5, 4, 0, 1, 0])],\n",
              " [array([1, 0, 1, 1, 3, 2, 2, 6])],\n",
              " [array([5, 4, 2, 1, 2, 3, 2, 3])],\n",
              " [array([4, 6, 2, 0, 5, 4, 2, 6])],\n",
              " [array([0, 0, 1, 3, 2, 2, 6, 5])],\n",
              " [array([4, 1, 1, 3, 2, 2, 6, 5])],\n",
              " [array([4, 1, 1, 3, 2, 2, 6, 5])],\n",
              " [array([4, 0, 1, 0, 1, 0, 1, 1])],\n",
              " [array([3, 2, 2, 6, 5, 4, 2, 1])],\n",
              " [array([2, 3, 2, 3, 4, 6, 2, 0])],\n",
              " [array([5, 0, 1, 3, 2, 2, 1, 2])],\n",
              " [array([3, 2, 3, 4, 6, 2, 0, 5])],\n",
              " [array([0, 1, 3, 2, 2, 1, 2, 3])],\n",
              " [array([2, 3, 4, 6, 2, 0, 5, 0])],\n",
              " [array([1, 3, 2, 2, 1, 2, 3, 2])],\n",
              " [array([3, 4, 6, 2, 0, 5, 0, 2])],\n",
              " [array([2, 2, 6, 5, 4, 1, 1, 3])],\n",
              " [array([2, 2, 6, 5, 4, 1, 1, 3])],\n",
              " [array([2, 2, 6, 5, 4, 0, 1, 0])],\n",
              " [array([1, 0, 1, 1, 3, 2, 2, 6])],\n",
              " [array([5, 4, 2, 1, 2, 3, 2, 3])],\n",
              " [array([4, 6, 2, 0, 5, 4, 2, 6])],\n",
              " [array([0, 0, 1, 3, 2, 2, 6, 5])],\n",
              " [array([4, 1, 1, 3, 2, 2, 6, 5])],\n",
              " [array([4, 1, 1, 3, 2, 2, 6, 5])],\n",
              " [array([4, 0, 1, 0, 1, 0, 1, 1])],\n",
              " [array([3, 2, 2, 6, 5, 4, 2, 1])],\n",
              " [array([2, 3, 2, 3, 4, 6, 2, 0])],\n",
              " [array([5, 0, 1, 3, 2, 2, 1, 2])],\n",
              " [array([3, 2, 3, 4, 6, 2, 0, 5])],\n",
              " [array([0, 1, 3, 2, 2, 1, 2, 3])],\n",
              " [array([2, 3, 4, 6, 2, 0, 5, 0])],\n",
              " [array([1, 3, 2, 2, 1, 2, 3, 2])],\n",
              " [array([3, 4, 6, 2, 0, 5, 0, 2])],\n",
              " [array([2, 2, 6, 5, 4, 1, 1, 3])],\n",
              " [array([2, 2, 6, 5, 4, 1, 1, 3])],\n",
              " [array([2, 2, 6, 5, 4, 0, 1, 0])],\n",
              " [array([1, 0, 1, 1, 3, 2, 2, 6])],\n",
              " [array([5, 4, 2, 1, 2, 3, 2, 3])],\n",
              " [array([4, 6, 2, 0, 5, 4, 2, 6])],\n",
              " [array([0, 0, 1, 3, 2, 2, 6, 5])],\n",
              " [array([4, 1, 1, 3, 2, 2, 6, 5])],\n",
              " [array([4, 1, 1, 3, 2, 2, 6, 5])],\n",
              " [array([4, 0, 1, 0, 1, 0, 1, 1])],\n",
              " [array([3, 2, 2, 6, 5, 4, 2, 1])],\n",
              " [array([2, 3, 2, 3, 4, 6, 2, 0])],\n",
              " [array([5, 0, 1, 3, 2, 2, 1, 2])],\n",
              " [array([3, 2, 3, 4, 6, 2, 0, 5])],\n",
              " [array([0, 1, 3, 2, 2, 1, 2, 3])],\n",
              " [array([2, 3, 4, 6, 2, 0, 5, 0])],\n",
              " [array([1, 3, 2, 2, 1, 2, 3, 2])],\n",
              " [array([3, 4, 6, 2, 0, 5, 0, 2])],\n",
              " [array([2, 2, 6, 5, 4, 1, 1, 3])],\n",
              " [array([2, 2, 6, 5, 4, 1, 1, 3])],\n",
              " [array([2, 2, 6, 5, 4, 0, 1, 0])],\n",
              " [array([1, 0, 1, 1, 3, 2, 2, 6])],\n",
              " [array([5, 4, 2, 1, 2, 3, 2, 0])],\n",
              " [array([1, 3, 2, 2, 6, 5, 4, 1])],\n",
              " [array([1, 3, 2, 2, 6, 5, 4, 1])],\n",
              " [array([1, 3, 2, 2, 6, 5, 4, 0])],\n",
              " [array([1, 0, 1, 0, 1, 1, 3, 2])],\n",
              " [array([2, 6, 5, 4, 2, 1, 2, 3])],\n",
              " [array([2, 3, 4, 6, 2, 0, 5, 4])],\n",
              " [array([2, 6, 0, 0, 1, 3, 2, 2])],\n",
              " [array([6, 5, 4, 1, 1, 3, 2, 2])],\n",
              " [array([6, 5, 4, 1, 1, 3, 2, 2])],\n",
              " [array([6, 5, 4, 0, 1, 0, 1, 0])],\n",
              " [array([1, 1, 1, 3, 2, 2, 6, 5])],\n",
              " [array([4, 1, 1, 3, 2, 2, 6, 5])],\n",
              " [array([4, 0, 1, 0, 1, 0, 1, 4])],\n",
              " [array([1, 1, 3, 2, 2, 6, 5, 4])],\n",
              " [array([0, 1, 0, 1, 0, 1, 4, 1])],\n",
              " [array([1, 3, 2, 2, 6, 5, 4, 0])],\n",
              " [array([1, 0, 1, 0, 1, 4, 1, 1])],\n",
              " [array([3, 2, 2, 6, 5, 4, 0, 1])],\n",
              " [array([0, 2, 2, 2, 6, 5, 4, 1])],\n",
              " [array([1, 3, 2, 2, 6, 5, 4, 1])],\n",
              " [array([1, 3, 2, 2, 6, 5, 4, 0])],\n",
              " [array([1, 0, 1, 0, 1, 1, 3, 2])],\n",
              " [array([2, 6, 5, 4, 2, 1, 2, 3])],\n",
              " [array([2, 3, 4, 6, 2, 0, 5, 4])],\n",
              " [array([2, 6, 0, 0, 1, 3, 2, 2])],\n",
              " [array([6, 5, 4, 1, 1, 3, 2, 2])],\n",
              " [array([6, 5, 4, 1, 1, 3, 2, 2])],\n",
              " [array([6, 5, 4, 0, 1, 0, 1, 0])],\n",
              " [array([1, 1, 1, 3, 2, 2, 6, 5])],\n",
              " [array([4, 1, 1, 3, 2, 2, 6, 5])],\n",
              " [array([4, 0, 1, 0, 1, 0, 1, 4])],\n",
              " [array([1, 1, 3, 2, 2, 6, 5, 4])],\n",
              " [array([0, 1, 0, 1, 0, 1, 4, 1])],\n",
              " [array([1, 3, 2, 2, 6, 5, 4, 0])],\n",
              " [array([1, 0, 1, 0, 1, 4, 1, 1])],\n",
              " [array([3, 2, 2, 6, 5, 4, 0, 1])],\n",
              " [array([0, 2, 2, 2, 6, 5, 4, 1])],\n",
              " [array([1, 3, 2, 2, 6, 5, 4, 1])],\n",
              " [array([1, 3, 2, 2, 6, 5, 4, 0])],\n",
              " [array([1, 0, 1, 0, 1, 1, 3, 2])],\n",
              " [array([2, 6, 5, 4, 2, 1, 2, 3])],\n",
              " [array([2, 3, 4, 6, 2, 0, 5, 4])],\n",
              " [array([2, 6, 0, 0, 1, 3, 2, 2])],\n",
              " [array([6, 5, 4, 1, 1, 3, 2, 2])],\n",
              " [array([6, 5, 4, 1, 1, 3, 2, 2])],\n",
              " [array([6, 5, 4, 0, 1, 0, 1, 0])],\n",
              " [array([1, 1, 1, 3, 2, 2, 6, 5])],\n",
              " [array([4, 1, 1, 3, 2, 2, 6, 5])],\n",
              " [array([4, 0, 1, 0, 1, 0, 1, 4])],\n",
              " [array([1, 1, 3, 2, 2, 6, 5, 4])],\n",
              " [array([0, 1, 0, 1, 0, 1, 4, 1])],\n",
              " [array([1, 3, 2, 2, 6, 5, 4, 0])],\n",
              " [array([1, 0, 1, 0, 1, 4, 1, 1])],\n",
              " [array([3, 2, 2, 6, 5, 4, 0, 1])],\n",
              " [array([0, 2, 2, 2, 6, 5, 4, 1])],\n",
              " [array([1, 3, 2, 2, 6, 5, 4, 1])],\n",
              " [array([1, 3, 2, 2, 6, 5, 4, 0])],\n",
              " [array([1, 0, 1, 0, 1, 1, 3, 2])],\n",
              " [array([2, 6, 5, 4, 2, 1, 2, 3])],\n",
              " [array([2, 3, 4, 6, 2, 0, 5, 4])],\n",
              " [array([2, 6, 0, 0, 1, 3, 2, 2])],\n",
              " [array([6, 5, 4, 1, 1, 3, 2, 2])],\n",
              " [array([6, 5, 4, 1, 1, 3, 2, 2])],\n",
              " [array([6, 5, 4, 0, 1, 0, 1, 0])],\n",
              " [array([1, 1, 1, 3, 2, 2, 6, 5])],\n",
              " [array([4, 1, 1, 3, 2, 2, 6, 5])],\n",
              " [array([4, 0, 1, 0, 1, 0, 1, 4])],\n",
              " [array([1, 1, 3, 2, 2, 6, 5, 4])],\n",
              " [array([0, 1, 0, 1, 0, 1, 4, 1])],\n",
              " [array([1, 3, 2, 2, 6, 5, 4, 0])],\n",
              " [array([1, 0, 1, 0, 1, 4, 1, 1])],\n",
              " [array([3, 2, 2, 6, 5, 4, 0, 1])],\n",
              " [array([0, 2, 2, 2, 6, 5, 4, 1])],\n",
              " [array([1, 3, 2, 2, 6, 5, 4, 1])],\n",
              " [array([1, 3, 2, 2, 6, 5, 4, 0])],\n",
              " [array([1, 0, 1, 0, 1, 1, 3, 2])],\n",
              " [array([2, 6, 5, 4, 2, 1, 2, 3])],\n",
              " [array([2, 3, 4, 6, 2, 0, 5, 4])],\n",
              " [array([2, 6, 0, 0, 1, 3, 2, 2])],\n",
              " [array([6, 5, 4, 1, 1, 3, 2, 2])],\n",
              " [array([6, 5, 4, 1, 1, 3, 2, 2])],\n",
              " [array([6, 5, 4, 0, 1, 0, 1, 0])],\n",
              " [array([1, 1, 1, 3, 2, 2, 6, 5])],\n",
              " [array([4, 1, 1, 3, 2, 2, 6, 5])],\n",
              " [array([4, 0, 1, 0, 1, 0, 1, 4])],\n",
              " [array([1, 1, 3, 2, 2, 6, 5, 4])],\n",
              " [array([0, 1, 0, 1, 0, 1, 4, 1])],\n",
              " [array([1, 3, 2, 2, 6, 5, 4, 0])],\n",
              " [array([1, 0, 1, 0, 1, 4, 1, 1])],\n",
              " [array([3, 2, 2, 6, 5, 4, 0, 1])],\n",
              " [array([0, 2, 2, 2, 6, 5, 4, 1])],\n",
              " [array([1, 3, 2, 2, 6, 5, 4, 1])],\n",
              " [array([1, 3, 2, 2, 6, 5, 4, 0])],\n",
              " [array([1, 0, 1, 0, 1, 1, 3, 2])],\n",
              " [array([2, 6, 5, 4, 2, 1, 2, 3])],\n",
              " [array([2, 3, 4, 6, 2, 0, 5, 4])],\n",
              " [array([2, 6, 0, 0, 1, 3, 2, 2])],\n",
              " [array([6, 5, 4, 1, 1, 3, 2, 2])],\n",
              " [array([6, 5, 4, 1, 1, 3, 2, 2])],\n",
              " [array([6, 5, 4, 0, 1, 0, 1, 0])],\n",
              " [array([1, 1, 1, 3, 2, 2, 6, 5])],\n",
              " [array([4, 1, 1, 3, 2, 2, 6, 5])],\n",
              " [array([4, 0, 1, 0, 1, 0, 1, 4])],\n",
              " [array([1, 1, 3, 2, 2, 6, 5, 4])],\n",
              " [array([0, 1, 0, 1, 0, 1, 4, 1])],\n",
              " [array([1, 3, 2, 2, 6, 5, 4, 0])],\n",
              " [array([1, 0, 1, 0, 1, 4, 1, 1])],\n",
              " [array([3, 2, 2, 6, 5, 4, 0, 1])],\n",
              " [array([0, 2, 2, 2, 6, 5, 4, 1])],\n",
              " [array([1, 3, 2, 2, 6, 5, 4, 1])],\n",
              " [array([1, 3, 2, 2, 6, 5, 4, 0])],\n",
              " [array([1, 0, 1, 0, 1, 1, 3, 2])],\n",
              " [array([2, 6, 5, 4, 2, 3, 4, 6])],\n",
              " [array([2, 0, 5, 0, 1, 3, 2, 2])],\n",
              " [array([1, 2, 3, 2, 3, 4, 6, 2])],\n",
              " [array([0, 5, 0, 2, 2, 2, 6, 5])],\n",
              " [array([4, 1, 1, 3, 2, 2, 6, 5])],\n",
              " [array([4, 1, 1, 3, 2, 2, 6, 5])],\n",
              " [array([4, 0, 1, 0, 1, 0, 1, 1])],\n",
              " [array([3, 2, 2, 6, 5, 4, 2, 1])],\n",
              " [array([2, 3, 2, 3, 4, 6, 2, 0])],\n",
              " [array([5, 4, 2, 6, 0, 0, 1, 3])],\n",
              " [array([2, 2, 6, 5, 4, 1, 1, 3])],\n",
              " [array([2, 2, 6, 5, 4, 1, 1, 3])],\n",
              " [array([2, 2, 6, 5, 4, 0, 1, 0])],\n",
              " [array([1, 0, 1, 1, 3, 2, 2, 6])],\n",
              " [array([5, 4, 2, 1, 2, 3, 2, 3])],\n",
              " [array([4, 6, 2, 0, 5, 0, 1, 3])],\n",
              " [array([2, 2, 1, 2, 3, 2, 3, 4])],\n",
              " [array([6, 2, 0, 5, 0, 1, 3, 2])],\n",
              " [array([2, 1, 2, 3, 2, 3, 4, 6])],\n",
              " [array([2, 0, 5, 0, 1, 3, 2, 2])],\n",
              " [array([1, 2, 3, 2, 3, 4, 6, 2])],\n",
              " [array([0, 5, 0, 2, 2, 2, 6, 5])],\n",
              " [array([4, 1, 1, 3, 2, 2, 6, 5])],\n",
              " [array([4, 1, 1, 3, 2, 2, 6, 5])],\n",
              " [array([4, 0, 1, 0, 1, 0, 1, 1])],\n",
              " [array([3, 2, 2, 6, 5, 4, 2, 1])],\n",
              " [array([2, 3, 2, 3, 4, 6, 2, 0])],\n",
              " [array([5, 4, 2, 6, 0, 0, 1, 3])],\n",
              " [array([2, 2, 6, 5, 4, 1, 1, 3])],\n",
              " [array([2, 2, 6, 5, 4, 1, 1, 3])],\n",
              " [array([2, 2, 6, 5, 4, 0, 1, 0])],\n",
              " [array([1, 0, 1, 1, 3, 2, 2, 6])],\n",
              " [array([5, 4, 2, 1, 2, 3, 2, 3])],\n",
              " [array([4, 6, 2, 0, 5, 0, 1, 3])],\n",
              " [array([2, 2, 1, 2, 3, 2, 3, 4])],\n",
              " [array([6, 2, 0, 5, 0, 1, 3, 2])],\n",
              " [array([2, 1, 2, 3, 2, 3, 4, 6])],\n",
              " [array([2, 0, 5, 0, 1, 3, 2, 2])],\n",
              " [array([1, 2, 3, 2, 3, 4, 6, 2])],\n",
              " [array([0, 5, 0, 2, 2, 2, 6, 5])],\n",
              " [array([4, 1, 1, 3, 2, 2, 6, 5])],\n",
              " [array([4, 1, 1, 3, 2, 2, 6, 5])],\n",
              " [array([4, 0, 1, 0, 1, 0, 1, 1])],\n",
              " [array([3, 2, 2, 6, 5, 4, 2, 1])],\n",
              " [array([2, 3, 2, 3, 4, 6, 2, 0])],\n",
              " [array([5, 4, 2, 6, 0, 0, 1, 3])],\n",
              " [array([2, 2, 6, 5, 4, 1, 1, 3])],\n",
              " [array([2, 2, 6, 5, 4, 1, 1, 3])],\n",
              " [array([2, 2, 6, 5, 4, 0, 1, 0])],\n",
              " [array([1, 0, 1, 1, 3, 2, 2, 6])],\n",
              " [array([5, 4, 2, 1, 2, 3, 2, 3])],\n",
              " [array([4, 6, 2, 0, 5, 0, 1, 3])],\n",
              " [array([2, 2, 1, 2, 3, 2, 3, 4])],\n",
              " [array([6, 2, 0, 5, 0, 1, 3, 2])],\n",
              " [array([2, 1, 2, 3, 2, 3, 4, 6])],\n",
              " [array([2, 0, 5, 0, 1, 3, 2, 2])],\n",
              " [array([1, 2, 3, 2, 3, 4, 6, 2])],\n",
              " [array([0, 5, 0, 2, 2, 2, 6, 5])],\n",
              " [array([4, 1, 1, 3, 2, 2, 6, 5])],\n",
              " [array([4, 1, 1, 3, 2, 2, 6, 5])],\n",
              " [array([4, 0, 1, 0, 1, 0, 1, 1])],\n",
              " [array([3, 2, 2, 6, 5, 4, 2, 1])],\n",
              " [array([2, 3, 2, 0, 1, 3, 2, 2])],\n",
              " [array([6, 5, 4, 1, 1, 3, 2, 2])],\n",
              " [array([6, 5, 4, 1, 1, 3, 2, 2])],\n",
              " [array([6, 5, 4, 0, 1, 0, 1, 0])],\n",
              " [array([1, 1, 3, 2, 2, 6, 5, 4])],\n",
              " [array([2, 1, 2, 3, 2, 3, 4, 6])],\n",
              " [array([2, 0, 5, 4, 2, 6, 0, 0])],\n",
              " [array([1, 3, 2, 2, 6, 5, 4, 1])],\n",
              " [array([1, 3, 2, 2, 6, 5, 4, 1])],\n",
              " [array([1, 3, 2, 2, 6, 5, 4, 0])],\n",
              " [array([1, 0, 1, 0, 1, 1, 1, 3])],\n",
              " [array([2, 2, 6, 5, 4, 1, 1, 3])],\n",
              " [array([2, 2, 6, 5, 4, 0, 1, 0])],\n",
              " [array([1, 0, 1, 4, 1, 1, 3, 2])],\n",
              " [array([2, 6, 5, 4, 0, 1, 0, 1])],\n",
              " [array([0, 1, 4, 1, 1, 3, 2, 2])],\n",
              " [array([6, 5, 4, 0, 1, 0, 1, 0])],\n",
              " [array([1, 4, 1, 1, 3, 2, 2, 6])],\n",
              " [array([5, 4, 0, 1, 0, 2, 2, 2])],\n",
              " [array([6, 5, 4, 1, 1, 3, 2, 2])],\n",
              " [array([6, 5, 4, 1, 1, 3, 2, 2])],\n",
              " [array([6, 5, 4, 0, 1, 0, 1, 0])],\n",
              " [array([1, 1, 3, 2, 2, 6, 5, 4])],\n",
              " [array([2, 1, 2, 3, 2, 3, 4, 6])],\n",
              " [array([2, 0, 5, 4, 2, 6, 0, 0])],\n",
              " [array([1, 3, 2, 2, 6, 5, 4, 1])],\n",
              " [array([1, 3, 2, 2, 6, 5, 4, 1])],\n",
              " [array([1, 3, 2, 2, 6, 5, 4, 0])],\n",
              " [array([1, 0, 1, 0, 1, 1, 1, 3])],\n",
              " [array([2, 2, 6, 5, 4, 1, 1, 3])],\n",
              " [array([2, 2, 6, 5, 4, 0, 1, 0])],\n",
              " [array([1, 0, 1, 4, 1, 1, 3, 2])],\n",
              " [array([2, 6, 5, 4, 0, 1, 0, 1])],\n",
              " [array([0, 1, 4, 1, 1, 3, 2, 2])],\n",
              " [array([6, 5, 4, 0, 1, 0, 1, 0])],\n",
              " [array([1, 4, 1, 1, 3, 2, 2, 6])],\n",
              " [array([5, 4, 0, 1, 0, 2, 2, 2])],\n",
              " [array([6, 5, 4, 1, 1, 3, 2, 2])],\n",
              " [array([6, 5, 4, 1, 1, 3, 2, 2])],\n",
              " [array([6, 5, 4, 0, 1, 0, 1, 0])],\n",
              " [array([1, 1, 3, 2, 2, 6, 5, 4])],\n",
              " [array([2, 1, 2, 3, 2, 3, 4, 6])],\n",
              " [array([2, 0, 5, 4, 2, 6, 0, 0])],\n",
              " [array([1, 3, 2, 2, 6, 5, 4, 1])],\n",
              " [array([1, 3, 2, 2, 6, 5, 4, 1])],\n",
              " [array([1, 3, 2, 2, 6, 5, 4, 0])],\n",
              " [array([1, 0, 1, 0, 1, 1, 1, 3])],\n",
              " [array([2, 2, 6, 5, 4, 1, 1, 3])],\n",
              " [array([2, 2, 6, 5, 4, 0, 1, 0])],\n",
              " [array([1, 0, 1, 4, 1, 1, 3, 2])],\n",
              " [array([2, 6, 5, 4, 0, 1, 0, 1])],\n",
              " [array([0, 1, 4, 1, 1, 3, 2, 2])],\n",
              " [array([6, 5, 4, 0, 1, 0, 1, 0])],\n",
              " [array([1, 4, 1, 1, 3, 2, 2, 6])],\n",
              " [array([5, 4, 0, 1, 0, 2, 2, 2])],\n",
              " [array([6, 5, 4, 1, 1, 3, 2, 2])],\n",
              " [array([6, 5, 4, 1, 1, 3, 2, 2])],\n",
              " [array([6, 5, 4, 0, 1, 0, 1, 0])],\n",
              " [array([1, 1, 3, 2, 2, 6, 5, 4])],\n",
              " [array([2, 1, 2, 3, 2, 3, 4, 6])],\n",
              " [array([2, 0, 5, 4, 2, 6, 0, 0])],\n",
              " [array([1, 3, 2, 2, 6, 5, 4, 1])],\n",
              " [array([1, 3, 2, 2, 6, 5, 4, 1])],\n",
              " [array([1, 3, 2, 2, 6, 5, 4, 0])],\n",
              " [array([1, 0, 1, 0, 1, 1, 1, 3])],\n",
              " [array([2, 2, 6, 5, 4, 1, 1, 3])],\n",
              " [array([2, 2, 6, 5, 4, 0, 1, 0])],\n",
              " [array([1, 0, 1, 4, 1, 1, 3, 2])],\n",
              " [array([2, 6, 5, 4, 0, 1, 0, 1])],\n",
              " [array([0, 1, 4, 1, 1, 3, 2, 2])],\n",
              " [array([6, 5, 4, 0, 1, 0, 1, 0])],\n",
              " [array([1, 4, 1, 1, 3, 2, 2, 6])],\n",
              " [array([5, 4, 0, 1, 0, 2, 2, 2])],\n",
              " [array([6, 5, 4, 1, 1, 3, 2, 2])],\n",
              " [array([6, 5, 4, 1, 1, 3, 2, 2])],\n",
              " [array([6, 5, 4, 0, 1, 0, 1, 0])],\n",
              " [array([1, 1, 3, 2, 2, 6, 5, 4])],\n",
              " [array([2, 1, 2, 3, 2, 3, 4, 6])],\n",
              " [array([2, 0, 5, 4, 2, 6, 0, 0])],\n",
              " [array([1, 3, 2, 2, 6, 5, 4, 1])],\n",
              " [array([1, 3, 2, 2, 6, 5, 4, 1])],\n",
              " [array([1, 3, 2, 2, 6, 5, 4, 0])],\n",
              " [array([1, 0, 1, 0, 1, 1, 1, 3])],\n",
              " [array([2, 2, 6, 5, 4, 1, 1, 3])],\n",
              " [array([2, 2, 6, 5, 4, 0, 1, 0])],\n",
              " [array([1, 0, 1, 4, 1, 1, 3, 2])],\n",
              " [array([2, 6, 5, 4, 0, 1, 0, 1])],\n",
              " [array([0, 1, 4, 1, 1, 3, 2, 2])],\n",
              " [array([6, 5, 4, 0, 1, 0, 1, 0])],\n",
              " [array([1, 4, 1, 1, 3, 2, 2, 6])],\n",
              " [array([5, 4, 0, 1, 0, 2, 2, 2])],\n",
              " [array([6, 5, 4, 1, 1, 3, 2, 2])],\n",
              " [array([6, 5, 4, 1, 1, 3, 2, 2])],\n",
              " [array([6, 5, 4, 0, 1, 0, 1, 0])],\n",
              " [array([1, 1, 3, 2, 2, 6, 5, 4])],\n",
              " [array([2, 1, 2, 3, 2, 3, 4, 6])],\n",
              " [array([2, 0, 5, 4, 2, 6, 0, 0])],\n",
              " [array([1, 3, 2, 2, 6, 5, 4, 1])],\n",
              " [array([1, 3, 2, 2, 6, 5, 4, 1])],\n",
              " [array([1, 3, 2, 2, 6, 5, 4, 0])],\n",
              " [array([1, 0, 1, 0, 1, 1, 1, 3])],\n",
              " [array([2, 2, 6, 5, 4, 1, 1, 3])],\n",
              " [array([2, 2, 6, 5, 4, 0, 1, 0])],\n",
              " [array([1, 0, 1, 4, 1, 1, 3, 2])],\n",
              " [array([2, 6, 5, 4, 0, 1, 0, 1])],\n",
              " [array([0, 1, 4, 1, 1, 3, 2, 2])],\n",
              " [array([6, 5, 4, 0, 1, 0, 1, 0])],\n",
              " [array([1, 4, 1, 1, 3, 2, 2, 6])],\n",
              " [array([5, 4, 0, 1, 0, 2, 2, 2])],\n",
              " [array([6, 5, 4, 1, 1, 3, 2, 2])],\n",
              " [array([6, 5, 4, 1, 1, 3, 2, 2])],\n",
              " [array([6, 5, 4, 0, 1, 0, 1, 0])],\n",
              " [array([1, 1, 3, 2, 2, 6, 5, 4])],\n",
              " [array([2, 1, 2, 3, 2, 1, 2, 3])],\n",
              " [array([2, 3, 4, 6, 2, 0, 5, 0])],\n",
              " [array([2, 2, 2, 6, 5, 4, 1, 1])],\n",
              " [array([3, 2, 2, 6, 5, 4, 1, 1])],\n",
              " [array([3, 2, 2, 6, 5, 4, 0, 1])],\n",
              " [array([0, 1, 0, 1, 1, 3, 2, 2])],\n",
              " [array([6, 5, 4, 2, 1, 2, 3, 2])],\n",
              " [array([3, 4, 6, 2, 0, 5, 4, 2])],\n",
              " [array([6, 0, 0, 1, 3, 2, 2, 6])],\n",
              " [array([5, 4, 1, 1, 3, 2, 2, 6])],\n",
              " [array([5, 4, 1, 1, 3, 2, 2, 6])],\n",
              " [array([5, 4, 0, 1, 0, 1, 0, 1])],\n",
              " [array([1, 3, 2, 2, 6, 5, 4, 2])],\n",
              " [array([1, 2, 3, 2, 3, 4, 6, 2])],\n",
              " [array([0, 5, 0, 1, 3, 2, 2, 1])],\n",
              " [array([2, 3, 2, 3, 4, 6, 2, 0])],\n",
              " [array([5, 0, 1, 3, 2, 2, 1, 2])],\n",
              " [array([3, 2, 3, 4, 6, 2, 0, 5])],\n",
              " [array([0, 1, 3, 2, 2, 1, 2, 3])],\n",
              " [array([2, 3, 4, 6, 2, 0, 5, 0])],\n",
              " [array([2, 2, 2, 6, 5, 4, 1, 1])],\n",
              " [array([3, 2, 2, 6, 5, 4, 1, 1])],\n",
              " [array([3, 2, 2, 6, 5, 4, 0, 1])],\n",
              " [array([0, 1, 0, 1, 1, 3, 2, 2])],\n",
              " [array([6, 5, 4, 2, 1, 2, 3, 2])],\n",
              " [array([3, 4, 6, 2, 0, 5, 4, 2])],\n",
              " [array([6, 0, 0, 1, 3, 2, 2, 6])],\n",
              " [array([5, 4, 1, 1, 3, 2, 2, 6])],\n",
              " [array([5, 4, 1, 1, 3, 2, 2, 6])],\n",
              " [array([5, 4, 0, 1, 0, 1, 0, 1])],\n",
              " [array([1, 3, 2, 2, 6, 5, 4, 2])],\n",
              " [array([1, 2, 3, 2, 3, 4, 6, 2])],\n",
              " [array([0, 5, 0, 1, 3, 2, 2, 1])],\n",
              " [array([2, 3, 2, 3, 4, 6, 2, 0])],\n",
              " [array([5, 0, 1, 3, 2, 2, 1, 2])],\n",
              " [array([3, 2, 3, 4, 6, 2, 0, 5])],\n",
              " [array([0, 1, 3, 2, 2, 1, 2, 3])],\n",
              " [array([2, 3, 4, 6, 2, 0, 5, 0])],\n",
              " [array([2, 2, 2, 6, 5, 4, 1, 1])],\n",
              " [array([3, 2, 2, 6, 5, 4, 1, 1])],\n",
              " [array([3, 2, 2, 6, 5, 4, 0, 1])],\n",
              " [array([0, 1, 0, 1, 1, 3, 2, 2])],\n",
              " [array([6, 5, 4, 2, 1, 2, 3, 2])],\n",
              " [array([3, 4, 6, 2, 0, 5, 4, 2])],\n",
              " [array([6, 0, 0, 1, 3, 2, 2, 6])],\n",
              " [array([5, 4, 1, 1, 3, 2, 2, 6])],\n",
              " [array([5, 4, 1, 1, 3, 2, 2, 6])],\n",
              " [array([5, 4, 0, 1, 0, 1, 0, 1])],\n",
              " [array([1, 3, 2, 2, 6, 5, 4, 2])],\n",
              " [array([1, 2, 3, 2, 3, 4, 6, 2])],\n",
              " [array([0, 5, 0, 1, 3, 2, 2, 1])],\n",
              " [array([2, 3, 2, 3, 4, 6, 2, 0])],\n",
              " [array([5, 0, 1, 3, 2, 2, 1, 2])],\n",
              " [array([3, 2, 3, 4, 6, 2, 0, 5])],\n",
              " [array([0, 1, 3, 2, 2, 1, 2, 3])],\n",
              " [array([2, 3, 4, 6, 2, 0, 5, 0])],\n",
              " [array([2, 2, 2, 6, 5, 4, 1, 1])],\n",
              " [array([3, 2, 2, 6, 5, 4, 1, 1])],\n",
              " [array([3, 2, 2, 6, 5, 4, 0, 1])],\n",
              " [array([0, 1, 0, 1, 1, 3, 2, 2])],\n",
              " [array([6, 5, 4, 2, 1, 2, 3, 2])],\n",
              " [array([0, 1, 3, 2, 2, 6, 5, 4])],\n",
              " [array([1, 1, 3, 2, 2, 6, 5, 4])],\n",
              " [array([1, 1, 3, 2, 2, 6, 5, 4])],\n",
              " [array([0, 1, 0, 1, 0, 1, 1, 3])],\n",
              " [array([2, 2, 6, 5, 4, 2, 1, 2])],\n",
              " [array([3, 2, 3, 4, 6, 2, 0, 5])],\n",
              " [array([4, 2, 6, 0, 0, 1, 3, 2])],\n",
              " [array([2, 6, 5, 4, 1, 1, 3, 2])],\n",
              " [array([2, 6, 5, 4, 1, 1, 3, 2])],\n",
              " [array([2, 6, 5, 4, 0, 1, 0, 1])],\n",
              " [array([0, 1, 1, 1, 3, 2, 2, 6])],\n",
              " [array([5, 4, 1, 1, 3, 2, 2, 6])],\n",
              " [array([5, 4, 0, 1, 0, 1, 0, 1])],\n",
              " [array([4, 1, 1, 3, 2, 2, 6, 5])],\n",
              " [array([4, 0, 1, 0, 1, 0, 1, 4])],\n",
              " [array([1, 1, 3, 2, 2, 6, 5, 4])],\n",
              " [array([0, 1, 0, 1, 0, 1, 4, 1])],\n",
              " [array([1, 3, 2, 2, 6, 5, 4, 0])],\n",
              " [array([1, 0, 2, 2, 2, 6, 5, 4])],\n",
              " [array([1, 1, 3, 2, 2, 6, 5, 4])],\n",
              " [array([1, 1, 3, 2, 2, 6, 5, 4])],\n",
              " [array([0, 1, 0, 1, 0, 1, 1, 3])],\n",
              " [array([2, 2, 6, 5, 4, 2, 1, 2])],\n",
              " [array([3, 2, 3, 4, 6, 2, 0, 5])],\n",
              " [array([4, 2, 6, 0, 0, 1, 3, 2])],\n",
              " [array([2, 6, 5, 4, 1, 1, 3, 2])],\n",
              " [array([2, 6, 5, 4, 1, 1, 3, 2])],\n",
              " [array([2, 6, 5, 4, 0, 1, 0, 1])],\n",
              " [array([0, 1, 1, 1, 3, 2, 2, 6])],\n",
              " [array([5, 4, 1, 1, 3, 2, 2, 6])],\n",
              " [array([5, 4, 0, 1, 0, 1, 0, 1])],\n",
              " [array([4, 1, 1, 3, 2, 2, 6, 5])],\n",
              " [array([4, 0, 1, 0, 1, 0, 1, 4])],\n",
              " [array([1, 1, 3, 2, 2, 6, 5, 4])],\n",
              " [array([0, 1, 0, 1, 0, 1, 4, 1])],\n",
              " [array([1, 3, 2, 2, 6, 5, 4, 0])],\n",
              " [array([1, 0, 2, 2, 2, 6, 5, 4])],\n",
              " [array([1, 1, 3, 2, 2, 6, 5, 4])],\n",
              " [array([1, 1, 3, 2, 2, 6, 5, 4])],\n",
              " [array([0, 1, 0, 1, 0, 1, 1, 3])],\n",
              " [array([2, 2, 6, 5, 4, 2, 1, 2])],\n",
              " [array([3, 2, 3, 4, 6, 2, 0, 5])],\n",
              " [array([4, 2, 6, 0, 0, 1, 3, 2])],\n",
              " [array([2, 6, 5, 4, 1, 1, 3, 2])],\n",
              " [array([2, 6, 5, 4, 1, 1, 3, 2])],\n",
              " [array([2, 6, 5, 4, 0, 1, 0, 1])],\n",
              " [array([0, 1, 1, 1, 3, 2, 2, 6])],\n",
              " [array([5, 4, 1, 1, 3, 2, 2, 6])],\n",
              " [array([5, 4, 0, 1, 0, 1, 0, 1])],\n",
              " [array([4, 1, 1, 3, 2, 2, 6, 5])],\n",
              " [array([4, 0, 1, 0, 1, 0, 1, 4])],\n",
              " [array([1, 1, 3, 2, 2, 6, 5, 4])],\n",
              " [array([0, 1, 0, 1, 0, 1, 4, 1])],\n",
              " [array([1, 3, 2, 2, 6, 5, 4, 0])],\n",
              " [array([1, 0, 2, 2, 2, 6, 5, 4])],\n",
              " [array([1, 1, 3, 2, 2, 6, 5, 4])],\n",
              " [array([1, 1, 3, 2, 2, 6, 5, 4])],\n",
              " [array([0, 1, 0, 1, 0, 1, 1, 3])],\n",
              " [array([2, 2, 6, 5, 4, 2, 1, 2])],\n",
              " [array([3, 2, 3, 4, 6, 2, 0, 5])],\n",
              " [array([4, 2, 6, 0, 0, 1, 3, 2])],\n",
              " [array([2, 6, 5, 4, 1, 1, 3, 2])],\n",
              " [array([2, 6, 5, 4, 1, 1, 3, 2])],\n",
              " [array([2, 6, 5, 4, 0, 1, 0, 1])],\n",
              " [array([0, 1, 1, 1, 3, 2, 2, 6])],\n",
              " [array([5, 4, 1, 1, 3, 2, 2, 6])],\n",
              " [array([5, 4, 0, 1, 0, 1, 0, 1])],\n",
              " [array([4, 1, 1, 3, 2, 2, 6, 5])],\n",
              " [array([4, 0, 1, 0, 1, 0, 1, 4])],\n",
              " [array([1, 1, 3, 2, 2, 6, 5, 4])],\n",
              " [array([0, 1, 0, 1, 0, 1, 4, 1])],\n",
              " [array([1, 3, 2, 2, 6, 5, 4, 0])],\n",
              " [array([1, 0, 2, 2, 2, 6, 5, 4])],\n",
              " [array([1, 1, 3, 2, 2, 6, 5, 4])],\n",
              " [array([1, 1, 3, 2, 2, 6, 5, 4])],\n",
              " [array([0, 1, 0, 1, 0, 1, 1, 3])],\n",
              " [array([2, 2, 6, 5, 4, 2, 1, 2])],\n",
              " [array([3, 2, 3, 4, 6, 2, 0, 5])],\n",
              " [array([4, 2, 6, 0, 0, 1, 3, 2])],\n",
              " [array([2, 6, 5, 4, 1, 1, 3, 2])],\n",
              " [array([2, 6, 5, 4, 1, 1, 3, 2])],\n",
              " [array([2, 6, 5, 4, 0, 1, 0, 1])],\n",
              " [array([0, 1, 1, 1, 3, 2, 2, 6])],\n",
              " [array([5, 4, 1, 1, 3, 2, 2, 6])],\n",
              " [array([5, 4, 0, 1, 0, 1, 0, 1])],\n",
              " [array([4, 1, 1, 3, 2, 2, 6, 5])],\n",
              " [array([4, 0, 1, 0, 1, 0, 1, 4])],\n",
              " [array([1, 1, 3, 2, 2, 6, 5, 4])],\n",
              " [array([0, 1, 0, 1, 0, 1, 4, 1])],\n",
              " [array([1, 3, 2, 2, 6, 5, 4, 0])],\n",
              " [array([1, 0, 2, 2, 2, 6, 5, 4])],\n",
              " [array([1, 1, 3, 2, 2, 6, 5, 4])],\n",
              " [array([1, 1, 3, 2, 2, 6, 5, 4])],\n",
              " [array([0, 1, 0, 1, 0, 1, 1, 3])],\n",
              " [array([2, 2, 6, 5, 4, 2, 1, 2])],\n",
              " [array([3, 2, 3, 4, 6, 2, 0, 5])],\n",
              " [array([4, 2, 6, 0, 0, 1, 3, 2])],\n",
              " [array([2, 6, 5, 4, 1, 1, 3, 2])],\n",
              " [array([2, 6, 5, 4, 1, 1, 3, 2])],\n",
              " [array([2, 6, 5, 4, 0, 1, 0, 1])],\n",
              " [array([0, 1, 1, 1, 3, 2, 2, 6])],\n",
              " [array([5, 4, 1, 1, 3, 2, 2, 6])],\n",
              " [array([5, 4, 0, 1, 0, 1, 0, 1])],\n",
              " [array([4, 1, 1, 3, 2, 2, 6, 5])],\n",
              " [array([4, 0, 1, 0, 1, 0, 1, 4])],\n",
              " [array([1, 1, 3, 2, 2, 6, 5, 4])],\n",
              " [array([0, 1, 0, 1, 0, 1, 4, 1])],\n",
              " [array([1, 3, 2, 2, 6, 5, 4, 0])],\n",
              " [array([1, 0, 2, 2, 2, 6, 5, 4])],\n",
              " [array([1, 1, 3, 2, 2, 6, 5, 4])],\n",
              " [array([1, 1, 3, 2, 2, 6, 5, 4])],\n",
              " [array([0, 1, 0, 1, 0, 1, 1, 3])],\n",
              " [array([2, 2, 6, 5, 4, 2, 3, 4])],\n",
              " [array([6, 2, 0, 5, 0, 1, 3, 2])],\n",
              " [array([2, 1, 2, 3, 2, 3, 4, 6])],\n",
              " [array([2, 0, 5, 0, 2, 2, 2, 6])],\n",
              " [array([5, 4, 1, 1, 3, 2, 2, 6])],\n",
              " [array([5, 4, 1, 1, 3, 2, 2, 6])],\n",
              " [array([5, 4, 0, 1, 0, 1, 0, 1])],\n",
              " [array([1, 3, 2, 2, 6, 5, 4, 2])],\n",
              " [array([1, 2, 3, 2, 3, 4, 6, 2])],\n",
              " [array([0, 5, 4, 2, 6, 0, 0, 1])],\n",
              " [array([3, 2, 2, 6, 5, 4, 1, 1])],\n",
              " [array([3, 2, 2, 6, 5, 4, 1, 1])],\n",
              " [array([3, 2, 2, 6, 5, 4, 0, 1])],\n",
              " [array([0, 1, 0, 1, 1, 3, 2, 2])],\n",
              " [array([6, 5, 4, 2, 1, 2, 3, 2])],\n",
              " [array([3, 4, 6, 2, 0, 5, 0, 1])],\n",
              " [array([3, 2, 2, 1, 2, 3, 2, 3])],\n",
              " [array([4, 6, 2, 0, 5, 0, 1, 3])],\n",
              " [array([2, 2, 1, 2, 3, 2, 3, 4])],\n",
              " [array([6, 2, 0, 5, 0, 1, 3, 2])],\n",
              " [array([2, 1, 2, 3, 2, 3, 4, 6])],\n",
              " [array([2, 0, 5, 0, 2, 2, 2, 6])],\n",
              " [array([5, 4, 1, 1, 3, 2, 2, 6])],\n",
              " [array([5, 4, 1, 1, 3, 2, 2, 6])],\n",
              " [array([5, 4, 0, 1, 0, 1, 0, 1])],\n",
              " [array([1, 3, 2, 2, 6, 5, 4, 2])],\n",
              " [array([1, 2, 3, 2, 3, 4, 6, 2])],\n",
              " [array([0, 5, 4, 2, 6, 0, 0, 1])],\n",
              " [array([3, 2, 2, 6, 5, 4, 1, 1])],\n",
              " [array([3, 2, 2, 6, 5, 4, 1, 1])],\n",
              " [array([3, 2, 2, 6, 5, 4, 0, 1])],\n",
              " [array([0, 1, 0, 1, 1, 3, 2, 2])],\n",
              " [array([6, 5, 4, 2, 1, 2, 3, 2])],\n",
              " [array([3, 4, 6, 2, 0, 5, 0, 1])],\n",
              " [array([3, 2, 2, 1, 2, 3, 2, 3])],\n",
              " [array([4, 6, 2, 0, 5, 0, 1, 3])],\n",
              " [array([2, 2, 1, 2, 3, 2, 3, 4])],\n",
              " [array([6, 2, 0, 5, 0, 1, 3, 2])],\n",
              " [array([2, 1, 2, 3, 2, 3, 4, 6])],\n",
              " [array([2, 0, 5, 0, 2, 2, 2, 6])],\n",
              " [array([5, 4, 1, 1, 3, 2, 2, 6])],\n",
              " [array([5, 4, 1, 1, 3, 2, 2, 6])]]"
            ]
          },
          "metadata": {
            "tags": []
          },
          "execution_count": 43
        }
      ]
    },
    {
      "cell_type": "code",
      "metadata": {
        "id": "ba_SVH-FLCtC",
        "colab_type": "code",
        "colab": {}
      },
      "source": [
        ""
      ],
      "execution_count": 0,
      "outputs": []
    },
    {
      "cell_type": "code",
      "metadata": {
        "id": "eKg_3SQMD64_",
        "colab_type": "code",
        "colab": {}
      },
      "source": [
        ""
      ],
      "execution_count": 0,
      "outputs": []
    },
    {
      "cell_type": "markdown",
      "metadata": {
        "id": "8QvhP6n7_7QI",
        "colab_type": "text"
      },
      "source": [
        "##Model Building"
      ]
    },
    {
      "cell_type": "markdown",
      "metadata": {
        "id": "wkpek73lBbis",
        "colab_type": "text"
      },
      "source": [
        "train-test split\n",
        "\n",
        "out of 753 customers , we keep data of around 600 customers as training data and rest as test data\n"
      ]
    },
    {
      "cell_type": "code",
      "metadata": {
        "id": "oLE-6jtKBHzM",
        "colab_type": "code",
        "colab": {}
      },
      "source": [
        "#columns of our interest our : 'Date' and 'MadeAPurchase'\n",
        "X = df.iloc[:,1].values\n",
        "y = df.iloc[:,3].values"
      ],
      "execution_count": 0,
      "outputs": []
    },
    {
      "cell_type": "code",
      "metadata": {
        "id": "fXUdGixYBH9-",
        "colab_type": "code",
        "colab": {
          "base_uri": "https://localhost:8080/",
          "height": 35
        },
        "outputId": "eb80062b-6c83-4d78-8103-34db13dc2011"
      },
      "source": [
        "X.shape[0]"
      ],
      "execution_count": 39,
      "outputs": [
        {
          "output_type": "execute_result",
          "data": {
            "text/plain": [
              "6024"
            ]
          },
          "metadata": {
            "tags": []
          },
          "execution_count": 39
        }
      ]
    },
    {
      "cell_type": "code",
      "metadata": {
        "id": "hWceOmQbBINo",
        "colab_type": "code",
        "colab": {}
      },
      "source": [
        "from sklearn.model_selection import train_test_split\n",
        "X_train , X_val , y_train , y_val = train_test_split(X , y , test_size=0.2 , random_state=0)"
      ],
      "execution_count": 0,
      "outputs": []
    },
    {
      "cell_type": "code",
      "metadata": {
        "id": "-xHJa02MDJtJ",
        "colab_type": "code",
        "colab": {
          "base_uri": "https://localhost:8080/",
          "height": 35
        },
        "outputId": "07852f6d-37cf-4a71-a679-b47a1ffa6808"
      },
      "source": [
        "X_val.shape"
      ],
      "execution_count": 32,
      "outputs": [
        {
          "output_type": "execute_result",
          "data": {
            "text/plain": [
              "(1205,)"
            ]
          },
          "metadata": {
            "tags": []
          },
          "execution_count": 32
        }
      ]
    },
    {
      "cell_type": "code",
      "metadata": {
        "id": "Yx1-OsrRC0m3",
        "colab_type": "code",
        "colab": {
          "base_uri": "https://localhost:8080/",
          "height": 35
        },
        "outputId": "230203d5-896a-4295-8e69-4bf522273eb5"
      },
      "source": [
        "X_train.shape"
      ],
      "execution_count": 40,
      "outputs": [
        {
          "output_type": "execute_result",
          "data": {
            "text/plain": [
              "(4819,)"
            ]
          },
          "metadata": {
            "tags": []
          },
          "execution_count": 40
        }
      ]
    },
    {
      "cell_type": "markdown",
      "metadata": {
        "id": "_T-zs15_DOXD",
        "colab_type": "text"
      },
      "source": [
        "Lets start building the LSTM network first"
      ]
    },
    {
      "cell_type": "code",
      "metadata": {
        "id": "5dl8uxZR1HaI",
        "colab_type": "code",
        "colab": {
          "base_uri": "https://localhost:8080/",
          "height": 35
        },
        "outputId": "e71a4aa7-8f90-4d42-b422-2c45ab34dc4a"
      },
      "source": [
        "import tensorflow.keras\n",
        "from keras.layers import *\n",
        "from keras.models import Sequential"
      ],
      "execution_count": 35,
      "outputs": [
        {
          "output_type": "stream",
          "text": [
            "Using TensorFlow backend.\n"
          ],
          "name": "stderr"
        }
      ]
    },
    {
      "cell_type": "code",
      "metadata": {
        "id": "x1vQ8rBrxelo",
        "colab_type": "code",
        "colab": {}
      },
      "source": [
        "model = Sequential()\n",
        "model.add(LSTM(64,input_shape=(X.shape[0],1)))\n",
        "model.add(Dropout(0.25))\n",
        "model.add(Dense(1, activation='sigmoid'))\n",
        "model.compile(loss='mean_squared_error' , optimizer='adam' , metrics=['accuracy'] )"
      ],
      "execution_count": 0,
      "outputs": []
    },
    {
      "cell_type": "code",
      "metadata": {
        "id": "4Qmd99PSEVMl",
        "colab_type": "code",
        "colab": {
          "base_uri": "https://localhost:8080/",
          "height": 260
        },
        "outputId": "07b41603-f12a-4fae-a3a7-9bf525f3caf2"
      },
      "source": [
        "model.summary()"
      ],
      "execution_count": 43,
      "outputs": [
        {
          "output_type": "stream",
          "text": [
            "Model: \"sequential_1\"\n",
            "_________________________________________________________________\n",
            "Layer (type)                 Output Shape              Param #   \n",
            "=================================================================\n",
            "lstm_1 (LSTM)                (None, 64)                16896     \n",
            "_________________________________________________________________\n",
            "dropout_1 (Dropout)          (None, 64)                0         \n",
            "_________________________________________________________________\n",
            "dense_1 (Dense)              (None, 1)                 65        \n",
            "=================================================================\n",
            "Total params: 16,961\n",
            "Trainable params: 16,961\n",
            "Non-trainable params: 0\n",
            "_________________________________________________________________\n"
          ],
          "name": "stdout"
        }
      ]
    },
    {
      "cell_type": "code",
      "metadata": {
        "id": "3jig19P-EliM",
        "colab_type": "code",
        "colab": {
          "base_uri": "https://localhost:8080/",
          "height": 331
        },
        "outputId": "82834f23-f720-4fb7-fabe-c1e3d17eba86"
      },
      "source": [
        "epochs_hist = model.fit(X , y , epochs=5, batch_size=50 , validation_split=0.2)\n"
      ],
      "execution_count": 44,
      "outputs": [
        {
          "output_type": "error",
          "ename": "ValueError",
          "evalue": "ignored",
          "traceback": [
            "\u001b[0;31m---------------------------------------------------------------------------\u001b[0m",
            "\u001b[0;31mValueError\u001b[0m                                Traceback (most recent call last)",
            "\u001b[0;32m<ipython-input-44-43470711f6bc>\u001b[0m in \u001b[0;36m<module>\u001b[0;34m()\u001b[0m\n\u001b[0;32m----> 1\u001b[0;31m \u001b[0mepochs_hist\u001b[0m \u001b[0;34m=\u001b[0m \u001b[0mmodel\u001b[0m\u001b[0;34m.\u001b[0m\u001b[0mfit\u001b[0m\u001b[0;34m(\u001b[0m\u001b[0mX\u001b[0m \u001b[0;34m,\u001b[0m \u001b[0my\u001b[0m \u001b[0;34m,\u001b[0m \u001b[0mepochs\u001b[0m\u001b[0;34m=\u001b[0m\u001b[0;36m5\u001b[0m\u001b[0;34m,\u001b[0m \u001b[0mbatch_size\u001b[0m\u001b[0;34m=\u001b[0m\u001b[0;36m50\u001b[0m \u001b[0;34m,\u001b[0m \u001b[0mvalidation_split\u001b[0m\u001b[0;34m=\u001b[0m\u001b[0;36m0.2\u001b[0m\u001b[0;34m)\u001b[0m\u001b[0;34m\u001b[0m\u001b[0;34m\u001b[0m\u001b[0m\n\u001b[0m",
            "\u001b[0;32m/usr/local/lib/python3.6/dist-packages/keras/engine/training.py\u001b[0m in \u001b[0;36mfit\u001b[0;34m(self, x, y, batch_size, epochs, verbose, callbacks, validation_split, validation_data, shuffle, class_weight, sample_weight, initial_epoch, steps_per_epoch, validation_steps, validation_freq, max_queue_size, workers, use_multiprocessing, **kwargs)\u001b[0m\n\u001b[1;32m   1152\u001b[0m             \u001b[0msample_weight\u001b[0m\u001b[0;34m=\u001b[0m\u001b[0msample_weight\u001b[0m\u001b[0;34m,\u001b[0m\u001b[0;34m\u001b[0m\u001b[0;34m\u001b[0m\u001b[0m\n\u001b[1;32m   1153\u001b[0m             \u001b[0mclass_weight\u001b[0m\u001b[0;34m=\u001b[0m\u001b[0mclass_weight\u001b[0m\u001b[0;34m,\u001b[0m\u001b[0;34m\u001b[0m\u001b[0;34m\u001b[0m\u001b[0m\n\u001b[0;32m-> 1154\u001b[0;31m             batch_size=batch_size)\n\u001b[0m\u001b[1;32m   1155\u001b[0m \u001b[0;34m\u001b[0m\u001b[0m\n\u001b[1;32m   1156\u001b[0m         \u001b[0;31m# Prepare validation data.\u001b[0m\u001b[0;34m\u001b[0m\u001b[0;34m\u001b[0m\u001b[0;34m\u001b[0m\u001b[0m\n",
            "\u001b[0;32m/usr/local/lib/python3.6/dist-packages/keras/engine/training.py\u001b[0m in \u001b[0;36m_standardize_user_data\u001b[0;34m(self, x, y, sample_weight, class_weight, check_array_lengths, batch_size)\u001b[0m\n\u001b[1;32m    577\u001b[0m             \u001b[0mfeed_input_shapes\u001b[0m\u001b[0;34m,\u001b[0m\u001b[0;34m\u001b[0m\u001b[0;34m\u001b[0m\u001b[0m\n\u001b[1;32m    578\u001b[0m             \u001b[0mcheck_batch_axis\u001b[0m\u001b[0;34m=\u001b[0m\u001b[0;32mFalse\u001b[0m\u001b[0;34m,\u001b[0m  \u001b[0;31m# Don't enforce the batch size.\u001b[0m\u001b[0;34m\u001b[0m\u001b[0;34m\u001b[0m\u001b[0m\n\u001b[0;32m--> 579\u001b[0;31m             exception_prefix='input')\n\u001b[0m\u001b[1;32m    580\u001b[0m \u001b[0;34m\u001b[0m\u001b[0m\n\u001b[1;32m    581\u001b[0m         \u001b[0;32mif\u001b[0m \u001b[0my\u001b[0m \u001b[0;32mis\u001b[0m \u001b[0;32mnot\u001b[0m \u001b[0;32mNone\u001b[0m\u001b[0;34m:\u001b[0m\u001b[0;34m\u001b[0m\u001b[0;34m\u001b[0m\u001b[0m\n",
            "\u001b[0;32m/usr/local/lib/python3.6/dist-packages/keras/engine/training_utils.py\u001b[0m in \u001b[0;36mstandardize_input_data\u001b[0;34m(data, names, shapes, check_batch_axis, exception_prefix)\u001b[0m\n\u001b[1;32m    133\u001b[0m                         \u001b[0;34m': expected '\u001b[0m \u001b[0;34m+\u001b[0m \u001b[0mnames\u001b[0m\u001b[0;34m[\u001b[0m\u001b[0mi\u001b[0m\u001b[0;34m]\u001b[0m \u001b[0;34m+\u001b[0m \u001b[0;34m' to have '\u001b[0m \u001b[0;34m+\u001b[0m\u001b[0;34m\u001b[0m\u001b[0;34m\u001b[0m\u001b[0m\n\u001b[1;32m    134\u001b[0m                         \u001b[0mstr\u001b[0m\u001b[0;34m(\u001b[0m\u001b[0mlen\u001b[0m\u001b[0;34m(\u001b[0m\u001b[0mshape\u001b[0m\u001b[0;34m)\u001b[0m\u001b[0;34m)\u001b[0m \u001b[0;34m+\u001b[0m \u001b[0;34m' dimensions, but got array '\u001b[0m\u001b[0;34m\u001b[0m\u001b[0;34m\u001b[0m\u001b[0m\n\u001b[0;32m--> 135\u001b[0;31m                         'with shape ' + str(data_shape))\n\u001b[0m\u001b[1;32m    136\u001b[0m                 \u001b[0;32mif\u001b[0m \u001b[0;32mnot\u001b[0m \u001b[0mcheck_batch_axis\u001b[0m\u001b[0;34m:\u001b[0m\u001b[0;34m\u001b[0m\u001b[0;34m\u001b[0m\u001b[0m\n\u001b[1;32m    137\u001b[0m                     \u001b[0mdata_shape\u001b[0m \u001b[0;34m=\u001b[0m \u001b[0mdata_shape\u001b[0m\u001b[0;34m[\u001b[0m\u001b[0;36m1\u001b[0m\u001b[0;34m:\u001b[0m\u001b[0;34m]\u001b[0m\u001b[0;34m\u001b[0m\u001b[0;34m\u001b[0m\u001b[0m\n",
            "\u001b[0;31mValueError\u001b[0m: Error when checking input: expected lstm_1_input to have 3 dimensions, but got array with shape (6024, 1)"
          ]
        }
      ]
    },
    {
      "cell_type": "code",
      "metadata": {
        "id": "A7oP3AFYGWcp",
        "colab_type": "code",
        "colab": {}
      },
      "source": [
        ""
      ],
      "execution_count": 0,
      "outputs": []
    },
    {
      "cell_type": "code",
      "metadata": {
        "id": "TIfaGcTq6Wa4",
        "colab_type": "code",
        "colab": {}
      },
      "source": [
        "from google.colab import drive\n",
        "drive.mount('/content/drive')"
      ],
      "execution_count": 0,
      "outputs": []
    }
  ]
}