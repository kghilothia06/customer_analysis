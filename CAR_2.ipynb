{
  "nbformat": 4,
  "nbformat_minor": 0,
  "metadata": {
    "colab": {
      "name": "CAR_2.ipynb",
      "provenance": [],
      "toc_visible": true,
      "authorship_tag": "ABX9TyP+F95dDNQBn/PA8Z/gBzkL",
      "include_colab_link": true
    },
    "kernelspec": {
      "name": "python3",
      "display_name": "Python 3"
    }
  },
  "cells": [
    {
      "cell_type": "markdown",
      "metadata": {
        "id": "view-in-github",
        "colab_type": "text"
      },
      "source": [
        "<a href=\"https://colab.research.google.com/github/kghilothia06/customer_analysis/blob/master/CAR_2.ipynb\" target=\"_parent\"><img src=\"https://colab.research.google.com/assets/colab-badge.svg\" alt=\"Open In Colab\"/></a>"
      ]
    },
    {
      "cell_type": "markdown",
      "metadata": {
        "id": "IJ7APm4m7E2x",
        "colab_type": "text"
      },
      "source": [
        "##Important Libraries import"
      ]
    },
    {
      "cell_type": "code",
      "metadata": {
        "id": "YRodeXky5ojw",
        "colab_type": "code",
        "colab": {}
      },
      "source": [
        "import numpy as np\n",
        "import pandas as pd\n",
        "import matplotlib.pyplot as plt\n",
        "import seaborn as sns"
      ],
      "execution_count": 0,
      "outputs": []
    },
    {
      "cell_type": "markdown",
      "metadata": {
        "id": "9olP4P6u7QJG",
        "colab_type": "text"
      },
      "source": [
        "##Exploring the 2 datasets"
      ]
    },
    {
      "cell_type": "code",
      "metadata": {
        "id": "X5DLtIOp7C_w",
        "colab_type": "code",
        "colab": {}
      },
      "source": [
        "df1 = pd.read_excel('/content/Customers2.xlsx')\n",
        "df2 = pd.read_excel('/content/Customers2_TimeSeries.xlsx')"
      ],
      "execution_count": 0,
      "outputs": []
    },
    {
      "cell_type": "code",
      "metadata": {
        "id": "cvrzo3oB7btS",
        "colab_type": "code",
        "outputId": "345ef033-f0af-4b91-ccc7-11fc5fc10ef4",
        "colab": {
          "base_uri": "https://localhost:8080/",
          "height": 35
        }
      },
      "source": [
        "df1.shape"
      ],
      "execution_count": 58,
      "outputs": [
        {
          "output_type": "execute_result",
          "data": {
            "text/plain": [
              "(753, 12)"
            ]
          },
          "metadata": {
            "tags": []
          },
          "execution_count": 58
        }
      ]
    },
    {
      "cell_type": "code",
      "metadata": {
        "id": "SQP4koGV7zlA",
        "colab_type": "code",
        "outputId": "a44ac3ea-1cb0-4bc9-814c-dcee190c978f",
        "colab": {
          "base_uri": "https://localhost:8080/",
          "height": 35
        }
      },
      "source": [
        "df2.shape"
      ],
      "execution_count": 59,
      "outputs": [
        {
          "output_type": "execute_result",
          "data": {
            "text/plain": [
              "(6024, 4)"
            ]
          },
          "metadata": {
            "tags": []
          },
          "execution_count": 59
        }
      ]
    },
    {
      "cell_type": "code",
      "metadata": {
        "id": "ZYtZxRKB70MX",
        "colab_type": "code",
        "outputId": "714edea3-48ae-427a-ad81-cb69256a22f5",
        "colab": {
          "base_uri": "https://localhost:8080/",
          "height": 375
        }
      },
      "source": [
        "df1.head(10)"
      ],
      "execution_count": 60,
      "outputs": [
        {
          "output_type": "execute_result",
          "data": {
            "text/html": [
              "<div>\n",
              "<style scoped>\n",
              "    .dataframe tbody tr th:only-of-type {\n",
              "        vertical-align: middle;\n",
              "    }\n",
              "\n",
              "    .dataframe tbody tr th {\n",
              "        vertical-align: top;\n",
              "    }\n",
              "\n",
              "    .dataframe thead th {\n",
              "        text-align: right;\n",
              "    }\n",
              "</style>\n",
              "<table border=\"1\" class=\"dataframe\">\n",
              "  <thead>\n",
              "    <tr style=\"text-align: right;\">\n",
              "      <th></th>\n",
              "      <th>CustomerID</th>\n",
              "      <th>NumCalls</th>\n",
              "      <th>NumEmails</th>\n",
              "      <th>NumDownloads</th>\n",
              "      <th>NumEvents</th>\n",
              "      <th>NumForms</th>\n",
              "      <th>Language</th>\n",
              "      <th>Country</th>\n",
              "      <th>WebVisits</th>\n",
              "      <th>PageVisits</th>\n",
              "      <th>PriorClient</th>\n",
              "      <th>MadeAPurchase</th>\n",
              "    </tr>\n",
              "  </thead>\n",
              "  <tbody>\n",
              "    <tr>\n",
              "      <th>0</th>\n",
              "      <td>1</td>\n",
              "      <td>33</td>\n",
              "      <td>19</td>\n",
              "      <td>1</td>\n",
              "      <td>0</td>\n",
              "      <td>1</td>\n",
              "      <td>German</td>\n",
              "      <td>Germany</td>\n",
              "      <td>10.0</td>\n",
              "      <td>0.0</td>\n",
              "      <td>Yes</td>\n",
              "      <td>No</td>\n",
              "    </tr>\n",
              "    <tr>\n",
              "      <th>1</th>\n",
              "      <td>2</td>\n",
              "      <td>0</td>\n",
              "      <td>1</td>\n",
              "      <td>0</td>\n",
              "      <td>1</td>\n",
              "      <td>0</td>\n",
              "      <td>English</td>\n",
              "      <td>USA</td>\n",
              "      <td>61.0</td>\n",
              "      <td>0.0</td>\n",
              "      <td>No</td>\n",
              "      <td>No</td>\n",
              "    </tr>\n",
              "    <tr>\n",
              "      <th>2</th>\n",
              "      <td>3</td>\n",
              "      <td>4</td>\n",
              "      <td>6</td>\n",
              "      <td>2</td>\n",
              "      <td>0</td>\n",
              "      <td>0</td>\n",
              "      <td>Spanish</td>\n",
              "      <td>Mexico</td>\n",
              "      <td>1.0</td>\n",
              "      <td>0.0</td>\n",
              "      <td>No</td>\n",
              "      <td>No</td>\n",
              "    </tr>\n",
              "    <tr>\n",
              "      <th>3</th>\n",
              "      <td>4</td>\n",
              "      <td>0</td>\n",
              "      <td>10</td>\n",
              "      <td>0</td>\n",
              "      <td>0</td>\n",
              "      <td>1</td>\n",
              "      <td>English</td>\n",
              "      <td>India</td>\n",
              "      <td>26.0</td>\n",
              "      <td>0.0</td>\n",
              "      <td>No</td>\n",
              "      <td>No</td>\n",
              "    </tr>\n",
              "    <tr>\n",
              "      <th>4</th>\n",
              "      <td>5</td>\n",
              "      <td>7</td>\n",
              "      <td>0</td>\n",
              "      <td>0</td>\n",
              "      <td>0</td>\n",
              "      <td>0</td>\n",
              "      <td>English</td>\n",
              "      <td>USA</td>\n",
              "      <td>11.0</td>\n",
              "      <td>0.0</td>\n",
              "      <td>No</td>\n",
              "      <td>Yes</td>\n",
              "    </tr>\n",
              "    <tr>\n",
              "      <th>5</th>\n",
              "      <td>6</td>\n",
              "      <td>10</td>\n",
              "      <td>1</td>\n",
              "      <td>0</td>\n",
              "      <td>1</td>\n",
              "      <td>0</td>\n",
              "      <td>English</td>\n",
              "      <td>USA</td>\n",
              "      <td>30.0</td>\n",
              "      <td>0.0</td>\n",
              "      <td>Yes</td>\n",
              "      <td>No</td>\n",
              "    </tr>\n",
              "    <tr>\n",
              "      <th>6</th>\n",
              "      <td>7</td>\n",
              "      <td>5</td>\n",
              "      <td>0</td>\n",
              "      <td>0</td>\n",
              "      <td>0</td>\n",
              "      <td>0</td>\n",
              "      <td>English</td>\n",
              "      <td>USA</td>\n",
              "      <td>10.0</td>\n",
              "      <td>0.0</td>\n",
              "      <td>No</td>\n",
              "      <td>No</td>\n",
              "    </tr>\n",
              "    <tr>\n",
              "      <th>7</th>\n",
              "      <td>8</td>\n",
              "      <td>1</td>\n",
              "      <td>0</td>\n",
              "      <td>0</td>\n",
              "      <td>0</td>\n",
              "      <td>0</td>\n",
              "      <td>English</td>\n",
              "      <td>USA</td>\n",
              "      <td>4.0</td>\n",
              "      <td>0.0</td>\n",
              "      <td>No</td>\n",
              "      <td>No</td>\n",
              "    </tr>\n",
              "    <tr>\n",
              "      <th>8</th>\n",
              "      <td>9</td>\n",
              "      <td>26</td>\n",
              "      <td>0</td>\n",
              "      <td>0</td>\n",
              "      <td>0</td>\n",
              "      <td>0</td>\n",
              "      <td>English</td>\n",
              "      <td>India</td>\n",
              "      <td>15.0</td>\n",
              "      <td>0.0</td>\n",
              "      <td>No</td>\n",
              "      <td>Yes</td>\n",
              "    </tr>\n",
              "    <tr>\n",
              "      <th>9</th>\n",
              "      <td>10</td>\n",
              "      <td>11</td>\n",
              "      <td>0</td>\n",
              "      <td>0</td>\n",
              "      <td>0</td>\n",
              "      <td>0</td>\n",
              "      <td>Spanish</td>\n",
              "      <td>Spain</td>\n",
              "      <td>15.0</td>\n",
              "      <td>0.0</td>\n",
              "      <td>Yes</td>\n",
              "      <td>Yes</td>\n",
              "    </tr>\n",
              "  </tbody>\n",
              "</table>\n",
              "</div>"
            ],
            "text/plain": [
              "   CustomerID  NumCalls  NumEmails  ...  PageVisits  PriorClient  MadeAPurchase\n",
              "0           1        33         19  ...         0.0          Yes             No\n",
              "1           2         0          1  ...         0.0           No             No\n",
              "2           3         4          6  ...         0.0           No             No\n",
              "3           4         0         10  ...         0.0           No             No\n",
              "4           5         7          0  ...         0.0           No            Yes\n",
              "5           6        10          1  ...         0.0          Yes             No\n",
              "6           7         5          0  ...         0.0           No             No\n",
              "7           8         1          0  ...         0.0           No             No\n",
              "8           9        26          0  ...         0.0           No            Yes\n",
              "9          10        11          0  ...         0.0          Yes            Yes\n",
              "\n",
              "[10 rows x 12 columns]"
            ]
          },
          "metadata": {
            "tags": []
          },
          "execution_count": 60
        }
      ]
    },
    {
      "cell_type": "code",
      "metadata": {
        "id": "Cny4bv3A71Tz",
        "colab_type": "code",
        "outputId": "b827f1d7-a3ba-47ec-a2a4-78efe9372e55",
        "colab": {
          "base_uri": "https://localhost:8080/",
          "height": 1000
        }
      },
      "source": [
        "df2.head(35)"
      ],
      "execution_count": 61,
      "outputs": [
        {
          "output_type": "execute_result",
          "data": {
            "text/html": [
              "<div>\n",
              "<style scoped>\n",
              "    .dataframe tbody tr th:only-of-type {\n",
              "        vertical-align: middle;\n",
              "    }\n",
              "\n",
              "    .dataframe tbody tr th {\n",
              "        vertical-align: top;\n",
              "    }\n",
              "\n",
              "    .dataframe thead th {\n",
              "        text-align: right;\n",
              "    }\n",
              "</style>\n",
              "<table border=\"1\" class=\"dataframe\">\n",
              "  <thead>\n",
              "    <tr style=\"text-align: right;\">\n",
              "      <th></th>\n",
              "      <th>CustomerID</th>\n",
              "      <th>Date</th>\n",
              "      <th>Interaction</th>\n",
              "      <th>MadeAPurchase</th>\n",
              "    </tr>\n",
              "  </thead>\n",
              "  <tbody>\n",
              "    <tr>\n",
              "      <th>0</th>\n",
              "      <td>1</td>\n",
              "      <td>2020-01-05</td>\n",
              "      <td>call_made</td>\n",
              "      <td>No</td>\n",
              "    </tr>\n",
              "    <tr>\n",
              "      <th>1</th>\n",
              "      <td>1</td>\n",
              "      <td>2020-01-06</td>\n",
              "      <td>call_received</td>\n",
              "      <td>No</td>\n",
              "    </tr>\n",
              "    <tr>\n",
              "      <th>2</th>\n",
              "      <td>1</td>\n",
              "      <td>2020-01-07</td>\n",
              "      <td>email_sent</td>\n",
              "      <td>No</td>\n",
              "    </tr>\n",
              "    <tr>\n",
              "      <th>3</th>\n",
              "      <td>1</td>\n",
              "      <td>2020-01-08</td>\n",
              "      <td>email_opened</td>\n",
              "      <td>No</td>\n",
              "    </tr>\n",
              "    <tr>\n",
              "      <th>4</th>\n",
              "      <td>1</td>\n",
              "      <td>2020-01-09</td>\n",
              "      <td>email_opened</td>\n",
              "      <td>No</td>\n",
              "    </tr>\n",
              "    <tr>\n",
              "      <th>5</th>\n",
              "      <td>1</td>\n",
              "      <td>2020-01-10</td>\n",
              "      <td>webinar_registered</td>\n",
              "      <td>No</td>\n",
              "    </tr>\n",
              "    <tr>\n",
              "      <th>6</th>\n",
              "      <td>1</td>\n",
              "      <td>2020-01-11</td>\n",
              "      <td>webinar_attended</td>\n",
              "      <td>No</td>\n",
              "    </tr>\n",
              "    <tr>\n",
              "      <th>7</th>\n",
              "      <td>1</td>\n",
              "      <td>2020-01-12</td>\n",
              "      <td>paper_downloaded</td>\n",
              "      <td>No</td>\n",
              "    </tr>\n",
              "    <tr>\n",
              "      <th>8</th>\n",
              "      <td>2</td>\n",
              "      <td>2020-01-13</td>\n",
              "      <td>call_received</td>\n",
              "      <td>No</td>\n",
              "    </tr>\n",
              "    <tr>\n",
              "      <th>9</th>\n",
              "      <td>2</td>\n",
              "      <td>2020-01-14</td>\n",
              "      <td>call_received</td>\n",
              "      <td>No</td>\n",
              "    </tr>\n",
              "    <tr>\n",
              "      <th>10</th>\n",
              "      <td>2</td>\n",
              "      <td>2020-01-15</td>\n",
              "      <td>email_sent</td>\n",
              "      <td>No</td>\n",
              "    </tr>\n",
              "    <tr>\n",
              "      <th>11</th>\n",
              "      <td>2</td>\n",
              "      <td>2020-01-16</td>\n",
              "      <td>email_opened</td>\n",
              "      <td>No</td>\n",
              "    </tr>\n",
              "    <tr>\n",
              "      <th>12</th>\n",
              "      <td>2</td>\n",
              "      <td>2020-01-17</td>\n",
              "      <td>email_opened</td>\n",
              "      <td>No</td>\n",
              "    </tr>\n",
              "    <tr>\n",
              "      <th>13</th>\n",
              "      <td>2</td>\n",
              "      <td>2020-01-18</td>\n",
              "      <td>webinar_registered</td>\n",
              "      <td>No</td>\n",
              "    </tr>\n",
              "    <tr>\n",
              "      <th>14</th>\n",
              "      <td>2</td>\n",
              "      <td>2020-01-19</td>\n",
              "      <td>webinar_attended</td>\n",
              "      <td>No</td>\n",
              "    </tr>\n",
              "    <tr>\n",
              "      <th>15</th>\n",
              "      <td>2</td>\n",
              "      <td>2020-01-20</td>\n",
              "      <td>paper_downloaded</td>\n",
              "      <td>No</td>\n",
              "    </tr>\n",
              "    <tr>\n",
              "      <th>16</th>\n",
              "      <td>3</td>\n",
              "      <td>2020-01-21</td>\n",
              "      <td>call_received</td>\n",
              "      <td>No</td>\n",
              "    </tr>\n",
              "    <tr>\n",
              "      <th>17</th>\n",
              "      <td>3</td>\n",
              "      <td>2020-01-22</td>\n",
              "      <td>call_received</td>\n",
              "      <td>No</td>\n",
              "    </tr>\n",
              "    <tr>\n",
              "      <th>18</th>\n",
              "      <td>3</td>\n",
              "      <td>2020-01-23</td>\n",
              "      <td>email_sent</td>\n",
              "      <td>No</td>\n",
              "    </tr>\n",
              "    <tr>\n",
              "      <th>19</th>\n",
              "      <td>3</td>\n",
              "      <td>2020-01-24</td>\n",
              "      <td>email_opened</td>\n",
              "      <td>No</td>\n",
              "    </tr>\n",
              "    <tr>\n",
              "      <th>20</th>\n",
              "      <td>3</td>\n",
              "      <td>2020-01-25</td>\n",
              "      <td>email_opened</td>\n",
              "      <td>No</td>\n",
              "    </tr>\n",
              "    <tr>\n",
              "      <th>21</th>\n",
              "      <td>3</td>\n",
              "      <td>2020-01-26</td>\n",
              "      <td>webinar_registered</td>\n",
              "      <td>No</td>\n",
              "    </tr>\n",
              "    <tr>\n",
              "      <th>22</th>\n",
              "      <td>3</td>\n",
              "      <td>2020-01-27</td>\n",
              "      <td>webinar_attended</td>\n",
              "      <td>No</td>\n",
              "    </tr>\n",
              "    <tr>\n",
              "      <th>23</th>\n",
              "      <td>3</td>\n",
              "      <td>2020-01-28</td>\n",
              "      <td>paper_downloaded</td>\n",
              "      <td>No</td>\n",
              "    </tr>\n",
              "    <tr>\n",
              "      <th>24</th>\n",
              "      <td>4</td>\n",
              "      <td>2020-01-29</td>\n",
              "      <td>call_made</td>\n",
              "      <td>No</td>\n",
              "    </tr>\n",
              "    <tr>\n",
              "      <th>25</th>\n",
              "      <td>4</td>\n",
              "      <td>2020-01-30</td>\n",
              "      <td>call_received</td>\n",
              "      <td>No</td>\n",
              "    </tr>\n",
              "    <tr>\n",
              "      <th>26</th>\n",
              "      <td>4</td>\n",
              "      <td>2020-01-31</td>\n",
              "      <td>call_made</td>\n",
              "      <td>No</td>\n",
              "    </tr>\n",
              "    <tr>\n",
              "      <th>27</th>\n",
              "      <td>4</td>\n",
              "      <td>2020-02-01</td>\n",
              "      <td>call_received</td>\n",
              "      <td>No</td>\n",
              "    </tr>\n",
              "    <tr>\n",
              "      <th>28</th>\n",
              "      <td>4</td>\n",
              "      <td>2020-02-02</td>\n",
              "      <td>call_made</td>\n",
              "      <td>No</td>\n",
              "    </tr>\n",
              "    <tr>\n",
              "      <th>29</th>\n",
              "      <td>4</td>\n",
              "      <td>2020-02-03</td>\n",
              "      <td>call_received</td>\n",
              "      <td>No</td>\n",
              "    </tr>\n",
              "    <tr>\n",
              "      <th>30</th>\n",
              "      <td>4</td>\n",
              "      <td>2020-02-04</td>\n",
              "      <td>call_received</td>\n",
              "      <td>No</td>\n",
              "    </tr>\n",
              "    <tr>\n",
              "      <th>31</th>\n",
              "      <td>4</td>\n",
              "      <td>2020-02-05</td>\n",
              "      <td>email_sent</td>\n",
              "      <td>No</td>\n",
              "    </tr>\n",
              "    <tr>\n",
              "      <th>32</th>\n",
              "      <td>5</td>\n",
              "      <td>2020-02-06</td>\n",
              "      <td>email_opened</td>\n",
              "      <td>Yes</td>\n",
              "    </tr>\n",
              "    <tr>\n",
              "      <th>33</th>\n",
              "      <td>5</td>\n",
              "      <td>2020-02-07</td>\n",
              "      <td>email_opened</td>\n",
              "      <td>Yes</td>\n",
              "    </tr>\n",
              "    <tr>\n",
              "      <th>34</th>\n",
              "      <td>5</td>\n",
              "      <td>2020-02-08</td>\n",
              "      <td>webinar_registered</td>\n",
              "      <td>Yes</td>\n",
              "    </tr>\n",
              "  </tbody>\n",
              "</table>\n",
              "</div>"
            ],
            "text/plain": [
              "    CustomerID       Date         Interaction MadeAPurchase\n",
              "0            1 2020-01-05           call_made            No\n",
              "1            1 2020-01-06       call_received            No\n",
              "2            1 2020-01-07          email_sent            No\n",
              "3            1 2020-01-08        email_opened            No\n",
              "4            1 2020-01-09        email_opened            No\n",
              "5            1 2020-01-10  webinar_registered            No\n",
              "6            1 2020-01-11    webinar_attended            No\n",
              "7            1 2020-01-12    paper_downloaded            No\n",
              "8            2 2020-01-13       call_received            No\n",
              "9            2 2020-01-14       call_received            No\n",
              "10           2 2020-01-15          email_sent            No\n",
              "11           2 2020-01-16        email_opened            No\n",
              "12           2 2020-01-17        email_opened            No\n",
              "13           2 2020-01-18  webinar_registered            No\n",
              "14           2 2020-01-19    webinar_attended            No\n",
              "15           2 2020-01-20    paper_downloaded            No\n",
              "16           3 2020-01-21       call_received            No\n",
              "17           3 2020-01-22       call_received            No\n",
              "18           3 2020-01-23          email_sent            No\n",
              "19           3 2020-01-24        email_opened            No\n",
              "20           3 2020-01-25        email_opened            No\n",
              "21           3 2020-01-26  webinar_registered            No\n",
              "22           3 2020-01-27    webinar_attended            No\n",
              "23           3 2020-01-28    paper_downloaded            No\n",
              "24           4 2020-01-29           call_made            No\n",
              "25           4 2020-01-30       call_received            No\n",
              "26           4 2020-01-31           call_made            No\n",
              "27           4 2020-02-01       call_received            No\n",
              "28           4 2020-02-02           call_made            No\n",
              "29           4 2020-02-03       call_received            No\n",
              "30           4 2020-02-04       call_received            No\n",
              "31           4 2020-02-05          email_sent            No\n",
              "32           5 2020-02-06        email_opened           Yes\n",
              "33           5 2020-02-07        email_opened           Yes\n",
              "34           5 2020-02-08  webinar_registered           Yes"
            ]
          },
          "metadata": {
            "tags": []
          },
          "execution_count": 61
        }
      ]
    },
    {
      "cell_type": "code",
      "metadata": {
        "id": "6ueDcuLBb2ZU",
        "colab_type": "code",
        "colab": {}
      },
      "source": [
        "#checking for missing/null values\n",
        "null_columns=df1.columns[df1.isnull().any()]\n",
        "#taking care of null values\n",
        "df1.fillna(0,inplace=True)"
      ],
      "execution_count": 0,
      "outputs": []
    },
    {
      "cell_type": "markdown",
      "metadata": {
        "id": "k77DnB1SX5V9",
        "colab_type": "text"
      },
      "source": [
        "##Data Preprocessing"
      ]
    },
    {
      "cell_type": "markdown",
      "metadata": {
        "id": "FcialuP7YJ0j",
        "colab_type": "text"
      },
      "source": [
        "Label Encoding 'MadeAPurchase' , 'PriorClient' , 'Interaction' columns of both dataset"
      ]
    },
    {
      "cell_type": "code",
      "metadata": {
        "id": "4WRCzXhm73CG",
        "colab_type": "code",
        "colab": {}
      },
      "source": [
        "from sklearn.preprocessing import LabelEncoder\n",
        "le = LabelEncoder()\n",
        "df1['PriorClient'] = le.fit_transform(df1['PriorClient'])\n",
        "df1['MadeAPurchase'] = le.fit_transform(df1['MadeAPurchase'])\n",
        "df2['MadeAPurchase'] = le.fit_transform(df2['MadeAPurchase'])\n",
        "df2['Interaction'] = le.fit_transform(df2['Interaction'])"
      ],
      "execution_count": 0,
      "outputs": []
    },
    {
      "cell_type": "markdown",
      "metadata": {
        "id": "5V_lZ8IjZDWp",
        "colab_type": "text"
      },
      "source": [
        "Now we one hot encode 'Country' column"
      ]
    },
    {
      "cell_type": "code",
      "metadata": {
        "id": "XzAeAIvjY0w2",
        "colab_type": "code",
        "colab": {}
      },
      "source": [
        "#first we create dummy variables\n",
        "top = ['USA', 'China', 'Japan', 'France', 'Canada']\n",
        "df1['Country'] = df1['Country'].apply(lambda x : 'Other' if x not in top else x)\n",
        "df3 = pd.get_dummies(df1['Country'])"
      ],
      "execution_count": 0,
      "outputs": []
    },
    {
      "cell_type": "code",
      "metadata": {
        "id": "AS7MLjzdZIW5",
        "colab_type": "code",
        "colab": {}
      },
      "source": [
        "#merging df3 and df1\n",
        "df1 = pd.concat([df1,df3],axis=1)"
      ],
      "execution_count": 0,
      "outputs": []
    },
    {
      "cell_type": "code",
      "metadata": {
        "id": "zPtvvWtUZPoK",
        "colab_type": "code",
        "colab": {}
      },
      "source": [
        "#we dont need 'Country' column anymore, hence we drop it\n",
        "df1.drop(['Country'],axis=1,inplace=True)"
      ],
      "execution_count": 0,
      "outputs": []
    },
    {
      "cell_type": "markdown",
      "metadata": {
        "id": "WjH3mv4MaPl6",
        "colab_type": "text"
      },
      "source": [
        "adding a new column 'TotalInteractions' to the dataset \n",
        "that contains sum of the columns NumCalls, NumEmails, NumDownloads, NumEvents, and NumForms"
      ]
    },
    {
      "cell_type": "code",
      "metadata": {
        "id": "y4YeMel5Zf9l",
        "colab_type": "code",
        "colab": {}
      },
      "source": [
        "df1['TotalInteractions'] = df1['NumCalls'] + df1['NumEmails'] + df1['NumDownloads'] + df1['NumEvents'] + df1['NumForms']"
      ],
      "execution_count": 0,
      "outputs": []
    },
    {
      "cell_type": "code",
      "metadata": {
        "id": "oyZjPSGrabYq",
        "colab_type": "code",
        "colab": {}
      },
      "source": [
        "#rearranging the columns\n",
        "mid = df1['TotalInteractions']\n",
        "df1.drop(labels=['TotalInteractions'], axis=1, inplace = True)\n",
        "df1.insert(6, 'TotalInteractions', mid)"
      ],
      "execution_count": 0,
      "outputs": []
    },
    {
      "cell_type": "markdown",
      "metadata": {
        "id": "k6hE7vg3a4XP",
        "colab_type": "text"
      },
      "source": [
        "##Preparing Training Set by combining both the datasets:\n",
        "Plan of Action:\n",
        "from df2 , we have sequence of interactions of a customer and\n",
        "from df1 , we have his/her static info like 'Country', 'PriorClient' etc.\n",
        "We will combine them as depicted in next few cells"
      ]
    },
    {
      "cell_type": "code",
      "metadata": {
        "id": "MDQUf0jaagRP",
        "colab_type": "code",
        "colab": {}
      },
      "source": [
        "# segments is a list where each row contains activities of a single customer\n",
        "# labels is a list containing whether a purchase is made or not for each customer\n",
        "N_time_steps = 8\n",
        "step = 8\n",
        "segments = []\n",
        "labels = []\n",
        "for i in range(0,len(df2)-1,step):\n",
        "  xs = df2['Interaction'].values[i : i+N_time_steps]\n",
        "  ys = df2['MadeAPurchase'].values[i]\n",
        "  \n",
        "  segments.append([xs])\n",
        "  labels.append([ys])"
      ],
      "execution_count": 0,
      "outputs": []
    },
    {
      "cell_type": "code",
      "metadata": {
        "id": "FGGQfFMYcUDN",
        "colab_type": "code",
        "colab": {
          "base_uri": "https://localhost:8080/",
          "height": 35
        },
        "outputId": "03220f04-83dd-4635-ef42-da04e2553338"
      },
      "source": [
        "labels = np.array(labels)\n",
        "labels.shape"
      ],
      "execution_count": 70,
      "outputs": [
        {
          "output_type": "execute_result",
          "data": {
            "text/plain": [
              "(753, 1)"
            ]
          },
          "metadata": {
            "tags": []
          },
          "execution_count": 70
        }
      ]
    },
    {
      "cell_type": "code",
      "metadata": {
        "id": "BpLs8np_cYGm",
        "colab_type": "code",
        "colab": {
          "base_uri": "https://localhost:8080/",
          "height": 867
        },
        "outputId": "d581f65f-12ae-43f4-a687-76b52ed37736"
      },
      "source": [
        "reshaped_segments = np.array(segments).reshape(753,8,1)\n",
        "reshaped_segments"
      ],
      "execution_count": 71,
      "outputs": [
        {
          "output_type": "execute_result",
          "data": {
            "text/plain": [
              "array([[[0],\n",
              "        [1],\n",
              "        [3],\n",
              "        ...,\n",
              "        [6],\n",
              "        [5],\n",
              "        [4]],\n",
              "\n",
              "       [[1],\n",
              "        [1],\n",
              "        [3],\n",
              "        ...,\n",
              "        [6],\n",
              "        [5],\n",
              "        [4]],\n",
              "\n",
              "       [[1],\n",
              "        [1],\n",
              "        [3],\n",
              "        ...,\n",
              "        [6],\n",
              "        [5],\n",
              "        [4]],\n",
              "\n",
              "       ...,\n",
              "\n",
              "       [[2],\n",
              "        [0],\n",
              "        [5],\n",
              "        ...,\n",
              "        [2],\n",
              "        [2],\n",
              "        [6]],\n",
              "\n",
              "       [[5],\n",
              "        [4],\n",
              "        [1],\n",
              "        ...,\n",
              "        [2],\n",
              "        [2],\n",
              "        [6]],\n",
              "\n",
              "       [[5],\n",
              "        [4],\n",
              "        [1],\n",
              "        ...,\n",
              "        [2],\n",
              "        [2],\n",
              "        [6]]])"
            ]
          },
          "metadata": {
            "tags": []
          },
          "execution_count": 71
        }
      ]
    },
    {
      "cell_type": "markdown",
      "metadata": {
        "id": "hLNVMfKZchvO",
        "colab_type": "text"
      },
      "source": [
        "now we append the static info of each customer to his/her corresponding entry in reshaped_segments"
      ]
    },
    {
      "cell_type": "code",
      "metadata": {
        "id": "2pxWDFb9ccr0",
        "colab_type": "code",
        "colab": {
          "base_uri": "https://localhost:8080/",
          "height": 35
        },
        "outputId": "1610fb93-9769-407c-d967-6a63df660737"
      },
      "source": [
        "X_temp = df1.iloc[:, [6,8,9,10,12,13,14,15,16,17]].values\n",
        "X_temp.shape"
      ],
      "execution_count": 72,
      "outputs": [
        {
          "output_type": "execute_result",
          "data": {
            "text/plain": [
              "(753, 10)"
            ]
          },
          "metadata": {
            "tags": []
          },
          "execution_count": 72
        }
      ]
    },
    {
      "cell_type": "code",
      "metadata": {
        "id": "fM0ZTHw0oRUr",
        "colab_type": "code",
        "colab": {
          "base_uri": "https://localhost:8080/",
          "height": 35
        },
        "outputId": "05c7b94e-2372-4789-9c76-461fa150d1c9"
      },
      "source": [
        "X_temp = np.repeat(X_temp[:, np.newaxis, :], 8, axis=1)\n",
        "X_temp.shape"
      ],
      "execution_count": 75,
      "outputs": [
        {
          "output_type": "execute_result",
          "data": {
            "text/plain": [
              "(753, 8, 10)"
            ]
          },
          "metadata": {
            "tags": []
          },
          "execution_count": 75
        }
      ]
    },
    {
      "cell_type": "code",
      "metadata": {
        "id": "USchTtuy2o1u",
        "colab_type": "code",
        "colab": {
          "base_uri": "https://localhost:8080/",
          "height": 867
        },
        "outputId": "c24d8337-51de-41d7-f102-06285700aac7"
      },
      "source": [
        "X_temp"
      ],
      "execution_count": 76,
      "outputs": [
        {
          "output_type": "execute_result",
          "data": {
            "text/plain": [
              "array([[[54., 10.,  0., ...,  0.,  1.,  0.],\n",
              "        [54., 10.,  0., ...,  0.,  1.,  0.],\n",
              "        [54., 10.,  0., ...,  0.,  1.,  0.],\n",
              "        ...,\n",
              "        [54., 10.,  0., ...,  0.,  1.,  0.],\n",
              "        [54., 10.,  0., ...,  0.,  1.,  0.],\n",
              "        [54., 10.,  0., ...,  0.,  1.,  0.]],\n",
              "\n",
              "       [[ 2., 61.,  0., ...,  0.,  0.,  1.],\n",
              "        [ 2., 61.,  0., ...,  0.,  0.,  1.],\n",
              "        [ 2., 61.,  0., ...,  0.,  0.,  1.],\n",
              "        ...,\n",
              "        [ 2., 61.,  0., ...,  0.,  0.,  1.],\n",
              "        [ 2., 61.,  0., ...,  0.,  0.,  1.],\n",
              "        [ 2., 61.,  0., ...,  0.,  0.,  1.]],\n",
              "\n",
              "       [[12.,  1.,  0., ...,  0.,  1.,  0.],\n",
              "        [12.,  1.,  0., ...,  0.,  1.,  0.],\n",
              "        [12.,  1.,  0., ...,  0.,  1.,  0.],\n",
              "        ...,\n",
              "        [12.,  1.,  0., ...,  0.,  1.,  0.],\n",
              "        [12.,  1.,  0., ...,  0.,  1.,  0.],\n",
              "        [12.,  1.,  0., ...,  0.,  1.,  0.]],\n",
              "\n",
              "       ...,\n",
              "\n",
              "       [[15.,  0.,  0., ...,  0.,  1.,  0.],\n",
              "        [15.,  0.,  0., ...,  0.,  1.,  0.],\n",
              "        [15.,  0.,  0., ...,  0.,  1.,  0.],\n",
              "        ...,\n",
              "        [15.,  0.,  0., ...,  0.,  1.,  0.],\n",
              "        [15.,  0.,  0., ...,  0.,  1.,  0.],\n",
              "        [15.,  0.,  0., ...,  0.,  1.,  0.]],\n",
              "\n",
              "       [[ 1.,  0.,  0., ...,  0.,  1.,  0.],\n",
              "        [ 1.,  0.,  0., ...,  0.,  1.,  0.],\n",
              "        [ 1.,  0.,  0., ...,  0.,  1.,  0.],\n",
              "        ...,\n",
              "        [ 1.,  0.,  0., ...,  0.,  1.,  0.],\n",
              "        [ 1.,  0.,  0., ...,  0.,  1.,  0.],\n",
              "        [ 1.,  0.,  0., ...,  0.,  1.,  0.]],\n",
              "\n",
              "       [[20.,  0.,  0., ...,  0.,  1.,  0.],\n",
              "        [20.,  0.,  0., ...,  0.,  1.,  0.],\n",
              "        [20.,  0.,  0., ...,  0.,  1.,  0.],\n",
              "        ...,\n",
              "        [20.,  0.,  0., ...,  0.,  1.,  0.],\n",
              "        [20.,  0.,  0., ...,  0.,  1.,  0.],\n",
              "        [20.,  0.,  0., ...,  0.,  1.,  0.]]])"
            ]
          },
          "metadata": {
            "tags": []
          },
          "execution_count": 76
        }
      ]
    },
    {
      "cell_type": "code",
      "metadata": {
        "id": "xv90TML_23oV",
        "colab_type": "code",
        "colab": {}
      },
      "source": [
        "# now the first two axes of reshaped_segments and X_temp have the same shape\n",
        "# append the values in reshaped_segments to X_temp along the last axis\n",
        "# X is our training data\n",
        "X = np.append(reshaped_segments, X_temp, axis=2)"
      ],
      "execution_count": 0,
      "outputs": []
    },
    {
      "cell_type": "markdown",
      "metadata": {
        "id": "OxZZH89v3W2n",
        "colab_type": "text"
      },
      "source": [
        "##Model Building"
      ]
    },
    {
      "cell_type": "markdown",
      "metadata": {
        "id": "GbffAMvy6kQZ",
        "colab_type": "text"
      },
      "source": [
        "We will build a LSTM network"
      ]
    },
    {
      "cell_type": "code",
      "metadata": {
        "id": "eUoRytoU3GRY",
        "colab_type": "code",
        "colab": {
          "base_uri": "https://localhost:8080/",
          "height": 35
        },
        "outputId": "26e825a5-e8cb-4c29-c918-56d2fd2c6dda"
      },
      "source": [
        "import tensorflow.keras\n",
        "from keras.layers import *\n",
        "from keras.models import Sequential\n",
        "import keras.backend as k"
      ],
      "execution_count": 83,
      "outputs": [
        {
          "output_type": "stream",
          "text": [
            "Using TensorFlow backend.\n"
          ],
          "name": "stderr"
        }
      ]
    },
    {
      "cell_type": "code",
      "metadata": {
        "id": "_ucxNSCs3KfZ",
        "colab_type": "code",
        "colab": {}
      },
      "source": [
        "model = Sequential()\n",
        "model.add(LSTM(64,input_shape=(8,11) , return_sequences=True))\n",
        "model.add(Dropout(0.25))\n",
        "model.add(LSTM(32 , return_sequences=True ))\n",
        "model.add(Dropout(0.25))\n",
        "model.add(LSTM(32))\n",
        "model.add(Dropout(0.25))\n",
        "model.add(Dense(1, activation='sigmoid'))\n",
        "model.compile(loss='mean_squared_error' , optimizer='adam' , metrics=['accuracy'] )"
      ],
      "execution_count": 0,
      "outputs": []
    },
    {
      "cell_type": "code",
      "metadata": {
        "id": "Bm-uPUOJ3q7n",
        "colab_type": "code",
        "colab": {
          "base_uri": "https://localhost:8080/",
          "height": 399
        },
        "outputId": "02ab3b98-5e17-4ddb-bf74-fd0f9c46c94d"
      },
      "source": [
        "model.summary()"
      ],
      "execution_count": 127,
      "outputs": [
        {
          "output_type": "stream",
          "text": [
            "Model: \"sequential_13\"\n",
            "_________________________________________________________________\n",
            "Layer (type)                 Output Shape              Param #   \n",
            "=================================================================\n",
            "lstm_32 (LSTM)               (None, 8, 64)             19456     \n",
            "_________________________________________________________________\n",
            "dropout_32 (Dropout)         (None, 8, 64)             0         \n",
            "_________________________________________________________________\n",
            "lstm_33 (LSTM)               (None, 8, 32)             12416     \n",
            "_________________________________________________________________\n",
            "dropout_33 (Dropout)         (None, 8, 32)             0         \n",
            "_________________________________________________________________\n",
            "lstm_34 (LSTM)               (None, 32)                8320      \n",
            "_________________________________________________________________\n",
            "dropout_34 (Dropout)         (None, 32)                0         \n",
            "_________________________________________________________________\n",
            "dense_13 (Dense)             (None, 1)                 33        \n",
            "=================================================================\n",
            "Total params: 40,225\n",
            "Trainable params: 40,225\n",
            "Non-trainable params: 0\n",
            "_________________________________________________________________\n"
          ],
          "name": "stdout"
        }
      ]
    },
    {
      "cell_type": "code",
      "metadata": {
        "id": "e-h-byBm3tKw",
        "colab_type": "code",
        "colab": {
          "base_uri": "https://localhost:8080/",
          "height": 575
        },
        "outputId": "e8b25117-f1d0-4923-b231-e7eabec321e0"
      },
      "source": [
        "epochs_hist = model.fit(X , labels  , batch_size=128 , epochs=15 , validation_split=0.2)\n"
      ],
      "execution_count": 128,
      "outputs": [
        {
          "output_type": "stream",
          "text": [
            "Train on 602 samples, validate on 151 samples\n",
            "Epoch 1/15\n",
            "602/602 [==============================] - 1s 2ms/step - loss: 0.2419 - accuracy: 0.5947 - val_loss: 0.2222 - val_accuracy: 0.6887\n",
            "Epoch 2/15\n",
            "602/602 [==============================] - 0s 231us/step - loss: 0.2185 - accuracy: 0.6711 - val_loss: 0.2098 - val_accuracy: 0.6887\n",
            "Epoch 3/15\n",
            "602/602 [==============================] - 0s 235us/step - loss: 0.2114 - accuracy: 0.6728 - val_loss: 0.2071 - val_accuracy: 0.6887\n",
            "Epoch 4/15\n",
            "602/602 [==============================] - 0s 228us/step - loss: 0.2085 - accuracy: 0.6744 - val_loss: 0.2066 - val_accuracy: 0.6954\n",
            "Epoch 5/15\n",
            "602/602 [==============================] - 0s 227us/step - loss: 0.2050 - accuracy: 0.6794 - val_loss: 0.2056 - val_accuracy: 0.6954\n",
            "Epoch 6/15\n",
            "602/602 [==============================] - 0s 231us/step - loss: 0.2029 - accuracy: 0.6777 - val_loss: 0.2063 - val_accuracy: 0.6821\n",
            "Epoch 7/15\n",
            "602/602 [==============================] - 0s 257us/step - loss: 0.2017 - accuracy: 0.6877 - val_loss: 0.2062 - val_accuracy: 0.6755\n",
            "Epoch 8/15\n",
            "602/602 [==============================] - 0s 239us/step - loss: 0.2020 - accuracy: 0.6761 - val_loss: 0.2042 - val_accuracy: 0.6755\n",
            "Epoch 9/15\n",
            "602/602 [==============================] - 0s 232us/step - loss: 0.1997 - accuracy: 0.6910 - val_loss: 0.2025 - val_accuracy: 0.6954\n",
            "Epoch 10/15\n",
            "602/602 [==============================] - 0s 233us/step - loss: 0.1991 - accuracy: 0.6894 - val_loss: 0.2009 - val_accuracy: 0.7086\n",
            "Epoch 11/15\n",
            "602/602 [==============================] - 0s 238us/step - loss: 0.1931 - accuracy: 0.6993 - val_loss: 0.1982 - val_accuracy: 0.7152\n",
            "Epoch 12/15\n",
            "602/602 [==============================] - 0s 228us/step - loss: 0.1972 - accuracy: 0.6927 - val_loss: 0.1956 - val_accuracy: 0.7351\n",
            "Epoch 13/15\n",
            "602/602 [==============================] - 0s 225us/step - loss: 0.1928 - accuracy: 0.7010 - val_loss: 0.1928 - val_accuracy: 0.7550\n",
            "Epoch 14/15\n",
            "602/602 [==============================] - 0s 243us/step - loss: 0.1905 - accuracy: 0.7226 - val_loss: 0.1904 - val_accuracy: 0.7483\n",
            "Epoch 15/15\n",
            "602/602 [==============================] - 0s 241us/step - loss: 0.1897 - accuracy: 0.7159 - val_loss: 0.1885 - val_accuracy: 0.7483\n"
          ],
          "name": "stdout"
        }
      ]
    },
    {
      "cell_type": "markdown",
      "metadata": {
        "id": "0vQtANHo33Xu",
        "colab_type": "text"
      },
      "source": [
        "Model Evaluation"
      ]
    },
    {
      "cell_type": "code",
      "metadata": {
        "id": "UnzMccPi3xV_",
        "colab_type": "code",
        "colab": {
          "base_uri": "https://localhost:8080/",
          "height": 295
        },
        "outputId": "0579e53b-04bf-4c10-dc18-b1f7357529a7"
      },
      "source": [
        "plt.plot(epochs_hist.history['loss'])\n",
        "plt.plot(epochs_hist.history['val_loss'])\n",
        "plt.title('model-loss')\n",
        "plt.ylabel('training and validation loss')\n",
        "plt.xlabel('no. of epochs')\n",
        "plt.legend(['Training loss' , 'validation loss'])\n",
        "plt.show()"
      ],
      "execution_count": 129,
      "outputs": [
        {
          "output_type": "display_data",
          "data": {
            "image/png": "[encoded data removed]",
            "text/plain": [
              "<Figure size 432x288 with 1 Axes>"
            ]
          },
          "metadata": {
            "tags": [],
            "needs_background": "light"
          }
        }
      ]
    },
    {
      "cell_type": "code",
      "metadata": {
        "id": "Lks5SFmD4KSN",
        "colab_type": "code",
        "colab": {}
      },
      "source": [
        ""
      ],
      "execution_count": 0,
      "outputs": []
    }
  ]
}